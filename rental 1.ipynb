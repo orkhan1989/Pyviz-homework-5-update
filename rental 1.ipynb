{
 "cells": [
  {
   "cell_type": "markdown",
   "id": "7fd6f8bd-44a0-487c-8a81-dff8ee52ee5a",
   "metadata": {},
   "source": [
    "## San Francisco Housing Cost Analysis"
   ]
  },
  {
   "cell_type": "code",
   "execution_count": 92,
   "id": "8fbf1b28-cdf1-4562-a19c-0cdbf1fa7c0c",
   "metadata": {},
   "outputs": [],
   "source": [
    "# imports\n",
    "import panel as pn\n",
    "pn.extension('plotly')\n",
    "import plotly.express as px\n",
    "import pandas as pd\n",
    "import hvplot.pandas\n",
    "import matplotlib.pyplot as plt\n",
    "import numpy as np\n",
    "import os\n",
    "from pathlib import Path\n",
    "from dotenv import load_dotenv\n",
    "\n",
    "import warnings\n",
    "warnings.filterwarnings('ignore')"
   ]
  },
  {
   "cell_type": "code",
   "execution_count": 93,
   "id": "d8cbfe6b-66ec-4622-b24c-ccc014b72895",
   "metadata": {},
   "outputs": [],
   "source": [
    "# Read the Mapbox API key\n",
    "load_dotenv()\n",
    "map_box_api = os.getenv(\"mapbox\")"
   ]
  },
  {
   "cell_type": "markdown",
   "id": "96b6b0c4-eef9-4ced-b22a-d39fdb13d00e",
   "metadata": {},
   "source": [
    "## Load Data"
   ]
  },
  {
   "cell_type": "code",
   "execution_count": 94,
   "id": "90df5fdb-1271-405b-894f-16388f107e3e",
   "metadata": {},
   "outputs": [
    {
     "data": {
      "text/html": [
       "<div>\n",
       "<style scoped>\n",
       "    .dataframe tbody tr th:only-of-type {\n",
       "        vertical-align: middle;\n",
       "    }\n",
       "\n",
       "    .dataframe tbody tr th {\n",
       "        vertical-align: top;\n",
       "    }\n",
       "\n",
       "    .dataframe thead th {\n",
       "        text-align: right;\n",
       "    }\n",
       "</style>\n",
       "<table border=\"1\" class=\"dataframe\">\n",
       "  <thead>\n",
       "    <tr style=\"text-align: right;\">\n",
       "      <th></th>\n",
       "      <th>year</th>\n",
       "      <th>neighborhood</th>\n",
       "      <th>sale_price_sqr_foot</th>\n",
       "      <th>housing_units</th>\n",
       "      <th>gross_rent</th>\n",
       "    </tr>\n",
       "  </thead>\n",
       "  <tbody>\n",
       "    <tr>\n",
       "      <th>0</th>\n",
       "      <td>2010</td>\n",
       "      <td>Alamo Square</td>\n",
       "      <td>291.182945</td>\n",
       "      <td>372560</td>\n",
       "      <td>1239</td>\n",
       "    </tr>\n",
       "    <tr>\n",
       "      <th>1</th>\n",
       "      <td>2010</td>\n",
       "      <td>Anza Vista</td>\n",
       "      <td>267.932583</td>\n",
       "      <td>372560</td>\n",
       "      <td>1239</td>\n",
       "    </tr>\n",
       "    <tr>\n",
       "      <th>2</th>\n",
       "      <td>2010</td>\n",
       "      <td>Bayview</td>\n",
       "      <td>170.098665</td>\n",
       "      <td>372560</td>\n",
       "      <td>1239</td>\n",
       "    </tr>\n",
       "    <tr>\n",
       "      <th>3</th>\n",
       "      <td>2010</td>\n",
       "      <td>Buena Vista Park</td>\n",
       "      <td>347.394919</td>\n",
       "      <td>372560</td>\n",
       "      <td>1239</td>\n",
       "    </tr>\n",
       "    <tr>\n",
       "      <th>4</th>\n",
       "      <td>2010</td>\n",
       "      <td>Central Richmond</td>\n",
       "      <td>319.027623</td>\n",
       "      <td>372560</td>\n",
       "      <td>1239</td>\n",
       "    </tr>\n",
       "  </tbody>\n",
       "</table>\n",
       "</div>"
      ],
      "text/plain": [
       "   year      neighborhood  sale_price_sqr_foot  housing_units  gross_rent\n",
       "0  2010      Alamo Square           291.182945         372560        1239\n",
       "1  2010        Anza Vista           267.932583         372560        1239\n",
       "2  2010           Bayview           170.098665         372560        1239\n",
       "3  2010  Buena Vista Park           347.394919         372560        1239\n",
       "4  2010  Central Richmond           319.027623         372560        1239"
      ]
     },
     "execution_count": 94,
     "metadata": {},
     "output_type": "execute_result"
    }
   ],
   "source": [
    "# Read the census data into a Pandas DataFrame\n",
    "sfo_data = pd.read_csv('sfo_neighborhoods_census_data.csv')\n",
    "sfo_data.head()"
   ]
  },
  {
   "cell_type": "markdown",
   "id": "5c87feb4-f877-4970-8c5c-b19a368a0cba",
   "metadata": {},
   "source": [
    "## Housing units per year "
   ]
  },
  {
   "cell_type": "code",
   "execution_count": 95,
   "id": "72282668-698a-4214-8a60-99d4a9a89276",
   "metadata": {},
   "outputs": [
    {
     "data": {
      "text/html": [
       "<div>\n",
       "<style scoped>\n",
       "    .dataframe tbody tr th:only-of-type {\n",
       "        vertical-align: middle;\n",
       "    }\n",
       "\n",
       "    .dataframe tbody tr th {\n",
       "        vertical-align: top;\n",
       "    }\n",
       "\n",
       "    .dataframe thead th {\n",
       "        text-align: right;\n",
       "    }\n",
       "</style>\n",
       "<table border=\"1\" class=\"dataframe\">\n",
       "  <thead>\n",
       "    <tr style=\"text-align: right;\">\n",
       "      <th></th>\n",
       "      <th>sale_price_sqr_foot</th>\n",
       "      <th>housing_units</th>\n",
       "      <th>gross_rent</th>\n",
       "    </tr>\n",
       "    <tr>\n",
       "      <th>year</th>\n",
       "      <th></th>\n",
       "      <th></th>\n",
       "      <th></th>\n",
       "    </tr>\n",
       "  </thead>\n",
       "  <tbody>\n",
       "    <tr>\n",
       "      <th>2010</th>\n",
       "      <td>369.344353</td>\n",
       "      <td>372560.0</td>\n",
       "      <td>1239.0</td>\n",
       "    </tr>\n",
       "    <tr>\n",
       "      <th>2011</th>\n",
       "      <td>341.903429</td>\n",
       "      <td>374507.0</td>\n",
       "      <td>1530.0</td>\n",
       "    </tr>\n",
       "    <tr>\n",
       "      <th>2012</th>\n",
       "      <td>399.389968</td>\n",
       "      <td>376454.0</td>\n",
       "      <td>2324.0</td>\n",
       "    </tr>\n",
       "    <tr>\n",
       "      <th>2013</th>\n",
       "      <td>483.600304</td>\n",
       "      <td>378401.0</td>\n",
       "      <td>2971.0</td>\n",
       "    </tr>\n",
       "    <tr>\n",
       "      <th>2014</th>\n",
       "      <td>556.277273</td>\n",
       "      <td>380348.0</td>\n",
       "      <td>3528.0</td>\n",
       "    </tr>\n",
       "  </tbody>\n",
       "</table>\n",
       "</div>"
      ],
      "text/plain": [
       "      sale_price_sqr_foot  housing_units  gross_rent\n",
       "year                                                \n",
       "2010           369.344353       372560.0      1239.0\n",
       "2011           341.903429       374507.0      1530.0\n",
       "2012           399.389968       376454.0      2324.0\n",
       "2013           483.600304       378401.0      2971.0\n",
       "2014           556.277273       380348.0      3528.0"
      ]
     },
     "execution_count": 95,
     "metadata": {},
     "output_type": "execute_result"
    }
   ],
   "source": [
    "# Read the census data \n",
    "sfo_data = pd.read_csv('sfo_neighborhoods_census_data.csv')\n",
    "\n",
    "# group data by year for yearly analysis\n",
    "sfo_data = sfo_data.groupby('year').mean()\n",
    "sfo_data.head()"
   ]
  },
  {
   "cell_type": "code",
   "execution_count": 96,
   "id": "2825afa5-0f0f-4dc9-9793-f651c6645bd2",
   "metadata": {},
   "outputs": [
    {
     "data": {
      "image/png": "[encoded data removed]",
      "text/plain": [
       "<Figure size 432x288 with 1 Axes>"
      ]
     },
     "metadata": {
      "needs_background": "light"
     },
     "output_type": "display_data"
    }
   ],
   "source": [
    "# Use the Pandas plot function to plot the average housing units per year.\n",
    "import pandas as pd\n",
    "import matplotlib.pyplot as plt\n",
    "# Note: You will need to manually adjust the y limit of the chart using the min and max values from above.\n",
    "sfo_data = {'Year': [2010,2011,2012,2013,2014,2015,2016],\n",
    "            'housing_units': [372560.0,374507.0,376454.0,378401.0,380348.0,382295.0,384242.0]\n",
    "           }\n",
    "df = pd.DataFrame(sfo_data,columns=['Year','housing_units'])\n",
    "df.plot(x ='Year', y='housing_units', kind = 'bar')\n",
    "plt.show()"
   ]
  },
  {
   "cell_type": "markdown",
   "id": "cbf41a7c-05b5-4f0e-aa7d-4a860d2be6d3",
   "metadata": {},
   "source": [
    "## Average Housing Costs in San Francisco Per Year\n",
    "\n",
    "In this section, you will calculate the average monthly rent and the average price per square foot for each year. An investor may wish to better understand the sales price of the rental property over time. For example, a customer will want to know if they should expect an increase or decrease in the property value over time so they can determine how long to hold the rental property.  Plot the results as two line charts.\n",
    "\n",
    "**Optional challenge:** Plot each line chart in a different color."
   ]
  },
  {
   "cell_type": "code",
   "execution_count": 97,
   "id": "970222e5-338a-4ffd-a534-6a07baf3e506",
   "metadata": {},
   "outputs": [],
   "source": [
    "# Calculate the average sale price per square foot and average gross rent\n",
    "sfo_data = pd.read_csv(\"sfo_neighborhoods_census_data.csv\")"
   ]
  },
  {
   "cell_type": "code",
   "execution_count": 98,
   "id": "c1d8a1dd-2b4f-433c-a412-48c63f810915",
   "metadata": {},
   "outputs": [
    {
     "data": {
      "text/html": [
       "<div>\n",
       "<style scoped>\n",
       "    .dataframe tbody tr th:only-of-type {\n",
       "        vertical-align: middle;\n",
       "    }\n",
       "\n",
       "    .dataframe tbody tr th {\n",
       "        vertical-align: top;\n",
       "    }\n",
       "\n",
       "    .dataframe thead th {\n",
       "        text-align: right;\n",
       "    }\n",
       "</style>\n",
       "<table border=\"1\" class=\"dataframe\">\n",
       "  <thead>\n",
       "    <tr style=\"text-align: right;\">\n",
       "      <th></th>\n",
       "      <th>year</th>\n",
       "      <th>neighborhood</th>\n",
       "      <th>sale_price_sqr_foot</th>\n",
       "      <th>housing_units</th>\n",
       "      <th>gross_rent</th>\n",
       "    </tr>\n",
       "  </thead>\n",
       "  <tbody>\n",
       "    <tr>\n",
       "      <th>0</th>\n",
       "      <td>2010</td>\n",
       "      <td>Alamo Square</td>\n",
       "      <td>291.182945</td>\n",
       "      <td>372560</td>\n",
       "      <td>1239</td>\n",
       "    </tr>\n",
       "    <tr>\n",
       "      <th>1</th>\n",
       "      <td>2010</td>\n",
       "      <td>Anza Vista</td>\n",
       "      <td>267.932583</td>\n",
       "      <td>372560</td>\n",
       "      <td>1239</td>\n",
       "    </tr>\n",
       "    <tr>\n",
       "      <th>2</th>\n",
       "      <td>2010</td>\n",
       "      <td>Bayview</td>\n",
       "      <td>170.098665</td>\n",
       "      <td>372560</td>\n",
       "      <td>1239</td>\n",
       "    </tr>\n",
       "    <tr>\n",
       "      <th>3</th>\n",
       "      <td>2010</td>\n",
       "      <td>Buena Vista Park</td>\n",
       "      <td>347.394919</td>\n",
       "      <td>372560</td>\n",
       "      <td>1239</td>\n",
       "    </tr>\n",
       "    <tr>\n",
       "      <th>4</th>\n",
       "      <td>2010</td>\n",
       "      <td>Central Richmond</td>\n",
       "      <td>319.027623</td>\n",
       "      <td>372560</td>\n",
       "      <td>1239</td>\n",
       "    </tr>\n",
       "  </tbody>\n",
       "</table>\n",
       "</div>"
      ],
      "text/plain": [
       "   year      neighborhood  sale_price_sqr_foot  housing_units  gross_rent\n",
       "0  2010      Alamo Square           291.182945         372560        1239\n",
       "1  2010        Anza Vista           267.932583         372560        1239\n",
       "2  2010           Bayview           170.098665         372560        1239\n",
       "3  2010  Buena Vista Park           347.394919         372560        1239\n",
       "4  2010  Central Richmond           319.027623         372560        1239"
      ]
     },
     "execution_count": 98,
     "metadata": {},
     "output_type": "execute_result"
    }
   ],
   "source": [
    "sfo_data.head()"
   ]
  },
  {
   "cell_type": "code",
   "execution_count": 99,
   "id": "9572ebf2-31cd-4396-b27a-fc91ca1eae78",
   "metadata": {},
   "outputs": [],
   "source": [
    "sfo_data = sfo_data.drop([\"neighborhood\", \"housing_units\"], axis = 1)"
   ]
  },
  {
   "cell_type": "code",
   "execution_count": 100,
   "id": "abab9f06-26ed-4c7a-a11b-3f40dfb13adc",
   "metadata": {},
   "outputs": [
    {
     "data": {
      "text/html": [
       "<div>\n",
       "<style scoped>\n",
       "    .dataframe tbody tr th:only-of-type {\n",
       "        vertical-align: middle;\n",
       "    }\n",
       "\n",
       "    .dataframe tbody tr th {\n",
       "        vertical-align: top;\n",
       "    }\n",
       "\n",
       "    .dataframe thead th {\n",
       "        text-align: right;\n",
       "    }\n",
       "</style>\n",
       "<table border=\"1\" class=\"dataframe\">\n",
       "  <thead>\n",
       "    <tr style=\"text-align: right;\">\n",
       "      <th></th>\n",
       "      <th>year</th>\n",
       "      <th>sale_price_sqr_foot</th>\n",
       "      <th>gross_rent</th>\n",
       "    </tr>\n",
       "  </thead>\n",
       "  <tbody>\n",
       "    <tr>\n",
       "      <th>0</th>\n",
       "      <td>2010</td>\n",
       "      <td>291.182945</td>\n",
       "      <td>1239</td>\n",
       "    </tr>\n",
       "    <tr>\n",
       "      <th>1</th>\n",
       "      <td>2010</td>\n",
       "      <td>267.932583</td>\n",
       "      <td>1239</td>\n",
       "    </tr>\n",
       "    <tr>\n",
       "      <th>2</th>\n",
       "      <td>2010</td>\n",
       "      <td>170.098665</td>\n",
       "      <td>1239</td>\n",
       "    </tr>\n",
       "    <tr>\n",
       "      <th>3</th>\n",
       "      <td>2010</td>\n",
       "      <td>347.394919</td>\n",
       "      <td>1239</td>\n",
       "    </tr>\n",
       "    <tr>\n",
       "      <th>4</th>\n",
       "      <td>2010</td>\n",
       "      <td>319.027623</td>\n",
       "      <td>1239</td>\n",
       "    </tr>\n",
       "    <tr>\n",
       "      <th>...</th>\n",
       "      <td>...</td>\n",
       "      <td>...</td>\n",
       "      <td>...</td>\n",
       "    </tr>\n",
       "    <tr>\n",
       "      <th>392</th>\n",
       "      <td>2016</td>\n",
       "      <td>903.049771</td>\n",
       "      <td>4390</td>\n",
       "    </tr>\n",
       "    <tr>\n",
       "      <th>393</th>\n",
       "      <td>2016</td>\n",
       "      <td>970.085470</td>\n",
       "      <td>4390</td>\n",
       "    </tr>\n",
       "    <tr>\n",
       "      <th>394</th>\n",
       "      <td>2016</td>\n",
       "      <td>552.602567</td>\n",
       "      <td>4390</td>\n",
       "    </tr>\n",
       "    <tr>\n",
       "      <th>395</th>\n",
       "      <td>2016</td>\n",
       "      <td>328.319007</td>\n",
       "      <td>4390</td>\n",
       "    </tr>\n",
       "    <tr>\n",
       "      <th>396</th>\n",
       "      <td>2016</td>\n",
       "      <td>631.195426</td>\n",
       "      <td>4390</td>\n",
       "    </tr>\n",
       "  </tbody>\n",
       "</table>\n",
       "<p>397 rows × 3 columns</p>\n",
       "</div>"
      ],
      "text/plain": [
       "     year  sale_price_sqr_foot  gross_rent\n",
       "0    2010           291.182945        1239\n",
       "1    2010           267.932583        1239\n",
       "2    2010           170.098665        1239\n",
       "3    2010           347.394919        1239\n",
       "4    2010           319.027623        1239\n",
       "..    ...                  ...         ...\n",
       "392  2016           903.049771        4390\n",
       "393  2016           970.085470        4390\n",
       "394  2016           552.602567        4390\n",
       "395  2016           328.319007        4390\n",
       "396  2016           631.195426        4390\n",
       "\n",
       "[397 rows x 3 columns]"
      ]
     },
     "execution_count": 100,
     "metadata": {},
     "output_type": "execute_result"
    }
   ],
   "source": [
    "sfo_data"
   ]
  },
  {
   "cell_type": "code",
   "execution_count": 101,
   "id": "487d9ad0-5197-4b9d-8366-0f2887a7d18c",
   "metadata": {},
   "outputs": [
    {
     "data": {
      "text/html": [
       "<div>\n",
       "<style scoped>\n",
       "    .dataframe tbody tr th:only-of-type {\n",
       "        vertical-align: middle;\n",
       "    }\n",
       "\n",
       "    .dataframe tbody tr th {\n",
       "        vertical-align: top;\n",
       "    }\n",
       "\n",
       "    .dataframe thead th {\n",
       "        text-align: right;\n",
       "    }\n",
       "</style>\n",
       "<table border=\"1\" class=\"dataframe\">\n",
       "  <thead>\n",
       "    <tr style=\"text-align: right;\">\n",
       "      <th></th>\n",
       "      <th>sale_price_sqr_foot</th>\n",
       "      <th>gross_rent</th>\n",
       "    </tr>\n",
       "    <tr>\n",
       "      <th>year</th>\n",
       "      <th></th>\n",
       "      <th></th>\n",
       "    </tr>\n",
       "  </thead>\n",
       "  <tbody>\n",
       "    <tr>\n",
       "      <th>2010</th>\n",
       "      <td>291.182945</td>\n",
       "      <td>1239</td>\n",
       "    </tr>\n",
       "    <tr>\n",
       "      <th>2010</th>\n",
       "      <td>267.932583</td>\n",
       "      <td>1239</td>\n",
       "    </tr>\n",
       "    <tr>\n",
       "      <th>2010</th>\n",
       "      <td>170.098665</td>\n",
       "      <td>1239</td>\n",
       "    </tr>\n",
       "    <tr>\n",
       "      <th>2010</th>\n",
       "      <td>347.394919</td>\n",
       "      <td>1239</td>\n",
       "    </tr>\n",
       "    <tr>\n",
       "      <th>2010</th>\n",
       "      <td>319.027623</td>\n",
       "      <td>1239</td>\n",
       "    </tr>\n",
       "    <tr>\n",
       "      <th>...</th>\n",
       "      <td>...</td>\n",
       "      <td>...</td>\n",
       "    </tr>\n",
       "    <tr>\n",
       "      <th>2016</th>\n",
       "      <td>903.049771</td>\n",
       "      <td>4390</td>\n",
       "    </tr>\n",
       "    <tr>\n",
       "      <th>2016</th>\n",
       "      <td>970.085470</td>\n",
       "      <td>4390</td>\n",
       "    </tr>\n",
       "    <tr>\n",
       "      <th>2016</th>\n",
       "      <td>552.602567</td>\n",
       "      <td>4390</td>\n",
       "    </tr>\n",
       "    <tr>\n",
       "      <th>2016</th>\n",
       "      <td>328.319007</td>\n",
       "      <td>4390</td>\n",
       "    </tr>\n",
       "    <tr>\n",
       "      <th>2016</th>\n",
       "      <td>631.195426</td>\n",
       "      <td>4390</td>\n",
       "    </tr>\n",
       "  </tbody>\n",
       "</table>\n",
       "<p>397 rows × 2 columns</p>\n",
       "</div>"
      ],
      "text/plain": [
       "      sale_price_sqr_foot  gross_rent\n",
       "year                                 \n",
       "2010           291.182945        1239\n",
       "2010           267.932583        1239\n",
       "2010           170.098665        1239\n",
       "2010           347.394919        1239\n",
       "2010           319.027623        1239\n",
       "...                   ...         ...\n",
       "2016           903.049771        4390\n",
       "2016           970.085470        4390\n",
       "2016           552.602567        4390\n",
       "2016           328.319007        4390\n",
       "2016           631.195426        4390\n",
       "\n",
       "[397 rows x 2 columns]"
      ]
     },
     "execution_count": 101,
     "metadata": {},
     "output_type": "execute_result"
    }
   ],
   "source": [
    "sfo_data.set_index('year', inplace=True)\n",
    "sfo_data"
   ]
  },
  {
   "cell_type": "code",
   "execution_count": 102,
   "id": "519cc1d2-7acd-4f3e-921d-7c61209103dc",
   "metadata": {},
   "outputs": [
    {
     "data": {
      "text/html": [
       "<div>\n",
       "<style scoped>\n",
       "    .dataframe tbody tr th:only-of-type {\n",
       "        vertical-align: middle;\n",
       "    }\n",
       "\n",
       "    .dataframe tbody tr th {\n",
       "        vertical-align: top;\n",
       "    }\n",
       "\n",
       "    .dataframe thead th {\n",
       "        text-align: right;\n",
       "    }\n",
       "</style>\n",
       "<table border=\"1\" class=\"dataframe\">\n",
       "  <thead>\n",
       "    <tr style=\"text-align: right;\">\n",
       "      <th></th>\n",
       "      <th>sale_price_sqr_foot</th>\n",
       "      <th>gross_rent</th>\n",
       "    </tr>\n",
       "    <tr>\n",
       "      <th>year</th>\n",
       "      <th></th>\n",
       "      <th></th>\n",
       "    </tr>\n",
       "  </thead>\n",
       "  <tbody>\n",
       "    <tr>\n",
       "      <th>2010</th>\n",
       "      <td>369.344353</td>\n",
       "      <td>1239.0</td>\n",
       "    </tr>\n",
       "    <tr>\n",
       "      <th>2011</th>\n",
       "      <td>341.903429</td>\n",
       "      <td>1530.0</td>\n",
       "    </tr>\n",
       "    <tr>\n",
       "      <th>2012</th>\n",
       "      <td>399.389968</td>\n",
       "      <td>2324.0</td>\n",
       "    </tr>\n",
       "    <tr>\n",
       "      <th>2013</th>\n",
       "      <td>483.600304</td>\n",
       "      <td>2971.0</td>\n",
       "    </tr>\n",
       "    <tr>\n",
       "      <th>2014</th>\n",
       "      <td>556.277273</td>\n",
       "      <td>3528.0</td>\n",
       "    </tr>\n",
       "    <tr>\n",
       "      <th>2015</th>\n",
       "      <td>632.540352</td>\n",
       "      <td>3739.0</td>\n",
       "    </tr>\n",
       "    <tr>\n",
       "      <th>2016</th>\n",
       "      <td>697.643709</td>\n",
       "      <td>4390.0</td>\n",
       "    </tr>\n",
       "  </tbody>\n",
       "</table>\n",
       "</div>"
      ],
      "text/plain": [
       "      sale_price_sqr_foot  gross_rent\n",
       "year                                 \n",
       "2010           369.344353      1239.0\n",
       "2011           341.903429      1530.0\n",
       "2012           399.389968      2324.0\n",
       "2013           483.600304      2971.0\n",
       "2014           556.277273      3528.0\n",
       "2015           632.540352      3739.0\n",
       "2016           697.643709      4390.0"
      ]
     },
     "execution_count": 102,
     "metadata": {},
     "output_type": "execute_result"
    }
   ],
   "source": [
    "# Calculate the average sale price per square foot and average gross rent\n",
    "sfo_data = sfo_data.groupby(\"year\").mean()\n",
    "sfo_data"
   ]
  },
  {
   "cell_type": "code",
   "execution_count": 103,
   "id": "c64a3fb1-2489-40e1-9185-11f735c737c8",
   "metadata": {},
   "outputs": [
    {
     "data": {
      "image/png": "[encoded data removed]",
      "text/plain": [
       "<Figure size 432x288 with 1 Axes>"
      ]
     },
     "metadata": {
      "needs_background": "light"
     },
     "output_type": "display_data"
    }
   ],
   "source": [
    "# Create two line charts, one to plot the average sale price per square foot and another for average montly rent\n",
    "\n",
    "# Line chart for average sale price per square foot\n",
    "import pandas as pd\n",
    "import matplotlib.pyplot as plt\n",
    "   \n",
    "Data = {'year': [2010,2011,2012,2013,2014,2015,2016],\n",
    "        'sale_price_sqr_foot': [369.344353,341.903429,399.389968,483.600304,556.277273,632.540352,697.643709]\n",
    "       }\n",
    "  \n",
    "df = pd.DataFrame(Data,columns=['year','sale_price_sqr_foot'])\n",
    "  \n",
    "plt.plot(df['year'], df['sale_price_sqr_foot'], color='red', marker='o')\n",
    "plt.title('sale_price_sqr_foot Vs year', fontsize=16)\n",
    "plt.xlabel('year', fontsize=16)\n",
    "plt.ylabel('sale_price_sqr_foot', fontsize=16)\n",
    "plt.grid(True)\n",
    "plt.show()"
   ]
  },
  {
   "cell_type": "code",
   "execution_count": 104,
   "id": "33d85cd0-91b3-46f6-b6c8-555ddc57aaa0",
   "metadata": {},
   "outputs": [
    {
     "data": {
      "image/png": "[encoded data removed]",
      "text/plain": [
       "<Figure size 432x288 with 1 Axes>"
      ]
     },
     "metadata": {
      "needs_background": "light"
     },
     "output_type": "display_data"
    }
   ],
   "source": [
    "# Line chart for average montly rent\n",
    "Data = {'year': [2010,2011,2012,2013,2014,2015,2016],\n",
    "        'gross_rent': [1239,1530,2324,2971,3528,3739,4390]\n",
    "       }\n",
    "  \n",
    "df = pd.DataFrame(Data,columns=['year','gross_rent'])\n",
    "  \n",
    "plt.plot(df['year'], df['gross_rent'], color='blue', marker='o')\n",
    "plt.title('gross_rent Vs year', fontsize=16)\n",
    "plt.xlabel('year', fontsize=16)\n",
    "plt.ylabel('gross_rent', fontsize=16)\n",
    "plt.grid(True)\n",
    "plt.show()"
   ]
  },
  {
   "cell_type": "markdown",
   "id": "775ccdfa-3f4b-4400-bed8-7c4d8a3f8a8a",
   "metadata": {},
   "source": [
    "## Average Prices by Neighborhood\n",
    "\n",
    "In this section, you will use hvplot to create two interactive visulizations of average prices with a dropdown selector for the neighborhood. The first visualization will be a line plot showing the trend of average price per square foot over time for each neighborhood.  The second will be a line plot showing the trend of average montly rent over time for each neighborhood.\n",
    "\n",
    "**Hint:** It will be easier to create a new DataFrame from grouping the data and calculating the mean prices for each year and neighborhood"
   ]
  },
  {
   "cell_type": "code",
   "execution_count": 105,
   "id": "e952ca12-7c3d-4b4a-bfc7-95595f92583f",
   "metadata": {},
   "outputs": [
    {
     "data": {
      "text/html": [
       "<div>\n",
       "<style scoped>\n",
       "    .dataframe tbody tr th:only-of-type {\n",
       "        vertical-align: middle;\n",
       "    }\n",
       "\n",
       "    .dataframe tbody tr th {\n",
       "        vertical-align: top;\n",
       "    }\n",
       "\n",
       "    .dataframe thead th {\n",
       "        text-align: right;\n",
       "    }\n",
       "</style>\n",
       "<table border=\"1\" class=\"dataframe\">\n",
       "  <thead>\n",
       "    <tr style=\"text-align: right;\">\n",
       "      <th></th>\n",
       "      <th>year</th>\n",
       "      <th>neighborhood</th>\n",
       "      <th>sale_price_sqr_foot</th>\n",
       "      <th>housing_units</th>\n",
       "      <th>gross_rent</th>\n",
       "    </tr>\n",
       "  </thead>\n",
       "  <tbody>\n",
       "    <tr>\n",
       "      <th>0</th>\n",
       "      <td>2010</td>\n",
       "      <td>Alamo Square</td>\n",
       "      <td>291.182945</td>\n",
       "      <td>372560</td>\n",
       "      <td>1239</td>\n",
       "    </tr>\n",
       "    <tr>\n",
       "      <th>1</th>\n",
       "      <td>2010</td>\n",
       "      <td>Anza Vista</td>\n",
       "      <td>267.932583</td>\n",
       "      <td>372560</td>\n",
       "      <td>1239</td>\n",
       "    </tr>\n",
       "    <tr>\n",
       "      <th>2</th>\n",
       "      <td>2010</td>\n",
       "      <td>Bayview</td>\n",
       "      <td>170.098665</td>\n",
       "      <td>372560</td>\n",
       "      <td>1239</td>\n",
       "    </tr>\n",
       "    <tr>\n",
       "      <th>3</th>\n",
       "      <td>2010</td>\n",
       "      <td>Buena Vista Park</td>\n",
       "      <td>347.394919</td>\n",
       "      <td>372560</td>\n",
       "      <td>1239</td>\n",
       "    </tr>\n",
       "    <tr>\n",
       "      <th>4</th>\n",
       "      <td>2010</td>\n",
       "      <td>Central Richmond</td>\n",
       "      <td>319.027623</td>\n",
       "      <td>372560</td>\n",
       "      <td>1239</td>\n",
       "    </tr>\n",
       "    <tr>\n",
       "      <th>5</th>\n",
       "      <td>2010</td>\n",
       "      <td>Central Sunset</td>\n",
       "      <td>418.172493</td>\n",
       "      <td>372560</td>\n",
       "      <td>1239</td>\n",
       "    </tr>\n",
       "    <tr>\n",
       "      <th>6</th>\n",
       "      <td>2010</td>\n",
       "      <td>Corona Heights</td>\n",
       "      <td>369.359338</td>\n",
       "      <td>372560</td>\n",
       "      <td>1239</td>\n",
       "    </tr>\n",
       "    <tr>\n",
       "      <th>7</th>\n",
       "      <td>2010</td>\n",
       "      <td>Cow Hollow</td>\n",
       "      <td>569.379968</td>\n",
       "      <td>372560</td>\n",
       "      <td>1239</td>\n",
       "    </tr>\n",
       "    <tr>\n",
       "      <th>8</th>\n",
       "      <td>2010</td>\n",
       "      <td>Croker Amazon</td>\n",
       "      <td>165.645730</td>\n",
       "      <td>372560</td>\n",
       "      <td>1239</td>\n",
       "    </tr>\n",
       "    <tr>\n",
       "      <th>9</th>\n",
       "      <td>2010</td>\n",
       "      <td>Diamond Heights</td>\n",
       "      <td>456.930822</td>\n",
       "      <td>372560</td>\n",
       "      <td>1239</td>\n",
       "    </tr>\n",
       "  </tbody>\n",
       "</table>\n",
       "</div>"
      ],
      "text/plain": [
       "   year      neighborhood  sale_price_sqr_foot  housing_units  gross_rent\n",
       "0  2010      Alamo Square           291.182945         372560        1239\n",
       "1  2010        Anza Vista           267.932583         372560        1239\n",
       "2  2010           Bayview           170.098665         372560        1239\n",
       "3  2010  Buena Vista Park           347.394919         372560        1239\n",
       "4  2010  Central Richmond           319.027623         372560        1239\n",
       "5  2010    Central Sunset           418.172493         372560        1239\n",
       "6  2010    Corona Heights           369.359338         372560        1239\n",
       "7  2010        Cow Hollow           569.379968         372560        1239\n",
       "8  2010     Croker Amazon           165.645730         372560        1239\n",
       "9  2010   Diamond Heights           456.930822         372560        1239"
      ]
     },
     "execution_count": 105,
     "metadata": {},
     "output_type": "execute_result"
    }
   ],
   "source": [
    "# Group by year and neighborhood and then create a new dataframe of the mean values\n",
    "sfo_data = pd.read_csv('sfo_neighborhoods_census_data.csv')\n",
    "sfo_data.head(10)"
   ]
  },
  {
   "cell_type": "code",
   "execution_count": 106,
   "id": "0ed72448-909c-4937-ac5d-e6a83b625116",
   "metadata": {},
   "outputs": [
    {
     "data": {
      "text/html": [
       "<div>\n",
       "<style scoped>\n",
       "    .dataframe tbody tr th:only-of-type {\n",
       "        vertical-align: middle;\n",
       "    }\n",
       "\n",
       "    .dataframe tbody tr th {\n",
       "        vertical-align: top;\n",
       "    }\n",
       "\n",
       "    .dataframe thead th {\n",
       "        text-align: right;\n",
       "    }\n",
       "</style>\n",
       "<table border=\"1\" class=\"dataframe\">\n",
       "  <thead>\n",
       "    <tr style=\"text-align: right;\">\n",
       "      <th></th>\n",
       "      <th>neighborhood</th>\n",
       "      <th>sale_price_sqr_foot</th>\n",
       "      <th>housing_units</th>\n",
       "      <th>gross_rent</th>\n",
       "    </tr>\n",
       "    <tr>\n",
       "      <th>year</th>\n",
       "      <th></th>\n",
       "      <th></th>\n",
       "      <th></th>\n",
       "      <th></th>\n",
       "    </tr>\n",
       "  </thead>\n",
       "  <tbody>\n",
       "    <tr>\n",
       "      <th>2010</th>\n",
       "      <td>Alamo Square</td>\n",
       "      <td>291.182945</td>\n",
       "      <td>372560</td>\n",
       "      <td>1239</td>\n",
       "    </tr>\n",
       "    <tr>\n",
       "      <th>2010</th>\n",
       "      <td>Anza Vista</td>\n",
       "      <td>267.932583</td>\n",
       "      <td>372560</td>\n",
       "      <td>1239</td>\n",
       "    </tr>\n",
       "    <tr>\n",
       "      <th>2010</th>\n",
       "      <td>Bayview</td>\n",
       "      <td>170.098665</td>\n",
       "      <td>372560</td>\n",
       "      <td>1239</td>\n",
       "    </tr>\n",
       "    <tr>\n",
       "      <th>2010</th>\n",
       "      <td>Buena Vista Park</td>\n",
       "      <td>347.394919</td>\n",
       "      <td>372560</td>\n",
       "      <td>1239</td>\n",
       "    </tr>\n",
       "    <tr>\n",
       "      <th>2010</th>\n",
       "      <td>Central Richmond</td>\n",
       "      <td>319.027623</td>\n",
       "      <td>372560</td>\n",
       "      <td>1239</td>\n",
       "    </tr>\n",
       "    <tr>\n",
       "      <th>2010</th>\n",
       "      <td>Central Sunset</td>\n",
       "      <td>418.172493</td>\n",
       "      <td>372560</td>\n",
       "      <td>1239</td>\n",
       "    </tr>\n",
       "    <tr>\n",
       "      <th>2010</th>\n",
       "      <td>Corona Heights</td>\n",
       "      <td>369.359338</td>\n",
       "      <td>372560</td>\n",
       "      <td>1239</td>\n",
       "    </tr>\n",
       "    <tr>\n",
       "      <th>2010</th>\n",
       "      <td>Cow Hollow</td>\n",
       "      <td>569.379968</td>\n",
       "      <td>372560</td>\n",
       "      <td>1239</td>\n",
       "    </tr>\n",
       "    <tr>\n",
       "      <th>2010</th>\n",
       "      <td>Croker Amazon</td>\n",
       "      <td>165.645730</td>\n",
       "      <td>372560</td>\n",
       "      <td>1239</td>\n",
       "    </tr>\n",
       "    <tr>\n",
       "      <th>2010</th>\n",
       "      <td>Diamond Heights</td>\n",
       "      <td>456.930822</td>\n",
       "      <td>372560</td>\n",
       "      <td>1239</td>\n",
       "    </tr>\n",
       "  </tbody>\n",
       "</table>\n",
       "</div>"
      ],
      "text/plain": [
       "          neighborhood  sale_price_sqr_foot  housing_units  gross_rent\n",
       "year                                                                  \n",
       "2010      Alamo Square           291.182945         372560        1239\n",
       "2010        Anza Vista           267.932583         372560        1239\n",
       "2010           Bayview           170.098665         372560        1239\n",
       "2010  Buena Vista Park           347.394919         372560        1239\n",
       "2010  Central Richmond           319.027623         372560        1239\n",
       "2010    Central Sunset           418.172493         372560        1239\n",
       "2010    Corona Heights           369.359338         372560        1239\n",
       "2010        Cow Hollow           569.379968         372560        1239\n",
       "2010     Croker Amazon           165.645730         372560        1239\n",
       "2010   Diamond Heights           456.930822         372560        1239"
      ]
     },
     "execution_count": 106,
     "metadata": {},
     "output_type": "execute_result"
    }
   ],
   "source": [
    "sfo_data.set_index(\"year\",inplace=True)\n",
    "sfo_data.head(10)"
   ]
  },
  {
   "cell_type": "code",
   "execution_count": 107,
   "id": "242d2bd1-49ca-4ad4-886a-f8c8270be12e",
   "metadata": {},
   "outputs": [
    {
     "data": {
      "text/html": [
       "<div>\n",
       "<style scoped>\n",
       "    .dataframe tbody tr th:only-of-type {\n",
       "        vertical-align: middle;\n",
       "    }\n",
       "\n",
       "    .dataframe tbody tr th {\n",
       "        vertical-align: top;\n",
       "    }\n",
       "\n",
       "    .dataframe thead th {\n",
       "        text-align: right;\n",
       "    }\n",
       "</style>\n",
       "<table border=\"1\" class=\"dataframe\">\n",
       "  <thead>\n",
       "    <tr style=\"text-align: right;\">\n",
       "      <th></th>\n",
       "      <th>sale_price_sqr_foot</th>\n",
       "      <th>gross_rent</th>\n",
       "    </tr>\n",
       "    <tr>\n",
       "      <th>year</th>\n",
       "      <th></th>\n",
       "      <th></th>\n",
       "    </tr>\n",
       "  </thead>\n",
       "  <tbody>\n",
       "    <tr>\n",
       "      <th>2010</th>\n",
       "      <td>291.182945</td>\n",
       "      <td>1239</td>\n",
       "    </tr>\n",
       "    <tr>\n",
       "      <th>2010</th>\n",
       "      <td>267.932583</td>\n",
       "      <td>1239</td>\n",
       "    </tr>\n",
       "    <tr>\n",
       "      <th>2010</th>\n",
       "      <td>170.098665</td>\n",
       "      <td>1239</td>\n",
       "    </tr>\n",
       "    <tr>\n",
       "      <th>2010</th>\n",
       "      <td>347.394919</td>\n",
       "      <td>1239</td>\n",
       "    </tr>\n",
       "    <tr>\n",
       "      <th>2010</th>\n",
       "      <td>319.027623</td>\n",
       "      <td>1239</td>\n",
       "    </tr>\n",
       "    <tr>\n",
       "      <th>2010</th>\n",
       "      <td>418.172493</td>\n",
       "      <td>1239</td>\n",
       "    </tr>\n",
       "    <tr>\n",
       "      <th>2010</th>\n",
       "      <td>369.359338</td>\n",
       "      <td>1239</td>\n",
       "    </tr>\n",
       "    <tr>\n",
       "      <th>2010</th>\n",
       "      <td>569.379968</td>\n",
       "      <td>1239</td>\n",
       "    </tr>\n",
       "    <tr>\n",
       "      <th>2010</th>\n",
       "      <td>165.645730</td>\n",
       "      <td>1239</td>\n",
       "    </tr>\n",
       "    <tr>\n",
       "      <th>2010</th>\n",
       "      <td>456.930822</td>\n",
       "      <td>1239</td>\n",
       "    </tr>\n",
       "  </tbody>\n",
       "</table>\n",
       "</div>"
      ],
      "text/plain": [
       "      sale_price_sqr_foot  gross_rent\n",
       "year                                 \n",
       "2010           291.182945        1239\n",
       "2010           267.932583        1239\n",
       "2010           170.098665        1239\n",
       "2010           347.394919        1239\n",
       "2010           319.027623        1239\n",
       "2010           418.172493        1239\n",
       "2010           369.359338        1239\n",
       "2010           569.379968        1239\n",
       "2010           165.645730        1239\n",
       "2010           456.930822        1239"
      ]
     },
     "execution_count": 107,
     "metadata": {},
     "output_type": "execute_result"
    }
   ],
   "source": [
    "sfo_data = sfo_data.drop([\"neighborhood\", \"housing_units\"], axis = 1)\n",
    "sfo_data.head(10)"
   ]
  },
  {
   "cell_type": "code",
   "execution_count": 108,
   "id": "cd9a699b-baa0-4113-b072-81209bd2534f",
   "metadata": {},
   "outputs": [
    {
     "data": {
      "text/html": [
       "<div>\n",
       "<style scoped>\n",
       "    .dataframe tbody tr th:only-of-type {\n",
       "        vertical-align: middle;\n",
       "    }\n",
       "\n",
       "    .dataframe tbody tr th {\n",
       "        vertical-align: top;\n",
       "    }\n",
       "\n",
       "    .dataframe thead th {\n",
       "        text-align: right;\n",
       "    }\n",
       "</style>\n",
       "<table border=\"1\" class=\"dataframe\">\n",
       "  <thead>\n",
       "    <tr style=\"text-align: right;\">\n",
       "      <th></th>\n",
       "      <th>sale_price_sqr_foot</th>\n",
       "      <th>gross_rent</th>\n",
       "    </tr>\n",
       "    <tr>\n",
       "      <th>year</th>\n",
       "      <th></th>\n",
       "      <th></th>\n",
       "    </tr>\n",
       "  </thead>\n",
       "  <tbody>\n",
       "    <tr>\n",
       "      <th>2010</th>\n",
       "      <td>369.344353</td>\n",
       "      <td>1239.0</td>\n",
       "    </tr>\n",
       "    <tr>\n",
       "      <th>2011</th>\n",
       "      <td>341.903429</td>\n",
       "      <td>1530.0</td>\n",
       "    </tr>\n",
       "    <tr>\n",
       "      <th>2012</th>\n",
       "      <td>399.389968</td>\n",
       "      <td>2324.0</td>\n",
       "    </tr>\n",
       "    <tr>\n",
       "      <th>2013</th>\n",
       "      <td>483.600304</td>\n",
       "      <td>2971.0</td>\n",
       "    </tr>\n",
       "    <tr>\n",
       "      <th>2014</th>\n",
       "      <td>556.277273</td>\n",
       "      <td>3528.0</td>\n",
       "    </tr>\n",
       "    <tr>\n",
       "      <th>2015</th>\n",
       "      <td>632.540352</td>\n",
       "      <td>3739.0</td>\n",
       "    </tr>\n",
       "    <tr>\n",
       "      <th>2016</th>\n",
       "      <td>697.643709</td>\n",
       "      <td>4390.0</td>\n",
       "    </tr>\n",
       "  </tbody>\n",
       "</table>\n",
       "</div>"
      ],
      "text/plain": [
       "      sale_price_sqr_foot  gross_rent\n",
       "year                                 \n",
       "2010           369.344353      1239.0\n",
       "2011           341.903429      1530.0\n",
       "2012           399.389968      2324.0\n",
       "2013           483.600304      2971.0\n",
       "2014           556.277273      3528.0\n",
       "2015           632.540352      3739.0\n",
       "2016           697.643709      4390.0"
      ]
     },
     "execution_count": 108,
     "metadata": {},
     "output_type": "execute_result"
    }
   ],
   "source": [
    "# find average price_sqr_foot and and average monthly_rent \n",
    "sfo_data = sfo_data.groupby(\"year\").mean()\n",
    "sfo_data"
   ]
  },
  {
   "cell_type": "code",
   "execution_count": 111,
   "id": "9ab59429-fe81-4dd2-85e0-3bfc2ae7d594",
   "metadata": {},
   "outputs": [
    {
     "data": {},
     "metadata": {},
     "output_type": "display_data"
    },
    {
     "data": {
      "application/vnd.holoviews_exec.v0+json": "",
      "text/html": [
       "<div id='2421'>\n",
       "\n",
       "\n",
       "\n",
       "\n",
       "\n",
       "  <div class=\"bk-root\" id=\"0013149c-848c-4914-9316-65e7b0f39462\" data-root-id=\"2421\"></div>\n",
       "</div>\n",
       "<script type=\"application/javascript\">(function(root) {\n",
       "  function embed_document(root) {\n",
       "    var docs_json = {\"29b8714d-890f-402c-9c39-96f538bde12c\":{\"defs\":[{\"extends\":null,\"module\":null,\"name\":\"ReactiveHTML1\",\"overrides\":[],\"properties\":[]},{\"extends\":null,\"module\":null,\"name\":\"FlexBox1\",\"overrides\":[],\"properties\":[{\"default\":\"flex-start\",\"kind\":null,\"name\":\"align_content\"},{\"default\":\"flex-start\",\"kind\":null,\"name\":\"align_items\"},{\"default\":\"row\",\"kind\":null,\"name\":\"flex_direction\"},{\"default\":\"wrap\",\"kind\":null,\"name\":\"flex_wrap\"},{\"default\":\"flex-start\",\"kind\":null,\"name\":\"justify_content\"}]},{\"extends\":null,\"module\":null,\"name\":\"TemplateActions1\",\"overrides\":[],\"properties\":[{\"default\":0,\"kind\":null,\"name\":\"open_modal\"},{\"default\":0,\"kind\":null,\"name\":\"close_modal\"}]},{\"extends\":null,\"module\":null,\"name\":\"MaterialTemplateActions1\",\"overrides\":[],\"properties\":[{\"default\":0,\"kind\":null,\"name\":\"open_modal\"},{\"default\":0,\"kind\":null,\"name\":\"close_modal\"}]}],\"roots\":{\"references\":[{\"attributes\":{\"axis\":{\"id\":\"2439\"},\"coordinates\":null,\"dimension\":1,\"grid_line_color\":null,\"group\":null,\"ticker\":null},\"id\":\"2442\",\"type\":\"Grid\"},{\"attributes\":{\"source\":{\"id\":\"2456\"}},\"id\":\"2463\",\"type\":\"CDSView\"},{\"attributes\":{\"end\":733.2177371101801,\"reset_end\":733.2177371101801,\"reset_start\":306.32940118646263,\"start\":306.32940118646263,\"tags\":[[[\"sale_price_sqr_foot\",\"sale_price_sqr_foot\",null]]]},\"id\":\"2424\",\"type\":\"Range1d\"},{\"attributes\":{\"axis_label\":\"sale_price_sqr_foot\",\"coordinates\":null,\"formatter\":{\"id\":\"2469\"},\"group\":null,\"major_label_policy\":{\"id\":\"2470\"},\"ticker\":{\"id\":\"2440\"}},\"id\":\"2439\",\"type\":\"LinearAxis\"},{\"attributes\":{\"line_alpha\":0.2,\"line_color\":\"#30a2da\",\"line_width\":2,\"x\":{\"field\":\"year\"},\"y\":{\"field\":\"sale_price_sqr_foot\"}},\"id\":\"2461\",\"type\":\"Line\"},{\"attributes\":{},\"id\":\"2470\",\"type\":\"AllLabels\"},{\"attributes\":{\"line_alpha\":0.1,\"line_color\":\"#30a2da\",\"line_width\":2,\"x\":{\"field\":\"year\"},\"y\":{\"field\":\"sale_price_sqr_foot\"}},\"id\":\"2460\",\"type\":\"Line\"},{\"attributes\":{},\"id\":\"2457\",\"type\":\"Selection\"},{\"attributes\":{\"callback\":null,\"renderers\":[{\"id\":\"2462\"}],\"tags\":[\"hv_created\"],\"tooltips\":[[\"year\",\"@{year}\"],[\"sale_price_sqr_foot\",\"@{sale_price_sqr_foot}\"]]},\"id\":\"2425\",\"type\":\"HoverTool\"},{\"attributes\":{\"coordinates\":null,\"data_source\":{\"id\":\"2456\"},\"glyph\":{\"id\":\"2459\"},\"group\":null,\"hover_glyph\":null,\"muted_glyph\":{\"id\":\"2461\"},\"nonselection_glyph\":{\"id\":\"2460\"},\"selection_glyph\":{\"id\":\"2464\"},\"view\":{\"id\":\"2463\"}},\"id\":\"2462\",\"type\":\"GlyphRenderer\"},{\"attributes\":{},\"id\":\"2443\",\"type\":\"SaveTool\"},{\"attributes\":{},\"id\":\"2469\",\"type\":\"BasicTickFormatter\"},{\"attributes\":{},\"id\":\"2444\",\"type\":\"PanTool\"},{\"attributes\":{},\"id\":\"2436\",\"type\":\"BasicTicker\"},{\"attributes\":{},\"id\":\"2447\",\"type\":\"ResetTool\"},{\"attributes\":{},\"id\":\"2445\",\"type\":\"WheelZoomTool\"},{\"attributes\":{},\"id\":\"2467\",\"type\":\"AllLabels\"},{\"attributes\":{\"line_color\":\"#30a2da\",\"line_width\":2,\"x\":{\"field\":\"year\"},\"y\":{\"field\":\"sale_price_sqr_foot\"}},\"id\":\"2459\",\"type\":\"Line\"},{\"attributes\":{\"overlay\":{\"id\":\"2448\"}},\"id\":\"2446\",\"type\":\"BoxZoomTool\"},{\"attributes\":{\"data\":{\"sale_price_sqr_foot\":{\"__ndarray__\":\"tgKjeIIVd0Dn7CdydF51QGhijk899nhAZhKk2Jo5fkDGKCTbN2KBQPMTFqRSxINATx33UCbNhUA=\",\"dtype\":\"float64\",\"order\":\"little\",\"shape\":[7]},\"year\":[2010,2011,2012,2013,2014,2015,2016]},\"selected\":{\"id\":\"2457\"},\"selection_policy\":{\"id\":\"2478\"}},\"id\":\"2456\",\"type\":\"ColumnDataSource\"},{\"attributes\":{\"line_color\":\"#30a2da\",\"line_width\":2,\"x\":{\"field\":\"year\"},\"y\":{\"field\":\"sale_price_sqr_foot\"}},\"id\":\"2464\",\"type\":\"Line\"},{\"attributes\":{},\"id\":\"2440\",\"type\":\"BasicTicker\"},{\"attributes\":{},\"id\":\"2478\",\"type\":\"UnionRenderers\"},{\"attributes\":{},\"id\":\"2431\",\"type\":\"LinearScale\"},{\"attributes\":{\"coordinates\":null,\"group\":null,\"text_color\":\"black\",\"text_font_size\":\"12pt\"},\"id\":\"2427\",\"type\":\"Title\"},{\"attributes\":{\"children\":[{\"id\":\"2422\"},{\"id\":\"2426\"},{\"id\":\"2491\"}],\"margin\":[0,0,0,0],\"name\":\"Row03403\",\"tags\":[\"embedded\"]},\"id\":\"2421\",\"type\":\"Row\"},{\"attributes\":{\"end\":2016.0,\"reset_end\":2016.0,\"reset_start\":2010.0,\"start\":2010.0,\"tags\":[[[\"year\",\"year\",null]]]},\"id\":\"2423\",\"type\":\"Range1d\"},{\"attributes\":{\"tools\":[{\"id\":\"2425\"},{\"id\":\"2443\"},{\"id\":\"2444\"},{\"id\":\"2445\"},{\"id\":\"2446\"},{\"id\":\"2447\"}]},\"id\":\"2449\",\"type\":\"Toolbar\"},{\"attributes\":{\"axis\":{\"id\":\"2435\"},\"coordinates\":null,\"grid_line_color\":null,\"group\":null,\"ticker\":null},\"id\":\"2438\",\"type\":\"Grid\"},{\"attributes\":{\"margin\":[5,5,5,5],\"name\":\"HSpacer03408\",\"sizing_mode\":\"stretch_width\"},\"id\":\"2491\",\"type\":\"Spacer\"},{\"attributes\":{},\"id\":\"2466\",\"type\":\"BasicTickFormatter\"},{\"attributes\":{},\"id\":\"2433\",\"type\":\"LinearScale\"},{\"attributes\":{\"bottom_units\":\"screen\",\"coordinates\":null,\"fill_alpha\":0.5,\"fill_color\":\"lightgrey\",\"group\":null,\"left_units\":\"screen\",\"level\":\"overlay\",\"line_alpha\":1.0,\"line_color\":\"black\",\"line_dash\":[4,4],\"line_width\":2,\"right_units\":\"screen\",\"syncable\":false,\"top_units\":\"screen\"},\"id\":\"2448\",\"type\":\"BoxAnnotation\"},{\"attributes\":{\"margin\":[5,5,5,5],\"name\":\"HSpacer03407\",\"sizing_mode\":\"stretch_width\"},\"id\":\"2422\",\"type\":\"Spacer\"},{\"attributes\":{\"axis_label\":\"year\",\"coordinates\":null,\"formatter\":{\"id\":\"2466\"},\"group\":null,\"major_label_policy\":{\"id\":\"2467\"},\"ticker\":{\"id\":\"2436\"}},\"id\":\"2435\",\"type\":\"LinearAxis\"},{\"attributes\":{\"below\":[{\"id\":\"2435\"}],\"center\":[{\"id\":\"2438\"},{\"id\":\"2442\"}],\"height\":300,\"left\":[{\"id\":\"2439\"}],\"margin\":[5,5,5,5],\"min_border_bottom\":10,\"min_border_left\":10,\"min_border_right\":10,\"min_border_top\":10,\"renderers\":[{\"id\":\"2462\"}],\"sizing_mode\":\"fixed\",\"title\":{\"id\":\"2427\"},\"toolbar\":{\"id\":\"2449\"},\"width\":700,\"x_range\":{\"id\":\"2423\"},\"x_scale\":{\"id\":\"2431\"},\"y_range\":{\"id\":\"2424\"},\"y_scale\":{\"id\":\"2433\"}},\"id\":\"2426\",\"subtype\":\"Figure\",\"type\":\"Plot\"}],\"root_ids\":[\"2421\"]},\"title\":\"Bokeh Application\",\"version\":\"2.4.1\"}};\n",
       "    var render_items = [{\"docid\":\"29b8714d-890f-402c-9c39-96f538bde12c\",\"root_ids\":[\"2421\"],\"roots\":{\"2421\":\"0013149c-848c-4914-9316-65e7b0f39462\"}}];\n",
       "    root.Bokeh.embed.embed_items_notebook(docs_json, render_items);\n",
       "  }\n",
       "  if (root.Bokeh !== undefined && root.Bokeh.Panel !== undefined && ( root['Plotly'] !== undefined)) {\n",
       "    embed_document(root);\n",
       "  } else {\n",
       "    var attempts = 0;\n",
       "    var timer = setInterval(function(root) {\n",
       "      if (root.Bokeh !== undefined && root.Bokeh.Panel !== undefined && (root['Plotly'] !== undefined)) {\n",
       "        clearInterval(timer);\n",
       "        embed_document(root);\n",
       "      } else if (document.readyState == \"complete\") {\n",
       "        attempts++;\n",
       "        if (attempts > 200) {\n",
       "          clearInterval(timer);\n",
       "          console.log(\"Bokeh: ERROR: Unable to run BokehJS code because BokehJS library is missing\");\n",
       "        }\n",
       "      }\n",
       "    }, 25, root)\n",
       "  }\n",
       "})(window);</script>"
      ],
      "text/plain": [
       ":Curve   [year]   (sale_price_sqr_foot)"
      ]
     },
     "execution_count": 111,
     "metadata": {
      "application/vnd.holoviews_exec.v0+json": {
       "id": "2421"
      }
     },
     "output_type": "execute_result"
    }
   ],
   "source": [
    "# Use hvplot to create an interactive line chart of the average price per sq ft.\n",
    "# The plot should have a dropdown selector for the neighborhood\n",
    "sfo_data.hvplot.line(x='year', y='sale_price_sqr_foot',)"
   ]
  },
  {
   "cell_type": "code",
   "execution_count": 112,
   "id": "bfd804a1-14cf-4e7a-ba24-3c577fa8c216",
   "metadata": {},
   "outputs": [
    {
     "data": {},
     "metadata": {},
     "output_type": "display_data"
    },
    {
     "data": {
      "application/vnd.holoviews_exec.v0+json": "",
      "text/html": [
       "<div id='2543'>\n",
       "\n",
       "\n",
       "\n",
       "\n",
       "\n",
       "  <div class=\"bk-root\" id=\"718af490-9809-4141-996d-69fee4027a16\" data-root-id=\"2543\"></div>\n",
       "</div>\n",
       "<script type=\"application/javascript\">(function(root) {\n",
       "  function embed_document(root) {\n",
       "    var docs_json = {\"1c5b9061-168b-4ef9-8a4a-28a23dab4265\":{\"defs\":[{\"extends\":null,\"module\":null,\"name\":\"ReactiveHTML1\",\"overrides\":[],\"properties\":[]},{\"extends\":null,\"module\":null,\"name\":\"FlexBox1\",\"overrides\":[],\"properties\":[{\"default\":\"flex-start\",\"kind\":null,\"name\":\"align_content\"},{\"default\":\"flex-start\",\"kind\":null,\"name\":\"align_items\"},{\"default\":\"row\",\"kind\":null,\"name\":\"flex_direction\"},{\"default\":\"wrap\",\"kind\":null,\"name\":\"flex_wrap\"},{\"default\":\"flex-start\",\"kind\":null,\"name\":\"justify_content\"}]},{\"extends\":null,\"module\":null,\"name\":\"TemplateActions1\",\"overrides\":[],\"properties\":[{\"default\":0,\"kind\":null,\"name\":\"open_modal\"},{\"default\":0,\"kind\":null,\"name\":\"close_modal\"}]},{\"extends\":null,\"module\":null,\"name\":\"MaterialTemplateActions1\",\"overrides\":[],\"properties\":[{\"default\":0,\"kind\":null,\"name\":\"open_modal\"},{\"default\":0,\"kind\":null,\"name\":\"close_modal\"}]}],\"roots\":{\"references\":[{\"attributes\":{\"tools\":[{\"id\":\"2547\"},{\"id\":\"2565\"},{\"id\":\"2566\"},{\"id\":\"2567\"},{\"id\":\"2568\"},{\"id\":\"2569\"}]},\"id\":\"2571\",\"type\":\"Toolbar\"},{\"attributes\":{},\"id\":\"2591\",\"type\":\"BasicTickFormatter\"},{\"attributes\":{\"bottom_units\":\"screen\",\"coordinates\":null,\"fill_alpha\":0.5,\"fill_color\":\"lightgrey\",\"group\":null,\"left_units\":\"screen\",\"level\":\"overlay\",\"line_alpha\":1.0,\"line_color\":\"black\",\"line_dash\":[4,4],\"line_width\":2,\"right_units\":\"screen\",\"syncable\":false,\"top_units\":\"screen\"},\"id\":\"2570\",\"type\":\"BoxAnnotation\"},{\"attributes\":{},\"id\":\"2565\",\"type\":\"SaveTool\"},{\"attributes\":{},\"id\":\"2558\",\"type\":\"BasicTicker\"},{\"attributes\":{},\"id\":\"2566\",\"type\":\"PanTool\"},{\"attributes\":{\"callback\":null,\"renderers\":[{\"id\":\"2584\"}],\"tags\":[\"hv_created\"],\"tooltips\":[[\"year\",\"@{year}\"],[\"gross_rent\",\"@{gross_rent}\"]]},\"id\":\"2547\",\"type\":\"HoverTool\"},{\"attributes\":{},\"id\":\"2569\",\"type\":\"ResetTool\"},{\"attributes\":{},\"id\":\"2567\",\"type\":\"WheelZoomTool\"},{\"attributes\":{},\"id\":\"2592\",\"type\":\"AllLabels\"},{\"attributes\":{\"data\":{\"gross_rent\":{\"__ndarray__\":\"AAAAAABck0AAAAAAAOiXQAAAAAAAKKJAAAAAAAA2p0AAAAAAAJCrQAAAAAAANq1AAAAAAAAmsUA=\",\"dtype\":\"float64\",\"order\":\"little\",\"shape\":[7]},\"year\":[2010,2011,2012,2013,2014,2015,2016]},\"selected\":{\"id\":\"2579\"},\"selection_policy\":{\"id\":\"2600\"}},\"id\":\"2578\",\"type\":\"ColumnDataSource\"},{\"attributes\":{\"overlay\":{\"id\":\"2570\"}},\"id\":\"2568\",\"type\":\"BoxZoomTool\"},{\"attributes\":{\"source\":{\"id\":\"2578\"}},\"id\":\"2585\",\"type\":\"CDSView\"},{\"attributes\":{\"line_alpha\":0.2,\"line_color\":\"#30a2da\",\"line_width\":2,\"x\":{\"field\":\"year\"},\"y\":{\"field\":\"gross_rent\"}},\"id\":\"2583\",\"type\":\"Line\"},{\"attributes\":{},\"id\":\"2562\",\"type\":\"BasicTicker\"},{\"attributes\":{},\"id\":\"2553\",\"type\":\"LinearScale\"},{\"attributes\":{\"coordinates\":null,\"group\":null,\"text_color\":\"black\",\"text_font_size\":\"12pt\"},\"id\":\"2549\",\"type\":\"Title\"},{\"attributes\":{\"end\":2016.0,\"reset_end\":2016.0,\"reset_start\":2010.0,\"start\":2010.0,\"tags\":[[[\"year\",\"year\",null]]]},\"id\":\"2545\",\"type\":\"Range1d\"},{\"attributes\":{\"axis\":{\"id\":\"2557\"},\"coordinates\":null,\"grid_line_color\":null,\"group\":null,\"ticker\":null},\"id\":\"2560\",\"type\":\"Grid\"},{\"attributes\":{\"margin\":[5,5,5,5],\"name\":\"HSpacer03586\",\"sizing_mode\":\"stretch_width\"},\"id\":\"2613\",\"type\":\"Spacer\"},{\"attributes\":{},\"id\":\"2588\",\"type\":\"BasicTickFormatter\"},{\"attributes\":{},\"id\":\"2555\",\"type\":\"LinearScale\"},{\"attributes\":{\"axis_label\":\"gross_rent\",\"coordinates\":null,\"formatter\":{\"id\":\"2591\"},\"group\":null,\"major_label_policy\":{\"id\":\"2592\"},\"ticker\":{\"id\":\"2562\"}},\"id\":\"2561\",\"type\":\"LinearAxis\"},{\"attributes\":{\"line_color\":\"#30a2da\",\"line_width\":2,\"x\":{\"field\":\"year\"},\"y\":{\"field\":\"gross_rent\"}},\"id\":\"2586\",\"type\":\"Line\"},{\"attributes\":{},\"id\":\"2600\",\"type\":\"UnionRenderers\"},{\"attributes\":{\"margin\":[5,5,5,5],\"name\":\"HSpacer03585\",\"sizing_mode\":\"stretch_width\"},\"id\":\"2544\",\"type\":\"Spacer\"},{\"attributes\":{\"axis_label\":\"year\",\"coordinates\":null,\"formatter\":{\"id\":\"2588\"},\"group\":null,\"major_label_policy\":{\"id\":\"2589\"},\"ticker\":{\"id\":\"2558\"}},\"id\":\"2557\",\"type\":\"LinearAxis\"},{\"attributes\":{\"children\":[{\"id\":\"2544\"},{\"id\":\"2548\"},{\"id\":\"2613\"}],\"margin\":[0,0,0,0],\"name\":\"Row03581\",\"tags\":[\"embedded\"]},\"id\":\"2543\",\"type\":\"Row\"},{\"attributes\":{},\"id\":\"2579\",\"type\":\"Selection\"},{\"attributes\":{\"axis\":{\"id\":\"2561\"},\"coordinates\":null,\"dimension\":1,\"grid_line_color\":null,\"group\":null,\"ticker\":null},\"id\":\"2564\",\"type\":\"Grid\"},{\"attributes\":{\"end\":4705.1,\"reset_end\":4705.1,\"reset_start\":923.9,\"start\":923.9,\"tags\":[[[\"gross_rent\",\"gross_rent\",null]]]},\"id\":\"2546\",\"type\":\"Range1d\"},{\"attributes\":{\"below\":[{\"id\":\"2557\"}],\"center\":[{\"id\":\"2560\"},{\"id\":\"2564\"}],\"height\":300,\"left\":[{\"id\":\"2561\"}],\"margin\":[5,5,5,5],\"min_border_bottom\":10,\"min_border_left\":10,\"min_border_right\":10,\"min_border_top\":10,\"renderers\":[{\"id\":\"2584\"}],\"sizing_mode\":\"fixed\",\"title\":{\"id\":\"2549\"},\"toolbar\":{\"id\":\"2571\"},\"width\":700,\"x_range\":{\"id\":\"2545\"},\"x_scale\":{\"id\":\"2553\"},\"y_range\":{\"id\":\"2546\"},\"y_scale\":{\"id\":\"2555\"}},\"id\":\"2548\",\"subtype\":\"Figure\",\"type\":\"Plot\"},{\"attributes\":{\"coordinates\":null,\"data_source\":{\"id\":\"2578\"},\"glyph\":{\"id\":\"2581\"},\"group\":null,\"hover_glyph\":null,\"muted_glyph\":{\"id\":\"2583\"},\"nonselection_glyph\":{\"id\":\"2582\"},\"selection_glyph\":{\"id\":\"2586\"},\"view\":{\"id\":\"2585\"}},\"id\":\"2584\",\"type\":\"GlyphRenderer\"},{\"attributes\":{\"line_alpha\":0.1,\"line_color\":\"#30a2da\",\"line_width\":2,\"x\":{\"field\":\"year\"},\"y\":{\"field\":\"gross_rent\"}},\"id\":\"2582\",\"type\":\"Line\"},{\"attributes\":{},\"id\":\"2589\",\"type\":\"AllLabels\"},{\"attributes\":{\"line_color\":\"#30a2da\",\"line_width\":2,\"x\":{\"field\":\"year\"},\"y\":{\"field\":\"gross_rent\"}},\"id\":\"2581\",\"type\":\"Line\"}],\"root_ids\":[\"2543\"]},\"title\":\"Bokeh Application\",\"version\":\"2.4.1\"}};\n",
       "    var render_items = [{\"docid\":\"1c5b9061-168b-4ef9-8a4a-28a23dab4265\",\"root_ids\":[\"2543\"],\"roots\":{\"2543\":\"718af490-9809-4141-996d-69fee4027a16\"}}];\n",
       "    root.Bokeh.embed.embed_items_notebook(docs_json, render_items);\n",
       "  }\n",
       "  if (root.Bokeh !== undefined && root.Bokeh.Panel !== undefined && ( root['Plotly'] !== undefined)) {\n",
       "    embed_document(root);\n",
       "  } else {\n",
       "    var attempts = 0;\n",
       "    var timer = setInterval(function(root) {\n",
       "      if (root.Bokeh !== undefined && root.Bokeh.Panel !== undefined && (root['Plotly'] !== undefined)) {\n",
       "        clearInterval(timer);\n",
       "        embed_document(root);\n",
       "      } else if (document.readyState == \"complete\") {\n",
       "        attempts++;\n",
       "        if (attempts > 200) {\n",
       "          clearInterval(timer);\n",
       "          console.log(\"Bokeh: ERROR: Unable to run BokehJS code because BokehJS library is missing\");\n",
       "        }\n",
       "      }\n",
       "    }, 25, root)\n",
       "  }\n",
       "})(window);</script>"
      ],
      "text/plain": [
       ":Curve   [year]   (gross_rent)"
      ]
     },
     "execution_count": 112,
     "metadata": {
      "application/vnd.holoviews_exec.v0+json": {
       "id": "2543"
      }
     },
     "output_type": "execute_result"
    }
   ],
   "source": [
    "# Use hvplot to create an interactive line chart of the average monthly rent.\n",
    "# The plot should have a dropdown selector for the neighborhood\n",
    "sfo_data.hvplot.line(x='year', y='gross_rent')"
   ]
  },
  {
   "cell_type": "markdown",
   "id": "a4e7e005-7712-40c3-9ab8-3b7c93a42706",
   "metadata": {},
   "source": [
    "## The Top 10 Most Expensive Neighborhoods\n",
    "\n",
    "In this section, you will need to calculate the mean sale price per square foot for each neighborhood and then sort the values to obtain the top 10 most expensive neighborhoods on average. Plot the results as a bar chart."
   ]
  },
  {
   "cell_type": "code",
   "execution_count": 20,
   "id": "448a7460-2227-4530-bb86-21cfa5c38d52",
   "metadata": {},
   "outputs": [
    {
     "data": {
      "text/html": [
       "<div>\n",
       "<style scoped>\n",
       "    .dataframe tbody tr th:only-of-type {\n",
       "        vertical-align: middle;\n",
       "    }\n",
       "\n",
       "    .dataframe tbody tr th {\n",
       "        vertical-align: top;\n",
       "    }\n",
       "\n",
       "    .dataframe thead th {\n",
       "        text-align: right;\n",
       "    }\n",
       "</style>\n",
       "<table border=\"1\" class=\"dataframe\">\n",
       "  <thead>\n",
       "    <tr style=\"text-align: right;\">\n",
       "      <th></th>\n",
       "      <th>year</th>\n",
       "      <th>neighborhood</th>\n",
       "      <th>sale_price_sqr_foot</th>\n",
       "      <th>housing_units</th>\n",
       "      <th>gross_rent</th>\n",
       "    </tr>\n",
       "  </thead>\n",
       "  <tbody>\n",
       "    <tr>\n",
       "      <th>0</th>\n",
       "      <td>2010</td>\n",
       "      <td>Alamo Square</td>\n",
       "      <td>291.182945</td>\n",
       "      <td>372560</td>\n",
       "      <td>1239</td>\n",
       "    </tr>\n",
       "    <tr>\n",
       "      <th>1</th>\n",
       "      <td>2010</td>\n",
       "      <td>Anza Vista</td>\n",
       "      <td>267.932583</td>\n",
       "      <td>372560</td>\n",
       "      <td>1239</td>\n",
       "    </tr>\n",
       "    <tr>\n",
       "      <th>2</th>\n",
       "      <td>2010</td>\n",
       "      <td>Bayview</td>\n",
       "      <td>170.098665</td>\n",
       "      <td>372560</td>\n",
       "      <td>1239</td>\n",
       "    </tr>\n",
       "    <tr>\n",
       "      <th>3</th>\n",
       "      <td>2010</td>\n",
       "      <td>Buena Vista Park</td>\n",
       "      <td>347.394919</td>\n",
       "      <td>372560</td>\n",
       "      <td>1239</td>\n",
       "    </tr>\n",
       "    <tr>\n",
       "      <th>4</th>\n",
       "      <td>2010</td>\n",
       "      <td>Central Richmond</td>\n",
       "      <td>319.027623</td>\n",
       "      <td>372560</td>\n",
       "      <td>1239</td>\n",
       "    </tr>\n",
       "    <tr>\n",
       "      <th>...</th>\n",
       "      <td>...</td>\n",
       "      <td>...</td>\n",
       "      <td>...</td>\n",
       "      <td>...</td>\n",
       "      <td>...</td>\n",
       "    </tr>\n",
       "    <tr>\n",
       "      <th>392</th>\n",
       "      <td>2016</td>\n",
       "      <td>Telegraph Hill</td>\n",
       "      <td>903.049771</td>\n",
       "      <td>384242</td>\n",
       "      <td>4390</td>\n",
       "    </tr>\n",
       "    <tr>\n",
       "      <th>393</th>\n",
       "      <td>2016</td>\n",
       "      <td>Twin Peaks</td>\n",
       "      <td>970.085470</td>\n",
       "      <td>384242</td>\n",
       "      <td>4390</td>\n",
       "    </tr>\n",
       "    <tr>\n",
       "      <th>394</th>\n",
       "      <td>2016</td>\n",
       "      <td>Van Ness/ Civic Center</td>\n",
       "      <td>552.602567</td>\n",
       "      <td>384242</td>\n",
       "      <td>4390</td>\n",
       "    </tr>\n",
       "    <tr>\n",
       "      <th>395</th>\n",
       "      <td>2016</td>\n",
       "      <td>Visitacion Valley</td>\n",
       "      <td>328.319007</td>\n",
       "      <td>384242</td>\n",
       "      <td>4390</td>\n",
       "    </tr>\n",
       "    <tr>\n",
       "      <th>396</th>\n",
       "      <td>2016</td>\n",
       "      <td>Westwood Park</td>\n",
       "      <td>631.195426</td>\n",
       "      <td>384242</td>\n",
       "      <td>4390</td>\n",
       "    </tr>\n",
       "  </tbody>\n",
       "</table>\n",
       "<p>397 rows × 5 columns</p>\n",
       "</div>"
      ],
      "text/plain": [
       "     year            neighborhood  sale_price_sqr_foot  housing_units  \\\n",
       "0    2010            Alamo Square           291.182945         372560   \n",
       "1    2010              Anza Vista           267.932583         372560   \n",
       "2    2010                 Bayview           170.098665         372560   \n",
       "3    2010        Buena Vista Park           347.394919         372560   \n",
       "4    2010        Central Richmond           319.027623         372560   \n",
       "..    ...                     ...                  ...            ...   \n",
       "392  2016          Telegraph Hill           903.049771         384242   \n",
       "393  2016              Twin Peaks           970.085470         384242   \n",
       "394  2016  Van Ness/ Civic Center           552.602567         384242   \n",
       "395  2016       Visitacion Valley           328.319007         384242   \n",
       "396  2016           Westwood Park           631.195426         384242   \n",
       "\n",
       "     gross_rent  \n",
       "0          1239  \n",
       "1          1239  \n",
       "2          1239  \n",
       "3          1239  \n",
       "4          1239  \n",
       "..          ...  \n",
       "392        4390  \n",
       "393        4390  \n",
       "394        4390  \n",
       "395        4390  \n",
       "396        4390  \n",
       "\n",
       "[397 rows x 5 columns]"
      ]
     },
     "execution_count": 20,
     "metadata": {},
     "output_type": "execute_result"
    }
   ],
   "source": [
    "# Getting the data from the top 10 expensive neighborhoods to own\n",
    "sfo_data = pd.read_csv('sfo_neighborhoods_census_data.csv')\n",
    "sfo_data"
   ]
  },
  {
   "cell_type": "code",
   "execution_count": 21,
   "id": "abed81b2-32b1-465b-9eb1-bb036e74a511",
   "metadata": {},
   "outputs": [
    {
     "data": {
      "text/html": [
       "<div>\n",
       "<style scoped>\n",
       "    .dataframe tbody tr th:only-of-type {\n",
       "        vertical-align: middle;\n",
       "    }\n",
       "\n",
       "    .dataframe tbody tr th {\n",
       "        vertical-align: top;\n",
       "    }\n",
       "\n",
       "    .dataframe thead th {\n",
       "        text-align: right;\n",
       "    }\n",
       "</style>\n",
       "<table border=\"1\" class=\"dataframe\">\n",
       "  <thead>\n",
       "    <tr style=\"text-align: right;\">\n",
       "      <th></th>\n",
       "      <th>year</th>\n",
       "      <th>sale_price_sqr_foot</th>\n",
       "      <th>housing_units</th>\n",
       "      <th>gross_rent</th>\n",
       "    </tr>\n",
       "    <tr>\n",
       "      <th>neighborhood</th>\n",
       "      <th></th>\n",
       "      <th></th>\n",
       "      <th></th>\n",
       "      <th></th>\n",
       "    </tr>\n",
       "  </thead>\n",
       "  <tbody>\n",
       "    <tr>\n",
       "      <th>Alamo Square</th>\n",
       "      <td>2013.000000</td>\n",
       "      <td>366.020712</td>\n",
       "      <td>378401.00</td>\n",
       "      <td>2817.285714</td>\n",
       "    </tr>\n",
       "    <tr>\n",
       "      <th>Anza Vista</th>\n",
       "      <td>2013.333333</td>\n",
       "      <td>373.382198</td>\n",
       "      <td>379050.00</td>\n",
       "      <td>3031.833333</td>\n",
       "    </tr>\n",
       "    <tr>\n",
       "      <th>Bayview</th>\n",
       "      <td>2012.000000</td>\n",
       "      <td>204.588623</td>\n",
       "      <td>376454.00</td>\n",
       "      <td>2318.400000</td>\n",
       "    </tr>\n",
       "    <tr>\n",
       "      <th>Bayview Heights</th>\n",
       "      <td>2015.000000</td>\n",
       "      <td>590.792839</td>\n",
       "      <td>382295.00</td>\n",
       "      <td>3739.000000</td>\n",
       "    </tr>\n",
       "    <tr>\n",
       "      <th>Bernal Heights</th>\n",
       "      <td>2013.500000</td>\n",
       "      <td>576.746488</td>\n",
       "      <td>379374.50</td>\n",
       "      <td>3080.333333</td>\n",
       "    </tr>\n",
       "    <tr>\n",
       "      <th>...</th>\n",
       "      <td>...</td>\n",
       "      <td>...</td>\n",
       "      <td>...</td>\n",
       "      <td>...</td>\n",
       "    </tr>\n",
       "    <tr>\n",
       "      <th>West Portal</th>\n",
       "      <td>2012.250000</td>\n",
       "      <td>498.488485</td>\n",
       "      <td>376940.75</td>\n",
       "      <td>2515.500000</td>\n",
       "    </tr>\n",
       "    <tr>\n",
       "      <th>Western Addition</th>\n",
       "      <td>2012.500000</td>\n",
       "      <td>307.562201</td>\n",
       "      <td>377427.50</td>\n",
       "      <td>2555.166667</td>\n",
       "    </tr>\n",
       "    <tr>\n",
       "      <th>Westwood Highlands</th>\n",
       "      <td>2012.000000</td>\n",
       "      <td>533.703935</td>\n",
       "      <td>376454.00</td>\n",
       "      <td>2250.500000</td>\n",
       "    </tr>\n",
       "    <tr>\n",
       "      <th>Westwood Park</th>\n",
       "      <td>2015.000000</td>\n",
       "      <td>687.087575</td>\n",
       "      <td>382295.00</td>\n",
       "      <td>3959.000000</td>\n",
       "    </tr>\n",
       "    <tr>\n",
       "      <th>Yerba Buena</th>\n",
       "      <td>2012.500000</td>\n",
       "      <td>576.709848</td>\n",
       "      <td>377427.50</td>\n",
       "      <td>2555.166667</td>\n",
       "    </tr>\n",
       "  </tbody>\n",
       "</table>\n",
       "<p>73 rows × 4 columns</p>\n",
       "</div>"
      ],
      "text/plain": [
       "                           year  sale_price_sqr_foot  housing_units  \\\n",
       "neighborhood                                                          \n",
       "Alamo Square        2013.000000           366.020712      378401.00   \n",
       "Anza Vista          2013.333333           373.382198      379050.00   \n",
       "Bayview             2012.000000           204.588623      376454.00   \n",
       "Bayview Heights     2015.000000           590.792839      382295.00   \n",
       "Bernal Heights      2013.500000           576.746488      379374.50   \n",
       "...                         ...                  ...            ...   \n",
       "West Portal         2012.250000           498.488485      376940.75   \n",
       "Western Addition    2012.500000           307.562201      377427.50   \n",
       "Westwood Highlands  2012.000000           533.703935      376454.00   \n",
       "Westwood Park       2015.000000           687.087575      382295.00   \n",
       "Yerba Buena         2012.500000           576.709848      377427.50   \n",
       "\n",
       "                     gross_rent  \n",
       "neighborhood                     \n",
       "Alamo Square        2817.285714  \n",
       "Anza Vista          3031.833333  \n",
       "Bayview             2318.400000  \n",
       "Bayview Heights     3739.000000  \n",
       "Bernal Heights      3080.333333  \n",
       "...                         ...  \n",
       "West Portal         2515.500000  \n",
       "Western Addition    2555.166667  \n",
       "Westwood Highlands  2250.500000  \n",
       "Westwood Park       3959.000000  \n",
       "Yerba Buena         2555.166667  \n",
       "\n",
       "[73 rows x 4 columns]"
      ]
     },
     "execution_count": 21,
     "metadata": {},
     "output_type": "execute_result"
    }
   ],
   "source": [
    "sfo_data = sfo_data.groupby(\"neighborhood\").mean()\n",
    "sfo_data"
   ]
  },
  {
   "cell_type": "code",
   "execution_count": 22,
   "id": "43485f1c-c4f3-474e-b990-ce3b266d8a1e",
   "metadata": {},
   "outputs": [
    {
     "data": {
      "text/html": [
       "<div>\n",
       "<style scoped>\n",
       "    .dataframe tbody tr th:only-of-type {\n",
       "        vertical-align: middle;\n",
       "    }\n",
       "\n",
       "    .dataframe tbody tr th {\n",
       "        vertical-align: top;\n",
       "    }\n",
       "\n",
       "    .dataframe thead th {\n",
       "        text-align: right;\n",
       "    }\n",
       "</style>\n",
       "<table border=\"1\" class=\"dataframe\">\n",
       "  <thead>\n",
       "    <tr style=\"text-align: right;\">\n",
       "      <th></th>\n",
       "      <th>year</th>\n",
       "      <th>sale_price_sqr_foot</th>\n",
       "      <th>housing_units</th>\n",
       "      <th>gross_rent</th>\n",
       "    </tr>\n",
       "    <tr>\n",
       "      <th>neighborhood</th>\n",
       "      <th></th>\n",
       "      <th></th>\n",
       "      <th></th>\n",
       "      <th></th>\n",
       "    </tr>\n",
       "  </thead>\n",
       "  <tbody>\n",
       "    <tr>\n",
       "      <th>Silver Terrace</th>\n",
       "      <td>2014.00</td>\n",
       "      <td>170.292549</td>\n",
       "      <td>380348.00</td>\n",
       "      <td>3528.000000</td>\n",
       "    </tr>\n",
       "    <tr>\n",
       "      <th>Hunters Point</th>\n",
       "      <td>2012.50</td>\n",
       "      <td>170.624920</td>\n",
       "      <td>377427.50</td>\n",
       "      <td>2489.000000</td>\n",
       "    </tr>\n",
       "    <tr>\n",
       "      <th>Bayview</th>\n",
       "      <td>2012.00</td>\n",
       "      <td>204.588623</td>\n",
       "      <td>376454.00</td>\n",
       "      <td>2318.400000</td>\n",
       "    </tr>\n",
       "    <tr>\n",
       "      <th>Outer Mission</th>\n",
       "      <td>2013.50</td>\n",
       "      <td>242.370952</td>\n",
       "      <td>379374.50</td>\n",
       "      <td>2995.750000</td>\n",
       "    </tr>\n",
       "    <tr>\n",
       "      <th>Visitacion Valley</th>\n",
       "      <td>2014.50</td>\n",
       "      <td>301.466180</td>\n",
       "      <td>381321.50</td>\n",
       "      <td>3657.000000</td>\n",
       "    </tr>\n",
       "    <tr>\n",
       "      <th>...</th>\n",
       "      <td>...</td>\n",
       "      <td>...</td>\n",
       "      <td>...</td>\n",
       "      <td>...</td>\n",
       "    </tr>\n",
       "    <tr>\n",
       "      <th>Westwood Park</th>\n",
       "      <td>2015.00</td>\n",
       "      <td>687.087575</td>\n",
       "      <td>382295.00</td>\n",
       "      <td>3959.000000</td>\n",
       "    </tr>\n",
       "    <tr>\n",
       "      <th>Pacific Heights</th>\n",
       "      <td>2013.00</td>\n",
       "      <td>689.555817</td>\n",
       "      <td>378401.00</td>\n",
       "      <td>2817.285714</td>\n",
       "    </tr>\n",
       "    <tr>\n",
       "      <th>Miraloma Park</th>\n",
       "      <td>2011.75</td>\n",
       "      <td>779.810842</td>\n",
       "      <td>375967.25</td>\n",
       "      <td>2155.250000</td>\n",
       "    </tr>\n",
       "    <tr>\n",
       "      <th>Merced Heights</th>\n",
       "      <td>2014.00</td>\n",
       "      <td>788.844818</td>\n",
       "      <td>380348.00</td>\n",
       "      <td>3414.000000</td>\n",
       "    </tr>\n",
       "    <tr>\n",
       "      <th>Union Square District</th>\n",
       "      <td>2012.50</td>\n",
       "      <td>903.993258</td>\n",
       "      <td>377427.50</td>\n",
       "      <td>2555.166667</td>\n",
       "    </tr>\n",
       "  </tbody>\n",
       "</table>\n",
       "<p>73 rows × 4 columns</p>\n",
       "</div>"
      ],
      "text/plain": [
       "                          year  sale_price_sqr_foot  housing_units  \\\n",
       "neighborhood                                                         \n",
       "Silver Terrace         2014.00           170.292549      380348.00   \n",
       "Hunters Point          2012.50           170.624920      377427.50   \n",
       "Bayview                2012.00           204.588623      376454.00   \n",
       "Outer Mission          2013.50           242.370952      379374.50   \n",
       "Visitacion Valley      2014.50           301.466180      381321.50   \n",
       "...                        ...                  ...            ...   \n",
       "Westwood Park          2015.00           687.087575      382295.00   \n",
       "Pacific Heights        2013.00           689.555817      378401.00   \n",
       "Miraloma Park          2011.75           779.810842      375967.25   \n",
       "Merced Heights         2014.00           788.844818      380348.00   \n",
       "Union Square District  2012.50           903.993258      377427.50   \n",
       "\n",
       "                        gross_rent  \n",
       "neighborhood                        \n",
       "Silver Terrace         3528.000000  \n",
       "Hunters Point          2489.000000  \n",
       "Bayview                2318.400000  \n",
       "Outer Mission          2995.750000  \n",
       "Visitacion Valley      3657.000000  \n",
       "...                            ...  \n",
       "Westwood Park          3959.000000  \n",
       "Pacific Heights        2817.285714  \n",
       "Miraloma Park          2155.250000  \n",
       "Merced Heights         3414.000000  \n",
       "Union Square District  2555.166667  \n",
       "\n",
       "[73 rows x 4 columns]"
      ]
     },
     "execution_count": 22,
     "metadata": {},
     "output_type": "execute_result"
    }
   ],
   "source": [
    "sfo_data.sort_values(by=['sale_price_sqr_foot'], inplace=True)\n",
    "sfo_data"
   ]
  },
  {
   "cell_type": "code",
   "execution_count": 23,
   "id": "1f3232d3-5faa-4886-b213-386b1b46bd25",
   "metadata": {},
   "outputs": [
    {
     "data": {
      "text/html": [
       "<div>\n",
       "<style scoped>\n",
       "    .dataframe tbody tr th:only-of-type {\n",
       "        vertical-align: middle;\n",
       "    }\n",
       "\n",
       "    .dataframe tbody tr th {\n",
       "        vertical-align: top;\n",
       "    }\n",
       "\n",
       "    .dataframe thead th {\n",
       "        text-align: right;\n",
       "    }\n",
       "</style>\n",
       "<table border=\"1\" class=\"dataframe\">\n",
       "  <thead>\n",
       "    <tr style=\"text-align: right;\">\n",
       "      <th></th>\n",
       "      <th>year</th>\n",
       "      <th>sale_price_sqr_foot</th>\n",
       "      <th>housing_units</th>\n",
       "      <th>gross_rent</th>\n",
       "    </tr>\n",
       "    <tr>\n",
       "      <th>neighborhood</th>\n",
       "      <th></th>\n",
       "      <th></th>\n",
       "      <th></th>\n",
       "      <th></th>\n",
       "    </tr>\n",
       "  </thead>\n",
       "  <tbody>\n",
       "    <tr>\n",
       "      <th>South Beach</th>\n",
       "      <td>2011.666667</td>\n",
       "      <td>650.124479</td>\n",
       "      <td>375805.00</td>\n",
       "      <td>2099.000000</td>\n",
       "    </tr>\n",
       "    <tr>\n",
       "      <th>Potrero Hill</th>\n",
       "      <td>2013.000000</td>\n",
       "      <td>662.013613</td>\n",
       "      <td>378401.00</td>\n",
       "      <td>2817.285714</td>\n",
       "    </tr>\n",
       "    <tr>\n",
       "      <th>Cow Hollow</th>\n",
       "      <td>2013.000000</td>\n",
       "      <td>665.964042</td>\n",
       "      <td>378401.00</td>\n",
       "      <td>2817.285714</td>\n",
       "    </tr>\n",
       "    <tr>\n",
       "      <th>Presidio Heights</th>\n",
       "      <td>2013.000000</td>\n",
       "      <td>675.350212</td>\n",
       "      <td>378401.00</td>\n",
       "      <td>2817.285714</td>\n",
       "    </tr>\n",
       "    <tr>\n",
       "      <th>Telegraph Hill</th>\n",
       "      <td>2013.000000</td>\n",
       "      <td>676.506578</td>\n",
       "      <td>378401.00</td>\n",
       "      <td>2817.285714</td>\n",
       "    </tr>\n",
       "    <tr>\n",
       "      <th>Westwood Park</th>\n",
       "      <td>2015.000000</td>\n",
       "      <td>687.087575</td>\n",
       "      <td>382295.00</td>\n",
       "      <td>3959.000000</td>\n",
       "    </tr>\n",
       "    <tr>\n",
       "      <th>Pacific Heights</th>\n",
       "      <td>2013.000000</td>\n",
       "      <td>689.555817</td>\n",
       "      <td>378401.00</td>\n",
       "      <td>2817.285714</td>\n",
       "    </tr>\n",
       "    <tr>\n",
       "      <th>Miraloma Park</th>\n",
       "      <td>2011.750000</td>\n",
       "      <td>779.810842</td>\n",
       "      <td>375967.25</td>\n",
       "      <td>2155.250000</td>\n",
       "    </tr>\n",
       "    <tr>\n",
       "      <th>Merced Heights</th>\n",
       "      <td>2014.000000</td>\n",
       "      <td>788.844818</td>\n",
       "      <td>380348.00</td>\n",
       "      <td>3414.000000</td>\n",
       "    </tr>\n",
       "    <tr>\n",
       "      <th>Union Square District</th>\n",
       "      <td>2012.500000</td>\n",
       "      <td>903.993258</td>\n",
       "      <td>377427.50</td>\n",
       "      <td>2555.166667</td>\n",
       "    </tr>\n",
       "  </tbody>\n",
       "</table>\n",
       "</div>"
      ],
      "text/plain": [
       "                              year  sale_price_sqr_foot  housing_units  \\\n",
       "neighborhood                                                             \n",
       "South Beach            2011.666667           650.124479      375805.00   \n",
       "Potrero Hill           2013.000000           662.013613      378401.00   \n",
       "Cow Hollow             2013.000000           665.964042      378401.00   \n",
       "Presidio Heights       2013.000000           675.350212      378401.00   \n",
       "Telegraph Hill         2013.000000           676.506578      378401.00   \n",
       "Westwood Park          2015.000000           687.087575      382295.00   \n",
       "Pacific Heights        2013.000000           689.555817      378401.00   \n",
       "Miraloma Park          2011.750000           779.810842      375967.25   \n",
       "Merced Heights         2014.000000           788.844818      380348.00   \n",
       "Union Square District  2012.500000           903.993258      377427.50   \n",
       "\n",
       "                        gross_rent  \n",
       "neighborhood                        \n",
       "South Beach            2099.000000  \n",
       "Potrero Hill           2817.285714  \n",
       "Cow Hollow             2817.285714  \n",
       "Presidio Heights       2817.285714  \n",
       "Telegraph Hill         2817.285714  \n",
       "Westwood Park          3959.000000  \n",
       "Pacific Heights        2817.285714  \n",
       "Miraloma Park          2155.250000  \n",
       "Merced Heights         3414.000000  \n",
       "Union Square District  2555.166667  "
      ]
     },
     "execution_count": 23,
     "metadata": {},
     "output_type": "execute_result"
    }
   ],
   "source": [
    "# Pick 10 the most expensive neighborhood\n",
    "sfo_data.tail(10)"
   ]
  },
  {
   "cell_type": "code",
   "execution_count": 24,
   "id": "20c3a20e-33f8-4184-96d0-6ffaa065a731",
   "metadata": {},
   "outputs": [
    {
     "data": {
      "text/html": [
       "<div>\n",
       "<style scoped>\n",
       "    .dataframe tbody tr th:only-of-type {\n",
       "        vertical-align: middle;\n",
       "    }\n",
       "\n",
       "    .dataframe tbody tr th {\n",
       "        vertical-align: top;\n",
       "    }\n",
       "\n",
       "    .dataframe thead th {\n",
       "        text-align: right;\n",
       "    }\n",
       "</style>\n",
       "<table border=\"1\" class=\"dataframe\">\n",
       "  <thead>\n",
       "    <tr style=\"text-align: right;\">\n",
       "      <th></th>\n",
       "      <th>sale_price_sqr_foot</th>\n",
       "      <th>housing_units</th>\n",
       "      <th>gross_rent</th>\n",
       "    </tr>\n",
       "    <tr>\n",
       "      <th>neighborhood</th>\n",
       "      <th></th>\n",
       "      <th></th>\n",
       "      <th></th>\n",
       "    </tr>\n",
       "  </thead>\n",
       "  <tbody>\n",
       "    <tr>\n",
       "      <th>South Beach</th>\n",
       "      <td>650.124479</td>\n",
       "      <td>375805.00</td>\n",
       "      <td>2099.000000</td>\n",
       "    </tr>\n",
       "    <tr>\n",
       "      <th>Potrero Hill</th>\n",
       "      <td>662.013613</td>\n",
       "      <td>378401.00</td>\n",
       "      <td>2817.285714</td>\n",
       "    </tr>\n",
       "    <tr>\n",
       "      <th>Cow Hollow</th>\n",
       "      <td>665.964042</td>\n",
       "      <td>378401.00</td>\n",
       "      <td>2817.285714</td>\n",
       "    </tr>\n",
       "    <tr>\n",
       "      <th>Presidio Heights</th>\n",
       "      <td>675.350212</td>\n",
       "      <td>378401.00</td>\n",
       "      <td>2817.285714</td>\n",
       "    </tr>\n",
       "    <tr>\n",
       "      <th>Telegraph Hill</th>\n",
       "      <td>676.506578</td>\n",
       "      <td>378401.00</td>\n",
       "      <td>2817.285714</td>\n",
       "    </tr>\n",
       "    <tr>\n",
       "      <th>Westwood Park</th>\n",
       "      <td>687.087575</td>\n",
       "      <td>382295.00</td>\n",
       "      <td>3959.000000</td>\n",
       "    </tr>\n",
       "    <tr>\n",
       "      <th>Pacific Heights</th>\n",
       "      <td>689.555817</td>\n",
       "      <td>378401.00</td>\n",
       "      <td>2817.285714</td>\n",
       "    </tr>\n",
       "    <tr>\n",
       "      <th>Miraloma Park</th>\n",
       "      <td>779.810842</td>\n",
       "      <td>375967.25</td>\n",
       "      <td>2155.250000</td>\n",
       "    </tr>\n",
       "    <tr>\n",
       "      <th>Merced Heights</th>\n",
       "      <td>788.844818</td>\n",
       "      <td>380348.00</td>\n",
       "      <td>3414.000000</td>\n",
       "    </tr>\n",
       "    <tr>\n",
       "      <th>Union Square District</th>\n",
       "      <td>903.993258</td>\n",
       "      <td>377427.50</td>\n",
       "      <td>2555.166667</td>\n",
       "    </tr>\n",
       "  </tbody>\n",
       "</table>\n",
       "</div>"
      ],
      "text/plain": [
       "                       sale_price_sqr_foot  housing_units   gross_rent\n",
       "neighborhood                                                          \n",
       "South Beach                     650.124479      375805.00  2099.000000\n",
       "Potrero Hill                    662.013613      378401.00  2817.285714\n",
       "Cow Hollow                      665.964042      378401.00  2817.285714\n",
       "Presidio Heights                675.350212      378401.00  2817.285714\n",
       "Telegraph Hill                  676.506578      378401.00  2817.285714\n",
       "Westwood Park                   687.087575      382295.00  3959.000000\n",
       "Pacific Heights                 689.555817      378401.00  2817.285714\n",
       "Miraloma Park                   779.810842      375967.25  2155.250000\n",
       "Merced Heights                  788.844818      380348.00  3414.000000\n",
       "Union Square District           903.993258      377427.50  2555.166667"
      ]
     },
     "execution_count": 24,
     "metadata": {},
     "output_type": "execute_result"
    }
   ],
   "source": [
    "sfo_data.drop('year', axis=1, inplace=True)\n",
    "sfo_data.tail(10)"
   ]
  },
  {
   "cell_type": "code",
   "execution_count": 25,
   "id": "d33f86ba-bc0b-4638-8a8f-044993ce92a1",
   "metadata": {},
   "outputs": [
    {
     "data": {},
     "metadata": {},
     "output_type": "display_data"
    },
    {
     "data": {
      "application/vnd.holoviews_exec.v0+json": "",
      "text/html": [
       "<div id='1246'>\n",
       "\n",
       "\n",
       "\n",
       "\n",
       "\n",
       "  <div class=\"bk-root\" id=\"a569a36a-0411-4be1-aeaf-57b89fd5ac81\" data-root-id=\"1246\"></div>\n",
       "</div>\n",
       "<script type=\"application/javascript\">(function(root) {\n",
       "  function embed_document(root) {\n",
       "    var docs_json = {\"cb338d3c-ba67-4911-b1aa-cd786ddae86d\":{\"defs\":[{\"extends\":null,\"module\":null,\"name\":\"ReactiveHTML1\",\"overrides\":[],\"properties\":[]},{\"extends\":null,\"module\":null,\"name\":\"FlexBox1\",\"overrides\":[],\"properties\":[{\"default\":\"flex-start\",\"kind\":null,\"name\":\"align_content\"},{\"default\":\"flex-start\",\"kind\":null,\"name\":\"align_items\"},{\"default\":\"row\",\"kind\":null,\"name\":\"flex_direction\"},{\"default\":\"wrap\",\"kind\":null,\"name\":\"flex_wrap\"},{\"default\":\"flex-start\",\"kind\":null,\"name\":\"justify_content\"}]},{\"extends\":null,\"module\":null,\"name\":\"TemplateActions1\",\"overrides\":[],\"properties\":[{\"default\":0,\"kind\":null,\"name\":\"open_modal\"},{\"default\":0,\"kind\":null,\"name\":\"close_modal\"}]},{\"extends\":null,\"module\":null,\"name\":\"MaterialTemplateActions1\",\"overrides\":[],\"properties\":[{\"default\":0,\"kind\":null,\"name\":\"open_modal\"},{\"default\":0,\"kind\":null,\"name\":\"close_modal\"}]}],\"roots\":{\"references\":[{\"attributes\":{\"coordinates\":null,\"data_source\":{\"id\":\"1280\"},\"glyph\":{\"id\":\"1283\"},\"group\":null,\"hover_glyph\":null,\"muted_glyph\":{\"id\":\"1285\"},\"nonselection_glyph\":{\"id\":\"1284\"},\"selection_glyph\":{\"id\":\"1288\"},\"view\":{\"id\":\"1287\"}},\"id\":\"1286\",\"type\":\"GlyphRenderer\"},{\"attributes\":{\"factors\":[\"South Beach\",\"Potrero Hill\",\"Cow Hollow\",\"Presidio Heights\",\"Telegraph Hill\",\"Westwood Park\",\"Pacific Heights\",\"Miraloma Park\",\"Merced Heights\",\"Union Square District\"],\"tags\":[[[\"neighborhood\",\"neighborhood\",null]]]},\"id\":\"1248\",\"type\":\"FactorRange\"},{\"attributes\":{\"margin\":[5,5,5,5],\"name\":\"HSpacer02035\",\"sizing_mode\":\"stretch_width\"},\"id\":\"1315\",\"type\":\"Spacer\"},{\"attributes\":{\"margin\":[5,5,5,5],\"name\":\"HSpacer02034\",\"sizing_mode\":\"stretch_width\"},\"id\":\"1247\",\"type\":\"Spacer\"},{\"attributes\":{\"data\":{\"neighborhood\":[\"South Beach\",\"Potrero Hill\",\"Cow Hollow\",\"Presidio Heights\",\"Telegraph Hill\",\"Westwood Park\",\"Pacific Heights\",\"Miraloma Park\",\"Merced Heights\",\"Union Square District\"],\"sale_price_sqr_foot\":{\"__ndarray__\":\"ya3y7v5QhECazArhG7CEQAtXblu2z4RAy835O80ahUC9CoV4DSSFQGvQRFqzeIVAFpsVUHKMhUBcf96afF6IQH0iuS/CpohAJRAUMfI/jEA=\",\"dtype\":\"float64\",\"order\":\"little\",\"shape\":[10]}},\"selected\":{\"id\":\"1281\"},\"selection_policy\":{\"id\":\"1302\"}},\"id\":\"1280\",\"type\":\"ColumnDataSource\"},{\"attributes\":{\"bottom_units\":\"screen\",\"coordinates\":null,\"fill_alpha\":0.5,\"fill_color\":\"lightgrey\",\"group\":null,\"left_units\":\"screen\",\"level\":\"overlay\",\"line_alpha\":1.0,\"line_color\":\"black\",\"line_dash\":[4,4],\"line_width\":2,\"right_units\":\"screen\",\"syncable\":false,\"top_units\":\"screen\"},\"id\":\"1272\",\"type\":\"BoxAnnotation\"},{\"attributes\":{},\"id\":\"1267\",\"type\":\"SaveTool\"},{\"attributes\":{},\"id\":\"1268\",\"type\":\"PanTool\"},{\"attributes\":{\"axis_label\":\"neighborhood\",\"coordinates\":null,\"formatter\":{\"id\":\"1290\"},\"group\":null,\"major_label_orientation\":1.5707963267948966,\"major_label_policy\":{\"id\":\"1291\"},\"ticker\":{\"id\":\"1261\"}},\"id\":\"1260\",\"type\":\"CategoricalAxis\"},{\"attributes\":{},\"id\":\"1271\",\"type\":\"ResetTool\"},{\"attributes\":{\"fill_alpha\":{\"value\":0.2},\"fill_color\":{\"value\":\"#30a2da\"},\"hatch_alpha\":{\"value\":0.2},\"hatch_color\":{\"value\":\"#30a2da\"},\"line_alpha\":{\"value\":0.2},\"top\":{\"field\":\"sale_price_sqr_foot\"},\"width\":{\"value\":0.8},\"x\":{\"field\":\"neighborhood\"}},\"id\":\"1285\",\"type\":\"VBar\"},{\"attributes\":{},\"id\":\"1269\",\"type\":\"WheelZoomTool\"},{\"attributes\":{\"overlay\":{\"id\":\"1272\"}},\"id\":\"1270\",\"type\":\"BoxZoomTool\"},{\"attributes\":{},\"id\":\"1290\",\"type\":\"CategoricalTickFormatter\"},{\"attributes\":{\"fill_color\":{\"value\":\"#30a2da\"},\"hatch_color\":{\"value\":\"#30a2da\"},\"top\":{\"field\":\"sale_price_sqr_foot\"},\"width\":{\"value\":0.8},\"x\":{\"field\":\"neighborhood\"}},\"id\":\"1283\",\"type\":\"VBar\"},{\"attributes\":{\"source\":{\"id\":\"1280\"}},\"id\":\"1287\",\"type\":\"CDSView\"},{\"attributes\":{\"bottom\":{\"value\":0},\"fill_alpha\":{\"value\":1.0},\"fill_color\":{\"value\":\"#30a2da\"},\"hatch_alpha\":{\"value\":1.0},\"hatch_color\":{\"value\":\"#30a2da\"},\"hatch_scale\":{\"value\":12.0},\"hatch_weight\":{\"value\":1.0},\"line_alpha\":{\"value\":1.0},\"line_cap\":{\"value\":\"butt\"},\"line_color\":{\"value\":\"black\"},\"line_dash\":{\"value\":[]},\"line_dash_offset\":{\"value\":0},\"line_join\":{\"value\":\"bevel\"},\"line_width\":{\"value\":1},\"top\":{\"field\":\"sale_price_sqr_foot\"},\"width\":{\"value\":0.8},\"x\":{\"field\":\"neighborhood\"}},\"id\":\"1288\",\"type\":\"VBar\"},{\"attributes\":{\"below\":[{\"id\":\"1260\"}],\"center\":[{\"id\":\"1262\"},{\"id\":\"1266\"}],\"height\":300,\"left\":[{\"id\":\"1263\"}],\"margin\":[5,5,5,5],\"min_border_bottom\":10,\"min_border_left\":10,\"min_border_right\":10,\"min_border_top\":10,\"renderers\":[{\"id\":\"1286\"}],\"sizing_mode\":\"fixed\",\"title\":{\"id\":\"1252\"},\"toolbar\":{\"id\":\"1273\"},\"width\":700,\"x_range\":{\"id\":\"1248\"},\"x_scale\":{\"id\":\"1256\"},\"y_range\":{\"id\":\"1249\"},\"y_scale\":{\"id\":\"1258\"}},\"id\":\"1251\",\"subtype\":\"Figure\",\"type\":\"Plot\"},{\"attributes\":{\"axis\":{\"id\":\"1260\"},\"coordinates\":null,\"grid_line_color\":null,\"group\":null,\"ticker\":null},\"id\":\"1262\",\"type\":\"Grid\"},{\"attributes\":{},\"id\":\"1256\",\"type\":\"CategoricalScale\"},{\"attributes\":{\"tools\":[{\"id\":\"1250\"},{\"id\":\"1267\"},{\"id\":\"1268\"},{\"id\":\"1269\"},{\"id\":\"1270\"},{\"id\":\"1271\"}]},\"id\":\"1273\",\"type\":\"Toolbar\"},{\"attributes\":{\"coordinates\":null,\"group\":null,\"text\":\"top 10 most expensive neighborhoods\",\"text_color\":\"black\",\"text_font_size\":\"12pt\"},\"id\":\"1252\",\"type\":\"Title\"},{\"attributes\":{},\"id\":\"1293\",\"type\":\"BasicTickFormatter\"},{\"attributes\":{\"children\":[{\"id\":\"1247\"},{\"id\":\"1251\"},{\"id\":\"1315\"}],\"margin\":[0,0,0,0],\"name\":\"Row02030\",\"tags\":[\"embedded\"]},\"id\":\"1246\",\"type\":\"Row\"},{\"attributes\":{},\"id\":\"1258\",\"type\":\"LinearScale\"},{\"attributes\":{\"fill_alpha\":{\"value\":0.1},\"fill_color\":{\"value\":\"#30a2da\"},\"hatch_alpha\":{\"value\":0.1},\"hatch_color\":{\"value\":\"#30a2da\"},\"line_alpha\":{\"value\":0.1},\"top\":{\"field\":\"sale_price_sqr_foot\"},\"width\":{\"value\":0.8},\"x\":{\"field\":\"neighborhood\"}},\"id\":\"1284\",\"type\":\"VBar\"},{\"attributes\":{\"end\":929.3801355198136,\"reset_end\":929.3801355198136,\"reset_start\":0.0,\"tags\":[[[\"sale_price_sqr_foot\",\"sale_price_sqr_foot\",null]]]},\"id\":\"1249\",\"type\":\"Range1d\"},{\"attributes\":{\"axis\":{\"id\":\"1263\"},\"coordinates\":null,\"dimension\":1,\"grid_line_color\":null,\"group\":null,\"ticker\":null},\"id\":\"1266\",\"type\":\"Grid\"},{\"attributes\":{},\"id\":\"1261\",\"type\":\"CategoricalTicker\"},{\"attributes\":{\"axis_label\":\"sale_price_sqr_foot\",\"coordinates\":null,\"formatter\":{\"id\":\"1293\"},\"group\":null,\"major_label_policy\":{\"id\":\"1294\"},\"ticker\":{\"id\":\"1264\"}},\"id\":\"1263\",\"type\":\"LinearAxis\"},{\"attributes\":{},\"id\":\"1264\",\"type\":\"BasicTicker\"},{\"attributes\":{},\"id\":\"1291\",\"type\":\"AllLabels\"},{\"attributes\":{},\"id\":\"1302\",\"type\":\"UnionRenderers\"},{\"attributes\":{},\"id\":\"1294\",\"type\":\"AllLabels\"},{\"attributes\":{},\"id\":\"1281\",\"type\":\"Selection\"},{\"attributes\":{\"callback\":null,\"renderers\":[{\"id\":\"1286\"}],\"tags\":[\"hv_created\"],\"tooltips\":[[\"neighborhood\",\"@{neighborhood}\"],[\"sale_price_sqr_foot\",\"@{sale_price_sqr_foot}\"]]},\"id\":\"1250\",\"type\":\"HoverTool\"}],\"root_ids\":[\"1246\"]},\"title\":\"Bokeh Application\",\"version\":\"2.4.1\"}};\n",
       "    var render_items = [{\"docid\":\"cb338d3c-ba67-4911-b1aa-cd786ddae86d\",\"root_ids\":[\"1246\"],\"roots\":{\"1246\":\"a569a36a-0411-4be1-aeaf-57b89fd5ac81\"}}];\n",
       "    root.Bokeh.embed.embed_items_notebook(docs_json, render_items);\n",
       "  }\n",
       "  if (root.Bokeh !== undefined && root.Bokeh.Panel !== undefined && ( root['Plotly'] !== undefined)) {\n",
       "    embed_document(root);\n",
       "  } else {\n",
       "    var attempts = 0;\n",
       "    var timer = setInterval(function(root) {\n",
       "      if (root.Bokeh !== undefined && root.Bokeh.Panel !== undefined && (root['Plotly'] !== undefined)) {\n",
       "        clearInterval(timer);\n",
       "        embed_document(root);\n",
       "      } else if (document.readyState == \"complete\") {\n",
       "        attempts++;\n",
       "        if (attempts > 200) {\n",
       "          clearInterval(timer);\n",
       "          console.log(\"Bokeh: ERROR: Unable to run BokehJS code because BokehJS library is missing\");\n",
       "        }\n",
       "      }\n",
       "    }, 25, root)\n",
       "  }\n",
       "})(window);</script>"
      ],
      "text/plain": [
       ":Bars   [neighborhood]   (sale_price_sqr_foot)"
      ]
     },
     "execution_count": 25,
     "metadata": {
      "application/vnd.holoviews_exec.v0+json": {
       "id": "1246"
      }
     },
     "output_type": "execute_result"
    }
   ],
   "source": [
    "# Plotting the data from the top 10 expensive neighborhoods\n",
    "sfo_data.tail(10).hvplot.bar(x='neighborhood', y='sale_price_sqr_foot',rot=90).opts(title=\"top 10 most expensive neighborhoods\")"
   ]
  },
  {
   "cell_type": "markdown",
   "id": "de24b494-a04c-428a-bf00-aaf2f56d7915",
   "metadata": {},
   "source": [
    "## Comparing cost to purchase versus rental income\n",
    "\n",
    "In this section, you will use `hvplot` to create an interactive visualization with a dropdown selector for the neighborhood. This visualization will feature a side-by-side comparison of average price per square foot versus average montly rent by year.  \n",
    "\n",
    "**Hint:** Use the `hvplot` parameter, `groupby`, to create a dropdown selector for the neighborhood."
   ]
  },
  {
   "cell_type": "code",
   "execution_count": 26,
   "id": "4dcffb73-772e-4006-a846-2838588d5018",
   "metadata": {},
   "outputs": [
    {
     "data": {
      "text/html": [
       "<div>\n",
       "<style scoped>\n",
       "    .dataframe tbody tr th:only-of-type {\n",
       "        vertical-align: middle;\n",
       "    }\n",
       "\n",
       "    .dataframe tbody tr th {\n",
       "        vertical-align: top;\n",
       "    }\n",
       "\n",
       "    .dataframe thead th {\n",
       "        text-align: right;\n",
       "    }\n",
       "</style>\n",
       "<table border=\"1\" class=\"dataframe\">\n",
       "  <thead>\n",
       "    <tr style=\"text-align: right;\">\n",
       "      <th></th>\n",
       "      <th>year</th>\n",
       "      <th>neighborhood</th>\n",
       "      <th>sale_price_sqr_foot</th>\n",
       "      <th>housing_units</th>\n",
       "      <th>gross_rent</th>\n",
       "    </tr>\n",
       "  </thead>\n",
       "  <tbody>\n",
       "    <tr>\n",
       "      <th>0</th>\n",
       "      <td>2010</td>\n",
       "      <td>Alamo Square</td>\n",
       "      <td>291.182945</td>\n",
       "      <td>372560</td>\n",
       "      <td>1239</td>\n",
       "    </tr>\n",
       "    <tr>\n",
       "      <th>1</th>\n",
       "      <td>2010</td>\n",
       "      <td>Anza Vista</td>\n",
       "      <td>267.932583</td>\n",
       "      <td>372560</td>\n",
       "      <td>1239</td>\n",
       "    </tr>\n",
       "    <tr>\n",
       "      <th>2</th>\n",
       "      <td>2010</td>\n",
       "      <td>Bayview</td>\n",
       "      <td>170.098665</td>\n",
       "      <td>372560</td>\n",
       "      <td>1239</td>\n",
       "    </tr>\n",
       "    <tr>\n",
       "      <th>3</th>\n",
       "      <td>2010</td>\n",
       "      <td>Buena Vista Park</td>\n",
       "      <td>347.394919</td>\n",
       "      <td>372560</td>\n",
       "      <td>1239</td>\n",
       "    </tr>\n",
       "    <tr>\n",
       "      <th>4</th>\n",
       "      <td>2010</td>\n",
       "      <td>Central Richmond</td>\n",
       "      <td>319.027623</td>\n",
       "      <td>372560</td>\n",
       "      <td>1239</td>\n",
       "    </tr>\n",
       "    <tr>\n",
       "      <th>5</th>\n",
       "      <td>2010</td>\n",
       "      <td>Central Sunset</td>\n",
       "      <td>418.172493</td>\n",
       "      <td>372560</td>\n",
       "      <td>1239</td>\n",
       "    </tr>\n",
       "    <tr>\n",
       "      <th>6</th>\n",
       "      <td>2010</td>\n",
       "      <td>Corona Heights</td>\n",
       "      <td>369.359338</td>\n",
       "      <td>372560</td>\n",
       "      <td>1239</td>\n",
       "    </tr>\n",
       "    <tr>\n",
       "      <th>7</th>\n",
       "      <td>2010</td>\n",
       "      <td>Cow Hollow</td>\n",
       "      <td>569.379968</td>\n",
       "      <td>372560</td>\n",
       "      <td>1239</td>\n",
       "    </tr>\n",
       "    <tr>\n",
       "      <th>8</th>\n",
       "      <td>2010</td>\n",
       "      <td>Croker Amazon</td>\n",
       "      <td>165.645730</td>\n",
       "      <td>372560</td>\n",
       "      <td>1239</td>\n",
       "    </tr>\n",
       "    <tr>\n",
       "      <th>9</th>\n",
       "      <td>2010</td>\n",
       "      <td>Diamond Heights</td>\n",
       "      <td>456.930822</td>\n",
       "      <td>372560</td>\n",
       "      <td>1239</td>\n",
       "    </tr>\n",
       "  </tbody>\n",
       "</table>\n",
       "</div>"
      ],
      "text/plain": [
       "   year      neighborhood  sale_price_sqr_foot  housing_units  gross_rent\n",
       "0  2010      Alamo Square           291.182945         372560        1239\n",
       "1  2010        Anza Vista           267.932583         372560        1239\n",
       "2  2010           Bayview           170.098665         372560        1239\n",
       "3  2010  Buena Vista Park           347.394919         372560        1239\n",
       "4  2010  Central Richmond           319.027623         372560        1239\n",
       "5  2010    Central Sunset           418.172493         372560        1239\n",
       "6  2010    Corona Heights           369.359338         372560        1239\n",
       "7  2010        Cow Hollow           569.379968         372560        1239\n",
       "8  2010     Croker Amazon           165.645730         372560        1239\n",
       "9  2010   Diamond Heights           456.930822         372560        1239"
      ]
     },
     "execution_count": 26,
     "metadata": {},
     "output_type": "execute_result"
    }
   ],
   "source": [
    "# Fetch the previously generated DataFrame that was grouped by year and neighborhood\n",
    "sfo_data = pd.read_csv(\"sfo_neighborhoods_census_data.csv\")\n",
    "sfo_data.head(10)"
   ]
  },
  {
   "cell_type": "code",
   "execution_count": 27,
   "id": "fc697005-0ae7-4486-a8c7-f20bbc53a825",
   "metadata": {},
   "outputs": [
    {
     "data": {
      "text/html": [
       "<div>\n",
       "<style scoped>\n",
       "    .dataframe tbody tr th:only-of-type {\n",
       "        vertical-align: middle;\n",
       "    }\n",
       "\n",
       "    .dataframe tbody tr th {\n",
       "        vertical-align: top;\n",
       "    }\n",
       "\n",
       "    .dataframe thead th {\n",
       "        text-align: right;\n",
       "    }\n",
       "</style>\n",
       "<table border=\"1\" class=\"dataframe\">\n",
       "  <thead>\n",
       "    <tr style=\"text-align: right;\">\n",
       "      <th></th>\n",
       "      <th>neighborhood</th>\n",
       "      <th>sale_price_sqr_foot</th>\n",
       "      <th>housing_units</th>\n",
       "      <th>gross_rent</th>\n",
       "    </tr>\n",
       "    <tr>\n",
       "      <th>year</th>\n",
       "      <th></th>\n",
       "      <th></th>\n",
       "      <th></th>\n",
       "      <th></th>\n",
       "    </tr>\n",
       "  </thead>\n",
       "  <tbody>\n",
       "    <tr>\n",
       "      <th>2010</th>\n",
       "      <td>Alamo Square</td>\n",
       "      <td>291.182945</td>\n",
       "      <td>372560</td>\n",
       "      <td>1239</td>\n",
       "    </tr>\n",
       "    <tr>\n",
       "      <th>2010</th>\n",
       "      <td>Anza Vista</td>\n",
       "      <td>267.932583</td>\n",
       "      <td>372560</td>\n",
       "      <td>1239</td>\n",
       "    </tr>\n",
       "    <tr>\n",
       "      <th>2010</th>\n",
       "      <td>Bayview</td>\n",
       "      <td>170.098665</td>\n",
       "      <td>372560</td>\n",
       "      <td>1239</td>\n",
       "    </tr>\n",
       "    <tr>\n",
       "      <th>2010</th>\n",
       "      <td>Buena Vista Park</td>\n",
       "      <td>347.394919</td>\n",
       "      <td>372560</td>\n",
       "      <td>1239</td>\n",
       "    </tr>\n",
       "    <tr>\n",
       "      <th>2010</th>\n",
       "      <td>Central Richmond</td>\n",
       "      <td>319.027623</td>\n",
       "      <td>372560</td>\n",
       "      <td>1239</td>\n",
       "    </tr>\n",
       "    <tr>\n",
       "      <th>2010</th>\n",
       "      <td>Central Sunset</td>\n",
       "      <td>418.172493</td>\n",
       "      <td>372560</td>\n",
       "      <td>1239</td>\n",
       "    </tr>\n",
       "    <tr>\n",
       "      <th>2010</th>\n",
       "      <td>Corona Heights</td>\n",
       "      <td>369.359338</td>\n",
       "      <td>372560</td>\n",
       "      <td>1239</td>\n",
       "    </tr>\n",
       "    <tr>\n",
       "      <th>2010</th>\n",
       "      <td>Cow Hollow</td>\n",
       "      <td>569.379968</td>\n",
       "      <td>372560</td>\n",
       "      <td>1239</td>\n",
       "    </tr>\n",
       "    <tr>\n",
       "      <th>2010</th>\n",
       "      <td>Croker Amazon</td>\n",
       "      <td>165.645730</td>\n",
       "      <td>372560</td>\n",
       "      <td>1239</td>\n",
       "    </tr>\n",
       "    <tr>\n",
       "      <th>2010</th>\n",
       "      <td>Diamond Heights</td>\n",
       "      <td>456.930822</td>\n",
       "      <td>372560</td>\n",
       "      <td>1239</td>\n",
       "    </tr>\n",
       "  </tbody>\n",
       "</table>\n",
       "</div>"
      ],
      "text/plain": [
       "          neighborhood  sale_price_sqr_foot  housing_units  gross_rent\n",
       "year                                                                  \n",
       "2010      Alamo Square           291.182945         372560        1239\n",
       "2010        Anza Vista           267.932583         372560        1239\n",
       "2010           Bayview           170.098665         372560        1239\n",
       "2010  Buena Vista Park           347.394919         372560        1239\n",
       "2010  Central Richmond           319.027623         372560        1239\n",
       "2010    Central Sunset           418.172493         372560        1239\n",
       "2010    Corona Heights           369.359338         372560        1239\n",
       "2010        Cow Hollow           569.379968         372560        1239\n",
       "2010     Croker Amazon           165.645730         372560        1239\n",
       "2010   Diamond Heights           456.930822         372560        1239"
      ]
     },
     "execution_count": 27,
     "metadata": {},
     "output_type": "execute_result"
    }
   ],
   "source": [
    "sfo_data.set_index(\"year\", inplace=True)\n",
    "sfo_data.head(10)"
   ]
  },
  {
   "cell_type": "code",
   "execution_count": 28,
   "id": "b758b519-7dda-4562-b73b-e954c13a956e",
   "metadata": {},
   "outputs": [
    {
     "data": {
      "text/html": [
       "<div>\n",
       "<style scoped>\n",
       "    .dataframe tbody tr th:only-of-type {\n",
       "        vertical-align: middle;\n",
       "    }\n",
       "\n",
       "    .dataframe tbody tr th {\n",
       "        vertical-align: top;\n",
       "    }\n",
       "\n",
       "    .dataframe thead th {\n",
       "        text-align: right;\n",
       "    }\n",
       "</style>\n",
       "<table border=\"1\" class=\"dataframe\">\n",
       "  <thead>\n",
       "    <tr style=\"text-align: right;\">\n",
       "      <th></th>\n",
       "      <th>sale_price_sqr_foot</th>\n",
       "      <th>gross_rent</th>\n",
       "    </tr>\n",
       "    <tr>\n",
       "      <th>year</th>\n",
       "      <th></th>\n",
       "      <th></th>\n",
       "    </tr>\n",
       "  </thead>\n",
       "  <tbody>\n",
       "    <tr>\n",
       "      <th>2010</th>\n",
       "      <td>291.182945</td>\n",
       "      <td>1239</td>\n",
       "    </tr>\n",
       "    <tr>\n",
       "      <th>2010</th>\n",
       "      <td>267.932583</td>\n",
       "      <td>1239</td>\n",
       "    </tr>\n",
       "    <tr>\n",
       "      <th>2010</th>\n",
       "      <td>170.098665</td>\n",
       "      <td>1239</td>\n",
       "    </tr>\n",
       "    <tr>\n",
       "      <th>2010</th>\n",
       "      <td>347.394919</td>\n",
       "      <td>1239</td>\n",
       "    </tr>\n",
       "    <tr>\n",
       "      <th>2010</th>\n",
       "      <td>319.027623</td>\n",
       "      <td>1239</td>\n",
       "    </tr>\n",
       "    <tr>\n",
       "      <th>2010</th>\n",
       "      <td>418.172493</td>\n",
       "      <td>1239</td>\n",
       "    </tr>\n",
       "    <tr>\n",
       "      <th>2010</th>\n",
       "      <td>369.359338</td>\n",
       "      <td>1239</td>\n",
       "    </tr>\n",
       "    <tr>\n",
       "      <th>2010</th>\n",
       "      <td>569.379968</td>\n",
       "      <td>1239</td>\n",
       "    </tr>\n",
       "    <tr>\n",
       "      <th>2010</th>\n",
       "      <td>165.645730</td>\n",
       "      <td>1239</td>\n",
       "    </tr>\n",
       "    <tr>\n",
       "      <th>2010</th>\n",
       "      <td>456.930822</td>\n",
       "      <td>1239</td>\n",
       "    </tr>\n",
       "  </tbody>\n",
       "</table>\n",
       "</div>"
      ],
      "text/plain": [
       "      sale_price_sqr_foot  gross_rent\n",
       "year                                 \n",
       "2010           291.182945        1239\n",
       "2010           267.932583        1239\n",
       "2010           170.098665        1239\n",
       "2010           347.394919        1239\n",
       "2010           319.027623        1239\n",
       "2010           418.172493        1239\n",
       "2010           369.359338        1239\n",
       "2010           569.379968        1239\n",
       "2010           165.645730        1239\n",
       "2010           456.930822        1239"
      ]
     },
     "execution_count": 28,
     "metadata": {},
     "output_type": "execute_result"
    }
   ],
   "source": [
    "sfo_data = sfo_data.drop([\"neighborhood\", \"housing_units\"], axis = 1)\n",
    "sfo_data.head(10)"
   ]
  },
  {
   "cell_type": "code",
   "execution_count": 29,
   "id": "ece1bb49-f889-48c8-aa7b-6a1f97897887",
   "metadata": {},
   "outputs": [
    {
     "data": {
      "text/html": [
       "<div>\n",
       "<style scoped>\n",
       "    .dataframe tbody tr th:only-of-type {\n",
       "        vertical-align: middle;\n",
       "    }\n",
       "\n",
       "    .dataframe tbody tr th {\n",
       "        vertical-align: top;\n",
       "    }\n",
       "\n",
       "    .dataframe thead th {\n",
       "        text-align: right;\n",
       "    }\n",
       "</style>\n",
       "<table border=\"1\" class=\"dataframe\">\n",
       "  <thead>\n",
       "    <tr style=\"text-align: right;\">\n",
       "      <th></th>\n",
       "      <th>sale_price_sqr_foot</th>\n",
       "      <th>gross_rent</th>\n",
       "    </tr>\n",
       "    <tr>\n",
       "      <th>year</th>\n",
       "      <th></th>\n",
       "      <th></th>\n",
       "    </tr>\n",
       "  </thead>\n",
       "  <tbody>\n",
       "    <tr>\n",
       "      <th>2010</th>\n",
       "      <td>369.344353</td>\n",
       "      <td>1239.0</td>\n",
       "    </tr>\n",
       "    <tr>\n",
       "      <th>2011</th>\n",
       "      <td>341.903429</td>\n",
       "      <td>1530.0</td>\n",
       "    </tr>\n",
       "    <tr>\n",
       "      <th>2012</th>\n",
       "      <td>399.389968</td>\n",
       "      <td>2324.0</td>\n",
       "    </tr>\n",
       "    <tr>\n",
       "      <th>2013</th>\n",
       "      <td>483.600304</td>\n",
       "      <td>2971.0</td>\n",
       "    </tr>\n",
       "    <tr>\n",
       "      <th>2014</th>\n",
       "      <td>556.277273</td>\n",
       "      <td>3528.0</td>\n",
       "    </tr>\n",
       "    <tr>\n",
       "      <th>2015</th>\n",
       "      <td>632.540352</td>\n",
       "      <td>3739.0</td>\n",
       "    </tr>\n",
       "    <tr>\n",
       "      <th>2016</th>\n",
       "      <td>697.643709</td>\n",
       "      <td>4390.0</td>\n",
       "    </tr>\n",
       "  </tbody>\n",
       "</table>\n",
       "</div>"
      ],
      "text/plain": [
       "      sale_price_sqr_foot  gross_rent\n",
       "year                                 \n",
       "2010           369.344353      1239.0\n",
       "2011           341.903429      1530.0\n",
       "2012           399.389968      2324.0\n",
       "2013           483.600304      2971.0\n",
       "2014           556.277273      3528.0\n",
       "2015           632.540352      3739.0\n",
       "2016           697.643709      4390.0"
      ]
     },
     "execution_count": 29,
     "metadata": {},
     "output_type": "execute_result"
    }
   ],
   "source": [
    "sfo_data = sfo_data.groupby(\"year\").mean()\n",
    "sfo_data.head(10)"
   ]
  },
  {
   "cell_type": "code",
   "execution_count": 31,
   "id": "1ebb2254-e3d1-43ba-88d7-83cbdbc79972",
   "metadata": {},
   "outputs": [
    {
     "data": {},
     "metadata": {},
     "output_type": "display_data"
    },
    {
     "data": {
      "application/vnd.holoviews_exec.v0+json": "",
      "text/html": [
       "<div id='1772'>\n",
       "\n",
       "\n",
       "\n",
       "\n",
       "\n",
       "  <div class=\"bk-root\" id=\"2717fa9f-5a17-4ede-af04-5ed7c2330ff9\" data-root-id=\"1772\"></div>\n",
       "</div>\n",
       "<script type=\"application/javascript\">(function(root) {\n",
       "  function embed_document(root) {\n",
       "    var docs_json = {\"e0b3bd36-cd25-4091-8467-883b1de0c623\":{\"defs\":[{\"extends\":null,\"module\":null,\"name\":\"ReactiveHTML1\",\"overrides\":[],\"properties\":[]},{\"extends\":null,\"module\":null,\"name\":\"FlexBox1\",\"overrides\":[],\"properties\":[{\"default\":\"flex-start\",\"kind\":null,\"name\":\"align_content\"},{\"default\":\"flex-start\",\"kind\":null,\"name\":\"align_items\"},{\"default\":\"row\",\"kind\":null,\"name\":\"flex_direction\"},{\"default\":\"wrap\",\"kind\":null,\"name\":\"flex_wrap\"},{\"default\":\"flex-start\",\"kind\":null,\"name\":\"justify_content\"}]},{\"extends\":null,\"module\":null,\"name\":\"TemplateActions1\",\"overrides\":[],\"properties\":[{\"default\":0,\"kind\":null,\"name\":\"open_modal\"},{\"default\":0,\"kind\":null,\"name\":\"close_modal\"}]},{\"extends\":null,\"module\":null,\"name\":\"MaterialTemplateActions1\",\"overrides\":[],\"properties\":[{\"default\":0,\"kind\":null,\"name\":\"open_modal\"},{\"default\":0,\"kind\":null,\"name\":\"close_modal\"}]}],\"roots\":{\"references\":[{\"attributes\":{},\"id\":\"1798\",\"type\":\"ResetTool\"},{\"attributes\":{\"axis\":{\"id\":\"1833\"},\"coordinates\":null,\"grid_line_color\":null,\"group\":null,\"ticker\":null},\"id\":\"1836\",\"type\":\"Grid\"},{\"attributes\":{\"coordinates\":null,\"data_source\":{\"id\":\"1807\"},\"glyph\":{\"id\":\"1810\"},\"group\":null,\"hover_glyph\":null,\"muted_glyph\":{\"id\":\"1812\"},\"nonselection_glyph\":{\"id\":\"1811\"},\"selection_glyph\":{\"id\":\"1815\"},\"view\":{\"id\":\"1814\"}},\"id\":\"1813\",\"type\":\"GlyphRenderer\"},{\"attributes\":{},\"id\":\"1838\",\"type\":\"BasicTicker\"},{\"attributes\":{\"tools\":[{\"id\":\"1776\"},{\"id\":\"1794\"},{\"id\":\"1795\"},{\"id\":\"1796\"},{\"id\":\"1797\"},{\"id\":\"1798\"}]},\"id\":\"1800\",\"type\":\"Toolbar\"},{\"attributes\":{},\"id\":\"1876\",\"type\":\"UnionRenderers\"},{\"attributes\":{\"axis_label\":\"year\",\"coordinates\":null,\"formatter\":{\"id\":\"1864\"},\"group\":null,\"major_label_policy\":{\"id\":\"1865\"},\"ticker\":{\"id\":\"1834\"}},\"id\":\"1833\",\"type\":\"LinearAxis\"},{\"attributes\":{\"axis_label\":\"gross_rent\",\"coordinates\":null,\"formatter\":{\"id\":\"1867\"},\"group\":null,\"major_label_policy\":{\"id\":\"1868\"},\"ticker\":{\"id\":\"1838\"}},\"id\":\"1837\",\"type\":\"LinearAxis\"},{\"attributes\":{\"bottom_units\":\"screen\",\"coordinates\":null,\"fill_alpha\":0.5,\"fill_color\":\"lightgrey\",\"group\":null,\"left_units\":\"screen\",\"level\":\"overlay\",\"line_alpha\":1.0,\"line_color\":\"black\",\"line_dash\":[4,4],\"line_width\":2,\"right_units\":\"screen\",\"syncable\":false,\"top_units\":\"screen\"},\"id\":\"1799\",\"type\":\"BoxAnnotation\"},{\"attributes\":{\"end\":4705.1,\"reset_end\":4705.1,\"reset_start\":923.9,\"start\":923.9,\"tags\":[[[\"gross_rent\",\"gross_rent\",null]]]},\"id\":\"1822\",\"type\":\"Range1d\"},{\"attributes\":{},\"id\":\"1834\",\"type\":\"BasicTicker\"},{\"attributes\":{\"end\":733.2177371101801,\"reset_end\":733.2177371101801,\"reset_start\":306.32940118646263,\"start\":306.32940118646263,\"tags\":[[[\"sale_price_sqr_foot\",\"sale_price_sqr_foot\",null]]]},\"id\":\"1775\",\"type\":\"Range1d\"},{\"attributes\":{\"axis\":{\"id\":\"1837\"},\"coordinates\":null,\"dimension\":1,\"grid_line_color\":null,\"group\":null,\"ticker\":null},\"id\":\"1840\",\"type\":\"Grid\"},{\"attributes\":{\"callback\":null,\"renderers\":[{\"id\":\"1813\"}],\"tags\":[\"hv_created\"],\"tooltips\":[[\"year\",\"@{year}\"],[\"sale_price_sqr_foot\",\"@{sale_price_sqr_foot}\"]]},\"id\":\"1776\",\"type\":\"HoverTool\"},{\"attributes\":{\"axis_label\":\"sale_price_sqr_foot\",\"coordinates\":null,\"formatter\":{\"id\":\"1820\"},\"group\":null,\"major_label_policy\":{\"id\":\"1821\"},\"ticker\":{\"id\":\"1791\"}},\"id\":\"1790\",\"type\":\"LinearAxis\"},{\"attributes\":{},\"id\":\"1865\",\"type\":\"AllLabels\"},{\"attributes\":{\"margin\":[5,5,5,5],\"name\":\"HSpacer02695\",\"sizing_mode\":\"stretch_width\"},\"id\":\"2075\",\"type\":\"Spacer\"},{\"attributes\":{\"source\":{\"id\":\"1807\"}},\"id\":\"1814\",\"type\":\"CDSView\"},{\"attributes\":{\"data\":{\"sale_price_sqr_foot\":{\"__ndarray__\":\"tgKjeIIVd0Dn7CdydF51QGhijk899nhAZhKk2Jo5fkDGKCTbN2KBQPMTFqRSxINATx33UCbNhUA=\",\"dtype\":\"float64\",\"order\":\"little\",\"shape\":[7]},\"year\":[2010,2011,2012,2013,2014,2015,2016]},\"selected\":{\"id\":\"1808\"},\"selection_policy\":{\"id\":\"1876\"}},\"id\":\"1807\",\"type\":\"ColumnDataSource\"},{\"attributes\":{\"callback\":null,\"renderers\":[{\"id\":\"1860\"}],\"tags\":[\"hv_created\"],\"tooltips\":[[\"year\",\"@{year}\"],[\"gross_rent\",\"@{gross_rent}\"]]},\"id\":\"1823\",\"type\":\"HoverTool\"},{\"attributes\":{\"source\":{\"id\":\"1854\"}},\"id\":\"1861\",\"type\":\"CDSView\"},{\"attributes\":{\"children\":[[{\"id\":\"1777\"},0,0],[{\"id\":\"1824\"},0,1]]},\"id\":\"1891\",\"type\":\"GridBox\"},{\"attributes\":{\"coordinates\":null,\"data_source\":{\"id\":\"1854\"},\"glyph\":{\"id\":\"1857\"},\"group\":null,\"hover_glyph\":null,\"muted_glyph\":{\"id\":\"1859\"},\"nonselection_glyph\":{\"id\":\"1858\"},\"selection_glyph\":{\"id\":\"1862\"},\"view\":{\"id\":\"1861\"}},\"id\":\"1860\",\"type\":\"GlyphRenderer\"},{\"attributes\":{\"below\":[{\"id\":\"1833\"}],\"center\":[{\"id\":\"1836\"},{\"id\":\"1840\"}],\"height\":300,\"left\":[{\"id\":\"1837\"}],\"margin\":null,\"min_border_bottom\":10,\"min_border_left\":10,\"min_border_right\":10,\"min_border_top\":10,\"renderers\":[{\"id\":\"1860\"}],\"sizing_mode\":\"fixed\",\"title\":{\"id\":\"1825\"},\"toolbar\":{\"id\":\"1847\"},\"toolbar_location\":null,\"width\":700,\"x_range\":{\"id\":\"1774\"},\"x_scale\":{\"id\":\"1829\"},\"y_range\":{\"id\":\"1822\"},\"y_scale\":{\"id\":\"1831\"}},\"id\":\"1824\",\"subtype\":\"Figure\",\"type\":\"Plot\"},{\"attributes\":{\"tools\":[{\"id\":\"1823\"},{\"id\":\"1841\"},{\"id\":\"1842\"},{\"id\":\"1843\"},{\"id\":\"1844\"},{\"id\":\"1845\"}]},\"id\":\"1847\",\"type\":\"Toolbar\"},{\"attributes\":{\"below\":[{\"id\":\"1786\"}],\"center\":[{\"id\":\"1789\"},{\"id\":\"1793\"}],\"height\":300,\"left\":[{\"id\":\"1790\"}],\"margin\":null,\"min_border_bottom\":10,\"min_border_left\":10,\"min_border_right\":10,\"min_border_top\":10,\"renderers\":[{\"id\":\"1813\"}],\"sizing_mode\":\"fixed\",\"title\":{\"id\":\"1778\"},\"toolbar\":{\"id\":\"1800\"},\"toolbar_location\":null,\"width\":700,\"x_range\":{\"id\":\"1774\"},\"x_scale\":{\"id\":\"1782\"},\"y_range\":{\"id\":\"1775\"},\"y_scale\":{\"id\":\"1784\"}},\"id\":\"1777\",\"subtype\":\"Figure\",\"type\":\"Plot\"},{\"attributes\":{\"bottom_units\":\"screen\",\"coordinates\":null,\"fill_alpha\":0.5,\"fill_color\":\"lightgrey\",\"group\":null,\"left_units\":\"screen\",\"level\":\"overlay\",\"line_alpha\":1.0,\"line_color\":\"black\",\"line_dash\":[4,4],\"line_width\":2,\"right_units\":\"screen\",\"syncable\":false,\"top_units\":\"screen\"},\"id\":\"1846\",\"type\":\"BoxAnnotation\"},{\"attributes\":{},\"id\":\"1841\",\"type\":\"SaveTool\"},{\"attributes\":{\"line_color\":\"#30a2da\",\"line_width\":2,\"x\":{\"field\":\"year\"},\"y\":{\"field\":\"sale_price_sqr_foot\"}},\"id\":\"1810\",\"type\":\"Line\"},{\"attributes\":{},\"id\":\"1842\",\"type\":\"PanTool\"},{\"attributes\":{\"line_color\":\"#30a2da\",\"line_width\":2,\"x\":{\"field\":\"year\"},\"y\":{\"field\":\"sale_price_sqr_foot\"}},\"id\":\"1815\",\"type\":\"Line\"},{\"attributes\":{\"toolbar\":{\"id\":\"1892\"},\"toolbar_location\":\"above\"},\"id\":\"1893\",\"type\":\"ToolbarBox\"},{\"attributes\":{},\"id\":\"1845\",\"type\":\"ResetTool\"},{\"attributes\":{\"line_alpha\":0.2,\"line_color\":\"#30a2da\",\"line_width\":2,\"x\":{\"field\":\"year\"},\"y\":{\"field\":\"sale_price_sqr_foot\"}},\"id\":\"1812\",\"type\":\"Line\"},{\"attributes\":{},\"id\":\"1818\",\"type\":\"AllLabels\"},{\"attributes\":{},\"id\":\"1843\",\"type\":\"WheelZoomTool\"},{\"attributes\":{},\"id\":\"1808\",\"type\":\"Selection\"},{\"attributes\":{\"margin\":[5,5,5,5],\"name\":\"HSpacer02694\",\"sizing_mode\":\"stretch_width\"},\"id\":\"1773\",\"type\":\"Spacer\"},{\"attributes\":{\"toolbars\":[{\"id\":\"1800\"},{\"id\":\"1847\"}],\"tools\":[{\"id\":\"1776\"},{\"id\":\"1794\"},{\"id\":\"1795\"},{\"id\":\"1796\"},{\"id\":\"1797\"},{\"id\":\"1798\"},{\"id\":\"1823\"},{\"id\":\"1841\"},{\"id\":\"1842\"},{\"id\":\"1843\"},{\"id\":\"1844\"},{\"id\":\"1845\"}]},\"id\":\"1892\",\"type\":\"ProxyToolbar\"},{\"attributes\":{\"line_alpha\":0.1,\"line_color\":\"#30a2da\",\"line_width\":2,\"x\":{\"field\":\"year\"},\"y\":{\"field\":\"sale_price_sqr_foot\"}},\"id\":\"1811\",\"type\":\"Line\"},{\"attributes\":{},\"id\":\"1821\",\"type\":\"AllLabels\"},{\"attributes\":{\"overlay\":{\"id\":\"1846\"}},\"id\":\"1844\",\"type\":\"BoxZoomTool\"},{\"attributes\":{},\"id\":\"1787\",\"type\":\"BasicTicker\"},{\"attributes\":{},\"id\":\"1820\",\"type\":\"BasicTickFormatter\"},{\"attributes\":{},\"id\":\"1817\",\"type\":\"BasicTickFormatter\"},{\"attributes\":{},\"id\":\"1782\",\"type\":\"LinearScale\"},{\"attributes\":{\"children\":[{\"id\":\"1893\"},{\"id\":\"1891\"}]},\"id\":\"1894\",\"type\":\"Column\"},{\"attributes\":{\"coordinates\":null,\"group\":null,\"text_color\":\"black\",\"text_font_size\":\"12pt\"},\"id\":\"1778\",\"type\":\"Title\"},{\"attributes\":{\"axis\":{\"id\":\"1786\"},\"coordinates\":null,\"grid_line_color\":null,\"group\":null,\"ticker\":null},\"id\":\"1789\",\"type\":\"Grid\"},{\"attributes\":{},\"id\":\"1868\",\"type\":\"AllLabels\"},{\"attributes\":{},\"id\":\"1784\",\"type\":\"LinearScale\"},{\"attributes\":{\"axis_label\":\"year\",\"coordinates\":null,\"formatter\":{\"id\":\"1817\"},\"group\":null,\"major_label_policy\":{\"id\":\"1818\"},\"ticker\":{\"id\":\"1787\"}},\"id\":\"1786\",\"type\":\"LinearAxis\"},{\"attributes\":{},\"id\":\"1867\",\"type\":\"BasicTickFormatter\"},{\"attributes\":{\"axis\":{\"id\":\"1790\"},\"coordinates\":null,\"dimension\":1,\"grid_line_color\":null,\"group\":null,\"ticker\":null},\"id\":\"1793\",\"type\":\"Grid\"},{\"attributes\":{},\"id\":\"1791\",\"type\":\"BasicTicker\"},{\"attributes\":{\"line_color\":\"#30a2da\",\"line_width\":2,\"x\":{\"field\":\"year\"},\"y\":{\"field\":\"gross_rent\"}},\"id\":\"1862\",\"type\":\"Line\"},{\"attributes\":{\"line_alpha\":0.2,\"line_color\":\"#30a2da\",\"line_width\":2,\"x\":{\"field\":\"year\"},\"y\":{\"field\":\"gross_rent\"}},\"id\":\"1859\",\"type\":\"Line\"},{\"attributes\":{},\"id\":\"1887\",\"type\":\"UnionRenderers\"},{\"attributes\":{},\"id\":\"1855\",\"type\":\"Selection\"},{\"attributes\":{},\"id\":\"1864\",\"type\":\"BasicTickFormatter\"},{\"attributes\":{\"coordinates\":null,\"group\":null,\"text_color\":\"black\",\"text_font_size\":\"12pt\"},\"id\":\"1825\",\"type\":\"Title\"},{\"attributes\":{\"children\":[{\"id\":\"1773\"},{\"id\":\"1894\"},{\"id\":\"2075\"}],\"margin\":[0,0,0,0],\"name\":\"Row02690\",\"tags\":[\"embedded\"]},\"id\":\"1772\",\"type\":\"Row\"},{\"attributes\":{\"line_color\":\"#30a2da\",\"line_width\":2,\"x\":{\"field\":\"year\"},\"y\":{\"field\":\"gross_rent\"}},\"id\":\"1857\",\"type\":\"Line\"},{\"attributes\":{},\"id\":\"1794\",\"type\":\"SaveTool\"},{\"attributes\":{},\"id\":\"1795\",\"type\":\"PanTool\"},{\"attributes\":{\"end\":2016.0,\"reset_end\":2016.0,\"reset_start\":2010.0,\"start\":2010.0,\"tags\":[[[\"year\",\"year\",null]]]},\"id\":\"1774\",\"type\":\"Range1d\"},{\"attributes\":{},\"id\":\"1796\",\"type\":\"WheelZoomTool\"},{\"attributes\":{\"line_alpha\":0.1,\"line_color\":\"#30a2da\",\"line_width\":2,\"x\":{\"field\":\"year\"},\"y\":{\"field\":\"gross_rent\"}},\"id\":\"1858\",\"type\":\"Line\"},{\"attributes\":{\"overlay\":{\"id\":\"1799\"}},\"id\":\"1797\",\"type\":\"BoxZoomTool\"},{\"attributes\":{\"data\":{\"gross_rent\":{\"__ndarray__\":\"AAAAAABck0AAAAAAAOiXQAAAAAAAKKJAAAAAAAA2p0AAAAAAAJCrQAAAAAAANq1AAAAAAAAmsUA=\",\"dtype\":\"float64\",\"order\":\"little\",\"shape\":[7]},\"year\":[2010,2011,2012,2013,2014,2015,2016]},\"selected\":{\"id\":\"1855\"},\"selection_policy\":{\"id\":\"1887\"}},\"id\":\"1854\",\"type\":\"ColumnDataSource\"},{\"attributes\":{},\"id\":\"1831\",\"type\":\"LinearScale\"},{\"attributes\":{},\"id\":\"1829\",\"type\":\"LinearScale\"}],\"root_ids\":[\"1772\"]},\"title\":\"Bokeh Application\",\"version\":\"2.4.1\"}};\n",
       "    var render_items = [{\"docid\":\"e0b3bd36-cd25-4091-8467-883b1de0c623\",\"root_ids\":[\"1772\"],\"roots\":{\"1772\":\"2717fa9f-5a17-4ede-af04-5ed7c2330ff9\"}}];\n",
       "    root.Bokeh.embed.embed_items_notebook(docs_json, render_items);\n",
       "  }\n",
       "  if (root.Bokeh !== undefined && root.Bokeh.Panel !== undefined && ( root['Plotly'] !== undefined)) {\n",
       "    embed_document(root);\n",
       "  } else {\n",
       "    var attempts = 0;\n",
       "    var timer = setInterval(function(root) {\n",
       "      if (root.Bokeh !== undefined && root.Bokeh.Panel !== undefined && (root['Plotly'] !== undefined)) {\n",
       "        clearInterval(timer);\n",
       "        embed_document(root);\n",
       "      } else if (document.readyState == \"complete\") {\n",
       "        attempts++;\n",
       "        if (attempts > 200) {\n",
       "          clearInterval(timer);\n",
       "          console.log(\"Bokeh: ERROR: Unable to run BokehJS code because BokehJS library is missing\");\n",
       "        }\n",
       "      }\n",
       "    }, 25, root)\n",
       "  }\n",
       "})(window);</script>"
      ],
      "text/plain": [
       ":Layout\n",
       "   .Curve.I  :Curve   [year]   (sale_price_sqr_foot)\n",
       "   .Curve.II :Curve   [year]   (gross_rent)"
      ]
     },
     "execution_count": 31,
     "metadata": {
      "application/vnd.holoviews_exec.v0+json": {
       "id": "1772"
      }
     },
     "output_type": "execute_result"
    }
   ],
   "source": [
    "# Use hvplot to create an interactive line chart of the average price per sq ft.\n",
    "# The plot should have a dropdown selector for the neighborhood\n",
    "sfo_data.hvplot.line(x='year', y='sale_price_sqr_foot') + sfo_data.hvplot.line(x='year', y='gross_rent')"
   ]
  },
  {
   "cell_type": "markdown",
   "id": "f172c7f6-5afe-48d8-ba8e-9b850ba45d6e",
   "metadata": {},
   "source": [
    "## Neighborhood Map\n",
    "\n",
    "In this section, you will read in neighborhoods location data and build an interactive map with the average house value per neighborhood. Use a `scatter_mapbox` from Plotly express to create the visualization. Remember, you will need your Mapbox API key for this."
   ]
  },
  {
   "cell_type": "markdown",
   "id": "8b08072f-af62-4629-9b91-a1f48ddb2c21",
   "metadata": {},
   "source": [
    "### Load Location Data"
   ]
  },
  {
   "cell_type": "code",
   "execution_count": 32,
   "id": "d76285f1-fed8-4c9e-a48c-84335d7679d7",
   "metadata": {},
   "outputs": [
    {
     "data": {
      "text/html": [
       "<div>\n",
       "<style scoped>\n",
       "    .dataframe tbody tr th:only-of-type {\n",
       "        vertical-align: middle;\n",
       "    }\n",
       "\n",
       "    .dataframe tbody tr th {\n",
       "        vertical-align: top;\n",
       "    }\n",
       "\n",
       "    .dataframe thead th {\n",
       "        text-align: right;\n",
       "    }\n",
       "</style>\n",
       "<table border=\"1\" class=\"dataframe\">\n",
       "  <thead>\n",
       "    <tr style=\"text-align: right;\">\n",
       "      <th></th>\n",
       "      <th>Neighborhood</th>\n",
       "      <th>Lat</th>\n",
       "      <th>Lon</th>\n",
       "    </tr>\n",
       "  </thead>\n",
       "  <tbody>\n",
       "    <tr>\n",
       "      <th>0</th>\n",
       "      <td>Alamo Square</td>\n",
       "      <td>37.791012</td>\n",
       "      <td>-122.402100</td>\n",
       "    </tr>\n",
       "    <tr>\n",
       "      <th>1</th>\n",
       "      <td>Anza Vista</td>\n",
       "      <td>37.779598</td>\n",
       "      <td>-122.443451</td>\n",
       "    </tr>\n",
       "    <tr>\n",
       "      <th>2</th>\n",
       "      <td>Bayview</td>\n",
       "      <td>37.734670</td>\n",
       "      <td>-122.401060</td>\n",
       "    </tr>\n",
       "    <tr>\n",
       "      <th>3</th>\n",
       "      <td>Bayview Heights</td>\n",
       "      <td>37.728740</td>\n",
       "      <td>-122.410980</td>\n",
       "    </tr>\n",
       "    <tr>\n",
       "      <th>4</th>\n",
       "      <td>Bernal Heights</td>\n",
       "      <td>37.728630</td>\n",
       "      <td>-122.443050</td>\n",
       "    </tr>\n",
       "  </tbody>\n",
       "</table>\n",
       "</div>"
      ],
      "text/plain": [
       "      Neighborhood        Lat         Lon\n",
       "0     Alamo Square  37.791012 -122.402100\n",
       "1       Anza Vista  37.779598 -122.443451\n",
       "2          Bayview  37.734670 -122.401060\n",
       "3  Bayview Heights  37.728740 -122.410980\n",
       "4   Bernal Heights  37.728630 -122.443050"
      ]
     },
     "execution_count": 32,
     "metadata": {},
     "output_type": "execute_result"
    }
   ],
   "source": [
    "# Load neighborhoods coordinates data\n",
    "neighborhoods_data = pd.read_csv(\"neighborhoods_coordinates.csv\")\n",
    "neighborhoods_data.head()"
   ]
  },
  {
   "cell_type": "code",
   "execution_count": 33,
   "id": "9c18bd5b-cf37-4d50-a6c7-888731a4761b",
   "metadata": {},
   "outputs": [
    {
     "data": {
      "text/html": [
       "<div>\n",
       "<style scoped>\n",
       "    .dataframe tbody tr th:only-of-type {\n",
       "        vertical-align: middle;\n",
       "    }\n",
       "\n",
       "    .dataframe tbody tr th {\n",
       "        vertical-align: top;\n",
       "    }\n",
       "\n",
       "    .dataframe thead th {\n",
       "        text-align: right;\n",
       "    }\n",
       "</style>\n",
       "<table border=\"1\" class=\"dataframe\">\n",
       "  <thead>\n",
       "    <tr style=\"text-align: right;\">\n",
       "      <th></th>\n",
       "      <th>Lat</th>\n",
       "      <th>Lon</th>\n",
       "    </tr>\n",
       "    <tr>\n",
       "      <th>Neighborhood</th>\n",
       "      <th></th>\n",
       "      <th></th>\n",
       "    </tr>\n",
       "  </thead>\n",
       "  <tbody>\n",
       "    <tr>\n",
       "      <th>Alamo Square</th>\n",
       "      <td>37.791012</td>\n",
       "      <td>-122.402100</td>\n",
       "    </tr>\n",
       "    <tr>\n",
       "      <th>Anza Vista</th>\n",
       "      <td>37.779598</td>\n",
       "      <td>-122.443451</td>\n",
       "    </tr>\n",
       "    <tr>\n",
       "      <th>Bayview</th>\n",
       "      <td>37.734670</td>\n",
       "      <td>-122.401060</td>\n",
       "    </tr>\n",
       "    <tr>\n",
       "      <th>Bayview Heights</th>\n",
       "      <td>37.728740</td>\n",
       "      <td>-122.410980</td>\n",
       "    </tr>\n",
       "    <tr>\n",
       "      <th>Bernal Heights</th>\n",
       "      <td>37.728630</td>\n",
       "      <td>-122.443050</td>\n",
       "    </tr>\n",
       "  </tbody>\n",
       "</table>\n",
       "</div>"
      ],
      "text/plain": [
       "                       Lat         Lon\n",
       "Neighborhood                          \n",
       "Alamo Square     37.791012 -122.402100\n",
       "Anza Vista       37.779598 -122.443451\n",
       "Bayview          37.734670 -122.401060\n",
       "Bayview Heights  37.728740 -122.410980\n",
       "Bernal Heights   37.728630 -122.443050"
      ]
     },
     "execution_count": 33,
     "metadata": {},
     "output_type": "execute_result"
    }
   ],
   "source": [
    "neighborhoods_data.set_index('Neighborhood', inplace=True)\n",
    "neighborhoods_data.head(5)"
   ]
  },
  {
   "cell_type": "markdown",
   "id": "c3703bdc-a459-457a-aad3-f5455bb02562",
   "metadata": {},
   "source": [
    "### Data Preparation\n",
    "\n",
    "You will need to join the location data with the mean values per neighborhood.\n",
    "\n",
    "1. Calculate the mean values for each neighborhood.\n",
    "\n",
    "2. Join the average values with the neighborhood locations."
   ]
  },
  {
   "cell_type": "code",
   "execution_count": 34,
   "id": "386c7c19-fe22-4f1d-8c6f-c8eefe7a9803",
   "metadata": {},
   "outputs": [
    {
     "data": {
      "text/html": [
       "<div>\n",
       "<style scoped>\n",
       "    .dataframe tbody tr th:only-of-type {\n",
       "        vertical-align: middle;\n",
       "    }\n",
       "\n",
       "    .dataframe tbody tr th {\n",
       "        vertical-align: top;\n",
       "    }\n",
       "\n",
       "    .dataframe thead th {\n",
       "        text-align: right;\n",
       "    }\n",
       "</style>\n",
       "<table border=\"1\" class=\"dataframe\">\n",
       "  <thead>\n",
       "    <tr style=\"text-align: right;\">\n",
       "      <th></th>\n",
       "      <th>year</th>\n",
       "      <th>neighborhood</th>\n",
       "      <th>sale_price_sqr_foot</th>\n",
       "      <th>housing_units</th>\n",
       "      <th>gross_rent</th>\n",
       "    </tr>\n",
       "  </thead>\n",
       "  <tbody>\n",
       "    <tr>\n",
       "      <th>0</th>\n",
       "      <td>2010</td>\n",
       "      <td>Alamo Square</td>\n",
       "      <td>291.182945</td>\n",
       "      <td>372560</td>\n",
       "      <td>1239</td>\n",
       "    </tr>\n",
       "    <tr>\n",
       "      <th>1</th>\n",
       "      <td>2010</td>\n",
       "      <td>Anza Vista</td>\n",
       "      <td>267.932583</td>\n",
       "      <td>372560</td>\n",
       "      <td>1239</td>\n",
       "    </tr>\n",
       "    <tr>\n",
       "      <th>2</th>\n",
       "      <td>2010</td>\n",
       "      <td>Bayview</td>\n",
       "      <td>170.098665</td>\n",
       "      <td>372560</td>\n",
       "      <td>1239</td>\n",
       "    </tr>\n",
       "    <tr>\n",
       "      <th>3</th>\n",
       "      <td>2010</td>\n",
       "      <td>Buena Vista Park</td>\n",
       "      <td>347.394919</td>\n",
       "      <td>372560</td>\n",
       "      <td>1239</td>\n",
       "    </tr>\n",
       "    <tr>\n",
       "      <th>4</th>\n",
       "      <td>2010</td>\n",
       "      <td>Central Richmond</td>\n",
       "      <td>319.027623</td>\n",
       "      <td>372560</td>\n",
       "      <td>1239</td>\n",
       "    </tr>\n",
       "    <tr>\n",
       "      <th>5</th>\n",
       "      <td>2010</td>\n",
       "      <td>Central Sunset</td>\n",
       "      <td>418.172493</td>\n",
       "      <td>372560</td>\n",
       "      <td>1239</td>\n",
       "    </tr>\n",
       "    <tr>\n",
       "      <th>6</th>\n",
       "      <td>2010</td>\n",
       "      <td>Corona Heights</td>\n",
       "      <td>369.359338</td>\n",
       "      <td>372560</td>\n",
       "      <td>1239</td>\n",
       "    </tr>\n",
       "    <tr>\n",
       "      <th>7</th>\n",
       "      <td>2010</td>\n",
       "      <td>Cow Hollow</td>\n",
       "      <td>569.379968</td>\n",
       "      <td>372560</td>\n",
       "      <td>1239</td>\n",
       "    </tr>\n",
       "    <tr>\n",
       "      <th>8</th>\n",
       "      <td>2010</td>\n",
       "      <td>Croker Amazon</td>\n",
       "      <td>165.645730</td>\n",
       "      <td>372560</td>\n",
       "      <td>1239</td>\n",
       "    </tr>\n",
       "    <tr>\n",
       "      <th>9</th>\n",
       "      <td>2010</td>\n",
       "      <td>Diamond Heights</td>\n",
       "      <td>456.930822</td>\n",
       "      <td>372560</td>\n",
       "      <td>1239</td>\n",
       "    </tr>\n",
       "  </tbody>\n",
       "</table>\n",
       "</div>"
      ],
      "text/plain": [
       "   year      neighborhood  sale_price_sqr_foot  housing_units  gross_rent\n",
       "0  2010      Alamo Square           291.182945         372560        1239\n",
       "1  2010        Anza Vista           267.932583         372560        1239\n",
       "2  2010           Bayview           170.098665         372560        1239\n",
       "3  2010  Buena Vista Park           347.394919         372560        1239\n",
       "4  2010  Central Richmond           319.027623         372560        1239\n",
       "5  2010    Central Sunset           418.172493         372560        1239\n",
       "6  2010    Corona Heights           369.359338         372560        1239\n",
       "7  2010        Cow Hollow           569.379968         372560        1239\n",
       "8  2010     Croker Amazon           165.645730         372560        1239\n",
       "9  2010   Diamond Heights           456.930822         372560        1239"
      ]
     },
     "execution_count": 34,
     "metadata": {},
     "output_type": "execute_result"
    }
   ],
   "source": [
    "# Load data for sfo neighborhoods\n",
    "sfo_data = pd.read_csv(\"sfo_neighborhoods_census_data.csv\")\n",
    "sfo_data.head(10)"
   ]
  },
  {
   "cell_type": "code",
   "execution_count": 35,
   "id": "46487860-8b20-4cd3-bea7-9e1ff13b51e5",
   "metadata": {},
   "outputs": [
    {
     "data": {
      "text/html": [
       "<div>\n",
       "<style scoped>\n",
       "    .dataframe tbody tr th:only-of-type {\n",
       "        vertical-align: middle;\n",
       "    }\n",
       "\n",
       "    .dataframe tbody tr th {\n",
       "        vertical-align: top;\n",
       "    }\n",
       "\n",
       "    .dataframe thead th {\n",
       "        text-align: right;\n",
       "    }\n",
       "</style>\n",
       "<table border=\"1\" class=\"dataframe\">\n",
       "  <thead>\n",
       "    <tr style=\"text-align: right;\">\n",
       "      <th></th>\n",
       "      <th>neighborhood</th>\n",
       "      <th>sale_price_sqr_foot</th>\n",
       "      <th>housing_units</th>\n",
       "      <th>gross_rent</th>\n",
       "    </tr>\n",
       "  </thead>\n",
       "  <tbody>\n",
       "    <tr>\n",
       "      <th>0</th>\n",
       "      <td>Alamo Square</td>\n",
       "      <td>291.182945</td>\n",
       "      <td>372560</td>\n",
       "      <td>1239</td>\n",
       "    </tr>\n",
       "    <tr>\n",
       "      <th>1</th>\n",
       "      <td>Anza Vista</td>\n",
       "      <td>267.932583</td>\n",
       "      <td>372560</td>\n",
       "      <td>1239</td>\n",
       "    </tr>\n",
       "    <tr>\n",
       "      <th>2</th>\n",
       "      <td>Bayview</td>\n",
       "      <td>170.098665</td>\n",
       "      <td>372560</td>\n",
       "      <td>1239</td>\n",
       "    </tr>\n",
       "    <tr>\n",
       "      <th>3</th>\n",
       "      <td>Buena Vista Park</td>\n",
       "      <td>347.394919</td>\n",
       "      <td>372560</td>\n",
       "      <td>1239</td>\n",
       "    </tr>\n",
       "    <tr>\n",
       "      <th>4</th>\n",
       "      <td>Central Richmond</td>\n",
       "      <td>319.027623</td>\n",
       "      <td>372560</td>\n",
       "      <td>1239</td>\n",
       "    </tr>\n",
       "    <tr>\n",
       "      <th>5</th>\n",
       "      <td>Central Sunset</td>\n",
       "      <td>418.172493</td>\n",
       "      <td>372560</td>\n",
       "      <td>1239</td>\n",
       "    </tr>\n",
       "    <tr>\n",
       "      <th>6</th>\n",
       "      <td>Corona Heights</td>\n",
       "      <td>369.359338</td>\n",
       "      <td>372560</td>\n",
       "      <td>1239</td>\n",
       "    </tr>\n",
       "    <tr>\n",
       "      <th>7</th>\n",
       "      <td>Cow Hollow</td>\n",
       "      <td>569.379968</td>\n",
       "      <td>372560</td>\n",
       "      <td>1239</td>\n",
       "    </tr>\n",
       "    <tr>\n",
       "      <th>8</th>\n",
       "      <td>Croker Amazon</td>\n",
       "      <td>165.645730</td>\n",
       "      <td>372560</td>\n",
       "      <td>1239</td>\n",
       "    </tr>\n",
       "    <tr>\n",
       "      <th>9</th>\n",
       "      <td>Diamond Heights</td>\n",
       "      <td>456.930822</td>\n",
       "      <td>372560</td>\n",
       "      <td>1239</td>\n",
       "    </tr>\n",
       "  </tbody>\n",
       "</table>\n",
       "</div>"
      ],
      "text/plain": [
       "       neighborhood  sale_price_sqr_foot  housing_units  gross_rent\n",
       "0      Alamo Square           291.182945         372560        1239\n",
       "1        Anza Vista           267.932583         372560        1239\n",
       "2           Bayview           170.098665         372560        1239\n",
       "3  Buena Vista Park           347.394919         372560        1239\n",
       "4  Central Richmond           319.027623         372560        1239\n",
       "5    Central Sunset           418.172493         372560        1239\n",
       "6    Corona Heights           369.359338         372560        1239\n",
       "7        Cow Hollow           569.379968         372560        1239\n",
       "8     Croker Amazon           165.645730         372560        1239\n",
       "9   Diamond Heights           456.930822         372560        1239"
      ]
     },
     "execution_count": 35,
     "metadata": {},
     "output_type": "execute_result"
    }
   ],
   "source": [
    "sfo_data.drop('year', axis = 1, inplace=True)\n",
    "sfo_data.head(10)"
   ]
  },
  {
   "cell_type": "code",
   "execution_count": 36,
   "id": "8b123884-18f2-42c1-82b9-cfa8d38ec83f",
   "metadata": {},
   "outputs": [
    {
     "data": {
      "text/html": [
       "<div>\n",
       "<style scoped>\n",
       "    .dataframe tbody tr th:only-of-type {\n",
       "        vertical-align: middle;\n",
       "    }\n",
       "\n",
       "    .dataframe tbody tr th {\n",
       "        vertical-align: top;\n",
       "    }\n",
       "\n",
       "    .dataframe thead th {\n",
       "        text-align: right;\n",
       "    }\n",
       "</style>\n",
       "<table border=\"1\" class=\"dataframe\">\n",
       "  <thead>\n",
       "    <tr style=\"text-align: right;\">\n",
       "      <th></th>\n",
       "      <th>sale_price_sqr_foot</th>\n",
       "      <th>housing_units</th>\n",
       "      <th>gross_rent</th>\n",
       "    </tr>\n",
       "    <tr>\n",
       "      <th>neighborhood</th>\n",
       "      <th></th>\n",
       "      <th></th>\n",
       "      <th></th>\n",
       "    </tr>\n",
       "  </thead>\n",
       "  <tbody>\n",
       "    <tr>\n",
       "      <th>Alamo Square</th>\n",
       "      <td>366.020712</td>\n",
       "      <td>378401.0</td>\n",
       "      <td>2817.285714</td>\n",
       "    </tr>\n",
       "    <tr>\n",
       "      <th>Anza Vista</th>\n",
       "      <td>373.382198</td>\n",
       "      <td>379050.0</td>\n",
       "      <td>3031.833333</td>\n",
       "    </tr>\n",
       "    <tr>\n",
       "      <th>Bayview</th>\n",
       "      <td>204.588623</td>\n",
       "      <td>376454.0</td>\n",
       "      <td>2318.400000</td>\n",
       "    </tr>\n",
       "    <tr>\n",
       "      <th>Bayview Heights</th>\n",
       "      <td>590.792839</td>\n",
       "      <td>382295.0</td>\n",
       "      <td>3739.000000</td>\n",
       "    </tr>\n",
       "    <tr>\n",
       "      <th>Bernal Heights</th>\n",
       "      <td>576.746488</td>\n",
       "      <td>379374.5</td>\n",
       "      <td>3080.333333</td>\n",
       "    </tr>\n",
       "  </tbody>\n",
       "</table>\n",
       "</div>"
      ],
      "text/plain": [
       "                 sale_price_sqr_foot  housing_units   gross_rent\n",
       "neighborhood                                                    \n",
       "Alamo Square              366.020712       378401.0  2817.285714\n",
       "Anza Vista                373.382198       379050.0  3031.833333\n",
       "Bayview                   204.588623       376454.0  2318.400000\n",
       "Bayview Heights           590.792839       382295.0  3739.000000\n",
       "Bernal Heights            576.746488       379374.5  3080.333333"
      ]
     },
     "execution_count": 36,
     "metadata": {},
     "output_type": "execute_result"
    }
   ],
   "source": [
    "# Calculate the mean values for each neighborhood\n",
    "sfo_data = sfo_data.groupby('neighborhood').mean()\n",
    "sfo_data.head()"
   ]
  },
  {
   "cell_type": "code",
   "execution_count": 37,
   "id": "4a9a8e3c-f17d-49fd-8f99-08cf3b76ae90",
   "metadata": {},
   "outputs": [
    {
     "data": {
      "text/html": [
       "<div>\n",
       "<style scoped>\n",
       "    .dataframe tbody tr th:only-of-type {\n",
       "        vertical-align: middle;\n",
       "    }\n",
       "\n",
       "    .dataframe tbody tr th {\n",
       "        vertical-align: top;\n",
       "    }\n",
       "\n",
       "    .dataframe thead th {\n",
       "        text-align: right;\n",
       "    }\n",
       "</style>\n",
       "<table border=\"1\" class=\"dataframe\">\n",
       "  <thead>\n",
       "    <tr style=\"text-align: right;\">\n",
       "      <th></th>\n",
       "      <th>neighborhood</th>\n",
       "      <th>sale_price_sqr_foot</th>\n",
       "      <th>housing_units</th>\n",
       "      <th>gross_rent</th>\n",
       "    </tr>\n",
       "  </thead>\n",
       "  <tbody>\n",
       "    <tr>\n",
       "      <th>0</th>\n",
       "      <td>Alamo Square</td>\n",
       "      <td>366.020712</td>\n",
       "      <td>378401.00</td>\n",
       "      <td>2817.285714</td>\n",
       "    </tr>\n",
       "    <tr>\n",
       "      <th>1</th>\n",
       "      <td>Anza Vista</td>\n",
       "      <td>373.382198</td>\n",
       "      <td>379050.00</td>\n",
       "      <td>3031.833333</td>\n",
       "    </tr>\n",
       "    <tr>\n",
       "      <th>2</th>\n",
       "      <td>Bayview</td>\n",
       "      <td>204.588623</td>\n",
       "      <td>376454.00</td>\n",
       "      <td>2318.400000</td>\n",
       "    </tr>\n",
       "    <tr>\n",
       "      <th>3</th>\n",
       "      <td>Bayview Heights</td>\n",
       "      <td>590.792839</td>\n",
       "      <td>382295.00</td>\n",
       "      <td>3739.000000</td>\n",
       "    </tr>\n",
       "    <tr>\n",
       "      <th>4</th>\n",
       "      <td>Bernal Heights</td>\n",
       "      <td>576.746488</td>\n",
       "      <td>379374.50</td>\n",
       "      <td>3080.333333</td>\n",
       "    </tr>\n",
       "    <tr>\n",
       "      <th>...</th>\n",
       "      <td>...</td>\n",
       "      <td>...</td>\n",
       "      <td>...</td>\n",
       "      <td>...</td>\n",
       "    </tr>\n",
       "    <tr>\n",
       "      <th>68</th>\n",
       "      <td>West Portal</td>\n",
       "      <td>498.488485</td>\n",
       "      <td>376940.75</td>\n",
       "      <td>2515.500000</td>\n",
       "    </tr>\n",
       "    <tr>\n",
       "      <th>69</th>\n",
       "      <td>Western Addition</td>\n",
       "      <td>307.562201</td>\n",
       "      <td>377427.50</td>\n",
       "      <td>2555.166667</td>\n",
       "    </tr>\n",
       "    <tr>\n",
       "      <th>70</th>\n",
       "      <td>Westwood Highlands</td>\n",
       "      <td>533.703935</td>\n",
       "      <td>376454.00</td>\n",
       "      <td>2250.500000</td>\n",
       "    </tr>\n",
       "    <tr>\n",
       "      <th>71</th>\n",
       "      <td>Westwood Park</td>\n",
       "      <td>687.087575</td>\n",
       "      <td>382295.00</td>\n",
       "      <td>3959.000000</td>\n",
       "    </tr>\n",
       "    <tr>\n",
       "      <th>72</th>\n",
       "      <td>Yerba Buena</td>\n",
       "      <td>576.709848</td>\n",
       "      <td>377427.50</td>\n",
       "      <td>2555.166667</td>\n",
       "    </tr>\n",
       "  </tbody>\n",
       "</table>\n",
       "<p>73 rows × 4 columns</p>\n",
       "</div>"
      ],
      "text/plain": [
       "          neighborhood  sale_price_sqr_foot  housing_units   gross_rent\n",
       "0         Alamo Square           366.020712      378401.00  2817.285714\n",
       "1           Anza Vista           373.382198      379050.00  3031.833333\n",
       "2              Bayview           204.588623      376454.00  2318.400000\n",
       "3      Bayview Heights           590.792839      382295.00  3739.000000\n",
       "4      Bernal Heights            576.746488      379374.50  3080.333333\n",
       "..                 ...                  ...            ...          ...\n",
       "68         West Portal           498.488485      376940.75  2515.500000\n",
       "69    Western Addition           307.562201      377427.50  2555.166667\n",
       "70  Westwood Highlands           533.703935      376454.00  2250.500000\n",
       "71       Westwood Park           687.087575      382295.00  3959.000000\n",
       "72         Yerba Buena           576.709848      377427.50  2555.166667\n",
       "\n",
       "[73 rows x 4 columns]"
      ]
     },
     "execution_count": 37,
     "metadata": {},
     "output_type": "execute_result"
    }
   ],
   "source": [
    "sfo_data.reset_index()"
   ]
  },
  {
   "cell_type": "code",
   "execution_count": 38,
   "id": "fab093a5-8d73-4c30-9253-75ebff0d9211",
   "metadata": {},
   "outputs": [
    {
     "data": {
      "text/html": [
       "<div>\n",
       "<style scoped>\n",
       "    .dataframe tbody tr th:only-of-type {\n",
       "        vertical-align: middle;\n",
       "    }\n",
       "\n",
       "    .dataframe tbody tr th {\n",
       "        vertical-align: top;\n",
       "    }\n",
       "\n",
       "    .dataframe thead th {\n",
       "        text-align: right;\n",
       "    }\n",
       "</style>\n",
       "<table border=\"1\" class=\"dataframe\">\n",
       "  <thead>\n",
       "    <tr style=\"text-align: right;\">\n",
       "      <th></th>\n",
       "      <th>Lat</th>\n",
       "      <th>Lon</th>\n",
       "      <th>sale_price_sqr_foot</th>\n",
       "      <th>housing_units</th>\n",
       "      <th>gross_rent</th>\n",
       "    </tr>\n",
       "  </thead>\n",
       "  <tbody>\n",
       "    <tr>\n",
       "      <th>Alamo Square</th>\n",
       "      <td>37.791012</td>\n",
       "      <td>-122.402100</td>\n",
       "      <td>366.020712</td>\n",
       "      <td>378401.0</td>\n",
       "      <td>2817.285714</td>\n",
       "    </tr>\n",
       "    <tr>\n",
       "      <th>Anza Vista</th>\n",
       "      <td>37.779598</td>\n",
       "      <td>-122.443451</td>\n",
       "      <td>373.382198</td>\n",
       "      <td>379050.0</td>\n",
       "      <td>3031.833333</td>\n",
       "    </tr>\n",
       "    <tr>\n",
       "      <th>Bayview</th>\n",
       "      <td>37.734670</td>\n",
       "      <td>-122.401060</td>\n",
       "      <td>204.588623</td>\n",
       "      <td>376454.0</td>\n",
       "      <td>2318.400000</td>\n",
       "    </tr>\n",
       "    <tr>\n",
       "      <th>Bayview Heights</th>\n",
       "      <td>37.728740</td>\n",
       "      <td>-122.410980</td>\n",
       "      <td>590.792839</td>\n",
       "      <td>382295.0</td>\n",
       "      <td>3739.000000</td>\n",
       "    </tr>\n",
       "    <tr>\n",
       "      <th>Bernal Heights</th>\n",
       "      <td>37.728630</td>\n",
       "      <td>-122.443050</td>\n",
       "      <td>NaN</td>\n",
       "      <td>NaN</td>\n",
       "      <td>NaN</td>\n",
       "    </tr>\n",
       "  </tbody>\n",
       "</table>\n",
       "</div>"
      ],
      "text/plain": [
       "                       Lat         Lon  sale_price_sqr_foot  housing_units  \\\n",
       "Alamo Square     37.791012 -122.402100           366.020712       378401.0   \n",
       "Anza Vista       37.779598 -122.443451           373.382198       379050.0   \n",
       "Bayview          37.734670 -122.401060           204.588623       376454.0   \n",
       "Bayview Heights  37.728740 -122.410980           590.792839       382295.0   \n",
       "Bernal Heights   37.728630 -122.443050                  NaN            NaN   \n",
       "\n",
       "                  gross_rent  \n",
       "Alamo Square     2817.285714  \n",
       "Anza Vista       3031.833333  \n",
       "Bayview          2318.400000  \n",
       "Bayview Heights  3739.000000  \n",
       "Bernal Heights           NaN  "
      ]
     },
     "execution_count": 38,
     "metadata": {},
     "output_type": "execute_result"
    }
   ],
   "source": [
    "# Join the average values with the neighborhood locations\n",
    "combined_df = pd.concat([neighborhoods_data.head(), sfo_data.head()], axis=1,)\n",
    "combined_df.head()"
   ]
  },
  {
   "cell_type": "code",
   "execution_count": 39,
   "id": "928c87bc-7280-4b47-9893-929988e17f9d",
   "metadata": {},
   "outputs": [
    {
     "data": {
      "text/html": [
       "<div>\n",
       "<style scoped>\n",
       "    .dataframe tbody tr th:only-of-type {\n",
       "        vertical-align: middle;\n",
       "    }\n",
       "\n",
       "    .dataframe tbody tr th {\n",
       "        vertical-align: top;\n",
       "    }\n",
       "\n",
       "    .dataframe thead th {\n",
       "        text-align: right;\n",
       "    }\n",
       "</style>\n",
       "<table border=\"1\" class=\"dataframe\">\n",
       "  <thead>\n",
       "    <tr style=\"text-align: right;\">\n",
       "      <th></th>\n",
       "      <th>index</th>\n",
       "      <th>Lat</th>\n",
       "      <th>Lon</th>\n",
       "      <th>sale_price_sqr_foot</th>\n",
       "      <th>housing_units</th>\n",
       "      <th>gross_rent</th>\n",
       "    </tr>\n",
       "  </thead>\n",
       "  <tbody>\n",
       "    <tr>\n",
       "      <th>0</th>\n",
       "      <td>Alamo Square</td>\n",
       "      <td>37.791012</td>\n",
       "      <td>-122.402100</td>\n",
       "      <td>366.020712</td>\n",
       "      <td>378401.0</td>\n",
       "      <td>2817.285714</td>\n",
       "    </tr>\n",
       "    <tr>\n",
       "      <th>1</th>\n",
       "      <td>Anza Vista</td>\n",
       "      <td>37.779598</td>\n",
       "      <td>-122.443451</td>\n",
       "      <td>373.382198</td>\n",
       "      <td>379050.0</td>\n",
       "      <td>3031.833333</td>\n",
       "    </tr>\n",
       "    <tr>\n",
       "      <th>2</th>\n",
       "      <td>Bayview</td>\n",
       "      <td>37.734670</td>\n",
       "      <td>-122.401060</td>\n",
       "      <td>204.588623</td>\n",
       "      <td>376454.0</td>\n",
       "      <td>2318.400000</td>\n",
       "    </tr>\n",
       "    <tr>\n",
       "      <th>3</th>\n",
       "      <td>Bayview Heights</td>\n",
       "      <td>37.728740</td>\n",
       "      <td>-122.410980</td>\n",
       "      <td>590.792839</td>\n",
       "      <td>382295.0</td>\n",
       "      <td>3739.000000</td>\n",
       "    </tr>\n",
       "    <tr>\n",
       "      <th>4</th>\n",
       "      <td>Bernal Heights</td>\n",
       "      <td>37.728630</td>\n",
       "      <td>-122.443050</td>\n",
       "      <td>NaN</td>\n",
       "      <td>NaN</td>\n",
       "      <td>NaN</td>\n",
       "    </tr>\n",
       "    <tr>\n",
       "      <th>5</th>\n",
       "      <td>Bernal Heights</td>\n",
       "      <td>NaN</td>\n",
       "      <td>NaN</td>\n",
       "      <td>576.746488</td>\n",
       "      <td>379374.5</td>\n",
       "      <td>3080.333333</td>\n",
       "    </tr>\n",
       "  </tbody>\n",
       "</table>\n",
       "</div>"
      ],
      "text/plain": [
       "             index        Lat         Lon  sale_price_sqr_foot  housing_units  \\\n",
       "0     Alamo Square  37.791012 -122.402100           366.020712       378401.0   \n",
       "1       Anza Vista  37.779598 -122.443451           373.382198       379050.0   \n",
       "2          Bayview  37.734670 -122.401060           204.588623       376454.0   \n",
       "3  Bayview Heights  37.728740 -122.410980           590.792839       382295.0   \n",
       "4   Bernal Heights  37.728630 -122.443050                  NaN            NaN   \n",
       "5  Bernal Heights         NaN         NaN           576.746488       379374.5   \n",
       "\n",
       "    gross_rent  \n",
       "0  2817.285714  \n",
       "1  3031.833333  \n",
       "2  2318.400000  \n",
       "3  3739.000000  \n",
       "4          NaN  \n",
       "5  3080.333333  "
      ]
     },
     "execution_count": 39,
     "metadata": {},
     "output_type": "execute_result"
    }
   ],
   "source": [
    "combined_df.reset_index()"
   ]
  },
  {
   "cell_type": "code",
   "execution_count": 40,
   "id": "8d2b7d4c-9ec0-422f-b1e7-291aed19d586",
   "metadata": {},
   "outputs": [
    {
     "data": {
      "text/html": [
       "<div>\n",
       "<style scoped>\n",
       "    .dataframe tbody tr th:only-of-type {\n",
       "        vertical-align: middle;\n",
       "    }\n",
       "\n",
       "    .dataframe tbody tr th {\n",
       "        vertical-align: top;\n",
       "    }\n",
       "\n",
       "    .dataframe thead th {\n",
       "        text-align: right;\n",
       "    }\n",
       "</style>\n",
       "<table border=\"1\" class=\"dataframe\">\n",
       "  <thead>\n",
       "    <tr style=\"text-align: right;\">\n",
       "      <th></th>\n",
       "      <th>Lat</th>\n",
       "      <th>Lon</th>\n",
       "      <th>sale_price_sqr_foot</th>\n",
       "      <th>housing_units</th>\n",
       "      <th>gross_rent</th>\n",
       "    </tr>\n",
       "  </thead>\n",
       "  <tbody>\n",
       "    <tr>\n",
       "      <th>Alamo Square</th>\n",
       "      <td>37.791012</td>\n",
       "      <td>-122.402100</td>\n",
       "      <td>366.020712</td>\n",
       "      <td>378401.0</td>\n",
       "      <td>2817.285714</td>\n",
       "    </tr>\n",
       "    <tr>\n",
       "      <th>Anza Vista</th>\n",
       "      <td>37.779598</td>\n",
       "      <td>-122.443451</td>\n",
       "      <td>373.382198</td>\n",
       "      <td>379050.0</td>\n",
       "      <td>3031.833333</td>\n",
       "    </tr>\n",
       "    <tr>\n",
       "      <th>Bayview</th>\n",
       "      <td>37.734670</td>\n",
       "      <td>-122.401060</td>\n",
       "      <td>204.588623</td>\n",
       "      <td>376454.0</td>\n",
       "      <td>2318.400000</td>\n",
       "    </tr>\n",
       "    <tr>\n",
       "      <th>Bayview Heights</th>\n",
       "      <td>37.728740</td>\n",
       "      <td>-122.410980</td>\n",
       "      <td>590.792839</td>\n",
       "      <td>382295.0</td>\n",
       "      <td>3739.000000</td>\n",
       "    </tr>\n",
       "  </tbody>\n",
       "</table>\n",
       "</div>"
      ],
      "text/plain": [
       "                       Lat         Lon  sale_price_sqr_foot  housing_units  \\\n",
       "Alamo Square     37.791012 -122.402100           366.020712       378401.0   \n",
       "Anza Vista       37.779598 -122.443451           373.382198       379050.0   \n",
       "Bayview          37.734670 -122.401060           204.588623       376454.0   \n",
       "Bayview Heights  37.728740 -122.410980           590.792839       382295.0   \n",
       "\n",
       "                  gross_rent  \n",
       "Alamo Square     2817.285714  \n",
       "Anza Vista       3031.833333  \n",
       "Bayview          2318.400000  \n",
       "Bayview Heights  3739.000000  "
      ]
     },
     "execution_count": 40,
     "metadata": {},
     "output_type": "execute_result"
    }
   ],
   "source": [
    "combined_df.dropna()"
   ]
  },
  {
   "cell_type": "markdown",
   "id": "2067eadd-c87a-402d-ac4a-66697a5dcea2",
   "metadata": {},
   "source": [
    "### Mapbox Visualization\n",
    "\n",
    "Plot the average values per neighborhood using a Plotly express `scatter_mapbox` visualization."
   ]
  },
  {
   "cell_type": "code",
   "execution_count": 49,
   "id": "46ecc4be-1709-49c7-8a3a-0db0a92046d7",
   "metadata": {},
   "outputs": [],
   "source": [
    "# Read the Mapbox API key\n",
    "load_dotenv()\n",
    "map_box_api = os.getenv(\"mapbox\")\n",
    "\n",
    "# Set the mapbox access token\n",
    "px.set_mapbox_access_token(map_box_api)"
   ]
  },
  {
   "cell_type": "code",
   "execution_count": 50,
   "id": "e62f4f2b-c6d8-4c93-926b-154de1917fc2",
   "metadata": {},
   "outputs": [],
   "source": [
    "# Create a scatter mapbox to analyze neighborhood info\n",
    "combined_df.head()\n",
    "data_to_plot = combined_df.head()[[\"sale_price_sqr_foot\",\"Lat\", \"Lon\", \"gross_rent\",]]"
   ]
  },
  {
   "cell_type": "code",
   "execution_count": null,
   "id": "2455716c-4d2c-42d5-9edd-3c696c54b31c",
   "metadata": {},
   "outputs": [],
   "source": [
    "# Plot data using scatter_mapbox\n",
    "map = px.scatter_mapbox(\n",
    "    lat=\"latitude\",\n",
    "    lon=\"longitude\",\n",
    "    color=\"gross_rent\",\n",
    "    size=\"sale_price_sqr_foot\",\n",
    ")\n",
    "# Display the map\n",
    "map.show()"
   ]
  },
  {
   "cell_type": "markdown",
   "id": "a558163d-6ae5-4333-8031-0104240b3d06",
   "metadata": {},
   "source": [
    "## Cost Analysis - Optional Challenge\n",
    "\n",
    "In this section, you will use Plotly express to create visualizations that investors can use to interactively filter and explore various factors related to the house value of the San Francisco's neighborhoods. \n",
    "\n",
    "### Create a DataFrame showing the most expensive neighborhoods in San Francisco by year"
   ]
  },
  {
   "cell_type": "code",
   "execution_count": 44,
   "id": "bfbb9aa5-7f84-46cf-9212-3d9ba439314a",
   "metadata": {},
   "outputs": [
    {
     "data": {
      "text/html": [
       "<div>\n",
       "<style scoped>\n",
       "    .dataframe tbody tr th:only-of-type {\n",
       "        vertical-align: middle;\n",
       "    }\n",
       "\n",
       "    .dataframe tbody tr th {\n",
       "        vertical-align: top;\n",
       "    }\n",
       "\n",
       "    .dataframe thead th {\n",
       "        text-align: right;\n",
       "    }\n",
       "</style>\n",
       "<table border=\"1\" class=\"dataframe\">\n",
       "  <thead>\n",
       "    <tr style=\"text-align: right;\">\n",
       "      <th></th>\n",
       "      <th>year</th>\n",
       "      <th>neighborhood</th>\n",
       "      <th>sale_price_sqr_foot</th>\n",
       "      <th>housing_units</th>\n",
       "      <th>gross_rent</th>\n",
       "    </tr>\n",
       "  </thead>\n",
       "  <tbody>\n",
       "    <tr>\n",
       "      <th>0</th>\n",
       "      <td>2010</td>\n",
       "      <td>Alamo Square</td>\n",
       "      <td>291.182945</td>\n",
       "      <td>372560</td>\n",
       "      <td>1239</td>\n",
       "    </tr>\n",
       "    <tr>\n",
       "      <th>1</th>\n",
       "      <td>2010</td>\n",
       "      <td>Anza Vista</td>\n",
       "      <td>267.932583</td>\n",
       "      <td>372560</td>\n",
       "      <td>1239</td>\n",
       "    </tr>\n",
       "    <tr>\n",
       "      <th>2</th>\n",
       "      <td>2010</td>\n",
       "      <td>Bayview</td>\n",
       "      <td>170.098665</td>\n",
       "      <td>372560</td>\n",
       "      <td>1239</td>\n",
       "    </tr>\n",
       "    <tr>\n",
       "      <th>3</th>\n",
       "      <td>2010</td>\n",
       "      <td>Buena Vista Park</td>\n",
       "      <td>347.394919</td>\n",
       "      <td>372560</td>\n",
       "      <td>1239</td>\n",
       "    </tr>\n",
       "    <tr>\n",
       "      <th>4</th>\n",
       "      <td>2010</td>\n",
       "      <td>Central Richmond</td>\n",
       "      <td>319.027623</td>\n",
       "      <td>372560</td>\n",
       "      <td>1239</td>\n",
       "    </tr>\n",
       "    <tr>\n",
       "      <th>...</th>\n",
       "      <td>...</td>\n",
       "      <td>...</td>\n",
       "      <td>...</td>\n",
       "      <td>...</td>\n",
       "      <td>...</td>\n",
       "    </tr>\n",
       "    <tr>\n",
       "      <th>392</th>\n",
       "      <td>2016</td>\n",
       "      <td>Telegraph Hill</td>\n",
       "      <td>903.049771</td>\n",
       "      <td>384242</td>\n",
       "      <td>4390</td>\n",
       "    </tr>\n",
       "    <tr>\n",
       "      <th>393</th>\n",
       "      <td>2016</td>\n",
       "      <td>Twin Peaks</td>\n",
       "      <td>970.085470</td>\n",
       "      <td>384242</td>\n",
       "      <td>4390</td>\n",
       "    </tr>\n",
       "    <tr>\n",
       "      <th>394</th>\n",
       "      <td>2016</td>\n",
       "      <td>Van Ness/ Civic Center</td>\n",
       "      <td>552.602567</td>\n",
       "      <td>384242</td>\n",
       "      <td>4390</td>\n",
       "    </tr>\n",
       "    <tr>\n",
       "      <th>395</th>\n",
       "      <td>2016</td>\n",
       "      <td>Visitacion Valley</td>\n",
       "      <td>328.319007</td>\n",
       "      <td>384242</td>\n",
       "      <td>4390</td>\n",
       "    </tr>\n",
       "    <tr>\n",
       "      <th>396</th>\n",
       "      <td>2016</td>\n",
       "      <td>Westwood Park</td>\n",
       "      <td>631.195426</td>\n",
       "      <td>384242</td>\n",
       "      <td>4390</td>\n",
       "    </tr>\n",
       "  </tbody>\n",
       "</table>\n",
       "<p>397 rows × 5 columns</p>\n",
       "</div>"
      ],
      "text/plain": [
       "     year            neighborhood  sale_price_sqr_foot  housing_units  \\\n",
       "0    2010            Alamo Square           291.182945         372560   \n",
       "1    2010              Anza Vista           267.932583         372560   \n",
       "2    2010                 Bayview           170.098665         372560   \n",
       "3    2010        Buena Vista Park           347.394919         372560   \n",
       "4    2010        Central Richmond           319.027623         372560   \n",
       "..    ...                     ...                  ...            ...   \n",
       "392  2016          Telegraph Hill           903.049771         384242   \n",
       "393  2016              Twin Peaks           970.085470         384242   \n",
       "394  2016  Van Ness/ Civic Center           552.602567         384242   \n",
       "395  2016       Visitacion Valley           328.319007         384242   \n",
       "396  2016           Westwood Park           631.195426         384242   \n",
       "\n",
       "     gross_rent  \n",
       "0          1239  \n",
       "1          1239  \n",
       "2          1239  \n",
       "3          1239  \n",
       "4          1239  \n",
       "..          ...  \n",
       "392        4390  \n",
       "393        4390  \n",
       "394        4390  \n",
       "395        4390  \n",
       "396        4390  \n",
       "\n",
       "[397 rows x 5 columns]"
      ]
     },
     "execution_count": 44,
     "metadata": {},
     "output_type": "execute_result"
    }
   ],
   "source": [
    "# Fetch the data from all expensive neighborhoods per year.\n",
    "sfo_data = pd.read_csv('sfo_neighborhoods_census_data.csv')\n",
    "sfo_data"
   ]
  },
  {
   "cell_type": "code",
   "execution_count": 55,
   "id": "b6c0cf5a-d03d-4b2f-9cee-f33daae0919d",
   "metadata": {},
   "outputs": [
    {
     "data": {
      "text/html": [
       "<div>\n",
       "<style scoped>\n",
       "    .dataframe tbody tr th:only-of-type {\n",
       "        vertical-align: middle;\n",
       "    }\n",
       "\n",
       "    .dataframe tbody tr th {\n",
       "        vertical-align: top;\n",
       "    }\n",
       "\n",
       "    .dataframe thead th {\n",
       "        text-align: right;\n",
       "    }\n",
       "</style>\n",
       "<table border=\"1\" class=\"dataframe\">\n",
       "  <thead>\n",
       "    <tr style=\"text-align: right;\">\n",
       "      <th></th>\n",
       "      <th>year</th>\n",
       "      <th>sale_price_sqr_foot</th>\n",
       "      <th>housing_units</th>\n",
       "      <th>gross_rent</th>\n",
       "    </tr>\n",
       "    <tr>\n",
       "      <th>neighborhood</th>\n",
       "      <th></th>\n",
       "      <th></th>\n",
       "      <th></th>\n",
       "      <th></th>\n",
       "    </tr>\n",
       "  </thead>\n",
       "  <tbody>\n",
       "    <tr>\n",
       "      <th>Alamo Square</th>\n",
       "      <td>2013.000000</td>\n",
       "      <td>366.020712</td>\n",
       "      <td>378401.00</td>\n",
       "      <td>2817.285714</td>\n",
       "    </tr>\n",
       "    <tr>\n",
       "      <th>Anza Vista</th>\n",
       "      <td>2013.333333</td>\n",
       "      <td>373.382198</td>\n",
       "      <td>379050.00</td>\n",
       "      <td>3031.833333</td>\n",
       "    </tr>\n",
       "    <tr>\n",
       "      <th>Bayview</th>\n",
       "      <td>2012.000000</td>\n",
       "      <td>204.588623</td>\n",
       "      <td>376454.00</td>\n",
       "      <td>2318.400000</td>\n",
       "    </tr>\n",
       "    <tr>\n",
       "      <th>Bayview Heights</th>\n",
       "      <td>2015.000000</td>\n",
       "      <td>590.792839</td>\n",
       "      <td>382295.00</td>\n",
       "      <td>3739.000000</td>\n",
       "    </tr>\n",
       "    <tr>\n",
       "      <th>Bernal Heights</th>\n",
       "      <td>2013.500000</td>\n",
       "      <td>576.746488</td>\n",
       "      <td>379374.50</td>\n",
       "      <td>3080.333333</td>\n",
       "    </tr>\n",
       "    <tr>\n",
       "      <th>...</th>\n",
       "      <td>...</td>\n",
       "      <td>...</td>\n",
       "      <td>...</td>\n",
       "      <td>...</td>\n",
       "    </tr>\n",
       "    <tr>\n",
       "      <th>West Portal</th>\n",
       "      <td>2012.250000</td>\n",
       "      <td>498.488485</td>\n",
       "      <td>376940.75</td>\n",
       "      <td>2515.500000</td>\n",
       "    </tr>\n",
       "    <tr>\n",
       "      <th>Western Addition</th>\n",
       "      <td>2012.500000</td>\n",
       "      <td>307.562201</td>\n",
       "      <td>377427.50</td>\n",
       "      <td>2555.166667</td>\n",
       "    </tr>\n",
       "    <tr>\n",
       "      <th>Westwood Highlands</th>\n",
       "      <td>2012.000000</td>\n",
       "      <td>533.703935</td>\n",
       "      <td>376454.00</td>\n",
       "      <td>2250.500000</td>\n",
       "    </tr>\n",
       "    <tr>\n",
       "      <th>Westwood Park</th>\n",
       "      <td>2015.000000</td>\n",
       "      <td>687.087575</td>\n",
       "      <td>382295.00</td>\n",
       "      <td>3959.000000</td>\n",
       "    </tr>\n",
       "    <tr>\n",
       "      <th>Yerba Buena</th>\n",
       "      <td>2012.500000</td>\n",
       "      <td>576.709848</td>\n",
       "      <td>377427.50</td>\n",
       "      <td>2555.166667</td>\n",
       "    </tr>\n",
       "  </tbody>\n",
       "</table>\n",
       "<p>73 rows × 4 columns</p>\n",
       "</div>"
      ],
      "text/plain": [
       "                           year  sale_price_sqr_foot  housing_units  \\\n",
       "neighborhood                                                          \n",
       "Alamo Square        2013.000000           366.020712      378401.00   \n",
       "Anza Vista          2013.333333           373.382198      379050.00   \n",
       "Bayview             2012.000000           204.588623      376454.00   \n",
       "Bayview Heights     2015.000000           590.792839      382295.00   \n",
       "Bernal Heights      2013.500000           576.746488      379374.50   \n",
       "...                         ...                  ...            ...   \n",
       "West Portal         2012.250000           498.488485      376940.75   \n",
       "Western Addition    2012.500000           307.562201      377427.50   \n",
       "Westwood Highlands  2012.000000           533.703935      376454.00   \n",
       "Westwood Park       2015.000000           687.087575      382295.00   \n",
       "Yerba Buena         2012.500000           576.709848      377427.50   \n",
       "\n",
       "                     gross_rent  \n",
       "neighborhood                     \n",
       "Alamo Square        2817.285714  \n",
       "Anza Vista          3031.833333  \n",
       "Bayview             2318.400000  \n",
       "Bayview Heights     3739.000000  \n",
       "Bernal Heights      3080.333333  \n",
       "...                         ...  \n",
       "West Portal         2515.500000  \n",
       "Western Addition    2555.166667  \n",
       "Westwood Highlands  2250.500000  \n",
       "Westwood Park       3959.000000  \n",
       "Yerba Buena         2555.166667  \n",
       "\n",
       "[73 rows x 4 columns]"
      ]
     },
     "execution_count": 55,
     "metadata": {},
     "output_type": "execute_result"
    }
   ],
   "source": [
    "sfo_data = sfo_data.groupby('neighborhood').mean()\n",
    "sfo_data"
   ]
  },
  {
   "cell_type": "code",
   "execution_count": 58,
   "id": "660382ac-5b15-435d-913d-951bfd3994aa",
   "metadata": {},
   "outputs": [
    {
     "data": {
      "text/html": [
       "<div>\n",
       "<style scoped>\n",
       "    .dataframe tbody tr th:only-of-type {\n",
       "        vertical-align: middle;\n",
       "    }\n",
       "\n",
       "    .dataframe tbody tr th {\n",
       "        vertical-align: top;\n",
       "    }\n",
       "\n",
       "    .dataframe thead th {\n",
       "        text-align: right;\n",
       "    }\n",
       "</style>\n",
       "<table border=\"1\" class=\"dataframe\">\n",
       "  <thead>\n",
       "    <tr style=\"text-align: right;\">\n",
       "      <th></th>\n",
       "      <th>year</th>\n",
       "      <th>sale_price_sqr_foot</th>\n",
       "      <th>housing_units</th>\n",
       "      <th>gross_rent</th>\n",
       "    </tr>\n",
       "    <tr>\n",
       "      <th>neighborhood</th>\n",
       "      <th></th>\n",
       "      <th></th>\n",
       "      <th></th>\n",
       "      <th></th>\n",
       "    </tr>\n",
       "  </thead>\n",
       "  <tbody>\n",
       "    <tr>\n",
       "      <th>Silver Terrace</th>\n",
       "      <td>2014.00</td>\n",
       "      <td>170.292549</td>\n",
       "      <td>380348.00</td>\n",
       "      <td>3528.000000</td>\n",
       "    </tr>\n",
       "    <tr>\n",
       "      <th>Hunters Point</th>\n",
       "      <td>2012.50</td>\n",
       "      <td>170.624920</td>\n",
       "      <td>377427.50</td>\n",
       "      <td>2489.000000</td>\n",
       "    </tr>\n",
       "    <tr>\n",
       "      <th>Bayview</th>\n",
       "      <td>2012.00</td>\n",
       "      <td>204.588623</td>\n",
       "      <td>376454.00</td>\n",
       "      <td>2318.400000</td>\n",
       "    </tr>\n",
       "    <tr>\n",
       "      <th>Outer Mission</th>\n",
       "      <td>2013.50</td>\n",
       "      <td>242.370952</td>\n",
       "      <td>379374.50</td>\n",
       "      <td>2995.750000</td>\n",
       "    </tr>\n",
       "    <tr>\n",
       "      <th>Visitacion Valley</th>\n",
       "      <td>2014.50</td>\n",
       "      <td>301.466180</td>\n",
       "      <td>381321.50</td>\n",
       "      <td>3657.000000</td>\n",
       "    </tr>\n",
       "    <tr>\n",
       "      <th>...</th>\n",
       "      <td>...</td>\n",
       "      <td>...</td>\n",
       "      <td>...</td>\n",
       "      <td>...</td>\n",
       "    </tr>\n",
       "    <tr>\n",
       "      <th>Westwood Park</th>\n",
       "      <td>2015.00</td>\n",
       "      <td>687.087575</td>\n",
       "      <td>382295.00</td>\n",
       "      <td>3959.000000</td>\n",
       "    </tr>\n",
       "    <tr>\n",
       "      <th>Pacific Heights</th>\n",
       "      <td>2013.00</td>\n",
       "      <td>689.555817</td>\n",
       "      <td>378401.00</td>\n",
       "      <td>2817.285714</td>\n",
       "    </tr>\n",
       "    <tr>\n",
       "      <th>Miraloma Park</th>\n",
       "      <td>2011.75</td>\n",
       "      <td>779.810842</td>\n",
       "      <td>375967.25</td>\n",
       "      <td>2155.250000</td>\n",
       "    </tr>\n",
       "    <tr>\n",
       "      <th>Merced Heights</th>\n",
       "      <td>2014.00</td>\n",
       "      <td>788.844818</td>\n",
       "      <td>380348.00</td>\n",
       "      <td>3414.000000</td>\n",
       "    </tr>\n",
       "    <tr>\n",
       "      <th>Union Square District</th>\n",
       "      <td>2012.50</td>\n",
       "      <td>903.993258</td>\n",
       "      <td>377427.50</td>\n",
       "      <td>2555.166667</td>\n",
       "    </tr>\n",
       "  </tbody>\n",
       "</table>\n",
       "<p>73 rows × 4 columns</p>\n",
       "</div>"
      ],
      "text/plain": [
       "                          year  sale_price_sqr_foot  housing_units  \\\n",
       "neighborhood                                                         \n",
       "Silver Terrace         2014.00           170.292549      380348.00   \n",
       "Hunters Point          2012.50           170.624920      377427.50   \n",
       "Bayview                2012.00           204.588623      376454.00   \n",
       "Outer Mission          2013.50           242.370952      379374.50   \n",
       "Visitacion Valley      2014.50           301.466180      381321.50   \n",
       "...                        ...                  ...            ...   \n",
       "Westwood Park          2015.00           687.087575      382295.00   \n",
       "Pacific Heights        2013.00           689.555817      378401.00   \n",
       "Miraloma Park          2011.75           779.810842      375967.25   \n",
       "Merced Heights         2014.00           788.844818      380348.00   \n",
       "Union Square District  2012.50           903.993258      377427.50   \n",
       "\n",
       "                        gross_rent  \n",
       "neighborhood                        \n",
       "Silver Terrace         3528.000000  \n",
       "Hunters Point          2489.000000  \n",
       "Bayview                2318.400000  \n",
       "Outer Mission          2995.750000  \n",
       "Visitacion Valley      3657.000000  \n",
       "...                            ...  \n",
       "Westwood Park          3959.000000  \n",
       "Pacific Heights        2817.285714  \n",
       "Miraloma Park          2155.250000  \n",
       "Merced Heights         3414.000000  \n",
       "Union Square District  2555.166667  \n",
       "\n",
       "[73 rows x 4 columns]"
      ]
     },
     "execution_count": 58,
     "metadata": {},
     "output_type": "execute_result"
    }
   ],
   "source": [
    "sfo_data.sort_values(by=['sale_price_sqr_foot'], inplace=True)\n",
    "sfo_data"
   ]
  },
  {
   "cell_type": "code",
   "execution_count": 76,
   "id": "65893732-93f9-4ed3-a840-b5bdd2baed9a",
   "metadata": {},
   "outputs": [
    {
     "data": {
      "text/html": [
       "<div>\n",
       "<style scoped>\n",
       "    .dataframe tbody tr th:only-of-type {\n",
       "        vertical-align: middle;\n",
       "    }\n",
       "\n",
       "    .dataframe tbody tr th {\n",
       "        vertical-align: top;\n",
       "    }\n",
       "\n",
       "    .dataframe thead th {\n",
       "        text-align: right;\n",
       "    }\n",
       "</style>\n",
       "<table border=\"1\" class=\"dataframe\">\n",
       "  <thead>\n",
       "    <tr style=\"text-align: right;\">\n",
       "      <th></th>\n",
       "      <th>neighborhood</th>\n",
       "      <th>sale_price_sqr_foot</th>\n",
       "      <th>housing_units</th>\n",
       "      <th>gross_rent</th>\n",
       "    </tr>\n",
       "  </thead>\n",
       "  <tbody>\n",
       "    <tr>\n",
       "      <th>0</th>\n",
       "      <td>South Beach</td>\n",
       "      <td>650.124479</td>\n",
       "      <td>375805.00</td>\n",
       "      <td>2099.000000</td>\n",
       "    </tr>\n",
       "    <tr>\n",
       "      <th>1</th>\n",
       "      <td>Potrero Hill</td>\n",
       "      <td>662.013613</td>\n",
       "      <td>378401.00</td>\n",
       "      <td>2817.285714</td>\n",
       "    </tr>\n",
       "    <tr>\n",
       "      <th>2</th>\n",
       "      <td>Cow Hollow</td>\n",
       "      <td>665.964042</td>\n",
       "      <td>378401.00</td>\n",
       "      <td>2817.285714</td>\n",
       "    </tr>\n",
       "    <tr>\n",
       "      <th>3</th>\n",
       "      <td>Presidio Heights</td>\n",
       "      <td>675.350212</td>\n",
       "      <td>378401.00</td>\n",
       "      <td>2817.285714</td>\n",
       "    </tr>\n",
       "    <tr>\n",
       "      <th>4</th>\n",
       "      <td>Telegraph Hill</td>\n",
       "      <td>676.506578</td>\n",
       "      <td>378401.00</td>\n",
       "      <td>2817.285714</td>\n",
       "    </tr>\n",
       "    <tr>\n",
       "      <th>5</th>\n",
       "      <td>Westwood Park</td>\n",
       "      <td>687.087575</td>\n",
       "      <td>382295.00</td>\n",
       "      <td>3959.000000</td>\n",
       "    </tr>\n",
       "    <tr>\n",
       "      <th>6</th>\n",
       "      <td>Pacific Heights</td>\n",
       "      <td>689.555817</td>\n",
       "      <td>378401.00</td>\n",
       "      <td>2817.285714</td>\n",
       "    </tr>\n",
       "    <tr>\n",
       "      <th>7</th>\n",
       "      <td>Miraloma Park</td>\n",
       "      <td>779.810842</td>\n",
       "      <td>375967.25</td>\n",
       "      <td>2155.250000</td>\n",
       "    </tr>\n",
       "    <tr>\n",
       "      <th>8</th>\n",
       "      <td>Merced Heights</td>\n",
       "      <td>788.844818</td>\n",
       "      <td>380348.00</td>\n",
       "      <td>3414.000000</td>\n",
       "    </tr>\n",
       "    <tr>\n",
       "      <th>9</th>\n",
       "      <td>Union Square District</td>\n",
       "      <td>903.993258</td>\n",
       "      <td>377427.50</td>\n",
       "      <td>2555.166667</td>\n",
       "    </tr>\n",
       "  </tbody>\n",
       "</table>\n",
       "</div>"
      ],
      "text/plain": [
       "            neighborhood  sale_price_sqr_foot  housing_units   gross_rent\n",
       "0            South Beach           650.124479      375805.00  2099.000000\n",
       "1           Potrero Hill           662.013613      378401.00  2817.285714\n",
       "2             Cow Hollow           665.964042      378401.00  2817.285714\n",
       "3       Presidio Heights           675.350212      378401.00  2817.285714\n",
       "4         Telegraph Hill           676.506578      378401.00  2817.285714\n",
       "5          Westwood Park           687.087575      382295.00  3959.000000\n",
       "6        Pacific Heights           689.555817      378401.00  2817.285714\n",
       "7          Miraloma Park           779.810842      375967.25  2155.250000\n",
       "8         Merced Heights           788.844818      380348.00  3414.000000\n",
       "9  Union Square District           903.993258      377427.50  2555.166667"
      ]
     },
     "execution_count": 76,
     "metadata": {},
     "output_type": "execute_result"
    }
   ],
   "source": [
    "sfo_data.tail(10).reset_index()"
   ]
  },
  {
   "cell_type": "code",
   "execution_count": null,
   "id": "445f4d11-7a80-4756-a226-2f9f341345e3",
   "metadata": {},
   "outputs": [],
   "source": []
  },
  {
   "cell_type": "markdown",
   "id": "9ccce287-2813-4bf3-bf23-4c1f9c8dbd83",
   "metadata": {},
   "source": [
    "### Create a parallel coordinates plot and parallel categories plot of most expensive neighborhoods in San Francisco per year\n"
   ]
  },
  {
   "cell_type": "code",
   "execution_count": 91,
   "id": "f2321f3a-1eb0-4ba3-a075-35904f08aadc",
   "metadata": {},
   "outputs": [
    {
     "data": {
      "application/vnd.plotly.v1+json": {
       "config": {
        "plotlyServerURL": "https://plot.ly"
       },
       "data": [
        {
         "dimensions": [
          {
           "label": "Sale_price_sqr_foot",
           "values": [
            650.1244791945729,
            662.0136128276529,
            665.9640415783227,
            675.3502120510033,
            676.5065775293257,
            687.0875745178322,
            689.5558168113664,
            779.810842264425,
            788.8448175872469,
            903.9932576720645
           ]
          },
          {
           "label": "Housing_units",
           "values": [
            375805,
            378401,
            378401,
            378401,
            378401,
            382295,
            378401,
            375967.25,
            380348,
            377427.5
           ]
          },
          {
           "label": "Gross_rent",
           "values": [
            2099,
            2817.285714285714,
            2817.285714285714,
            2817.285714285714,
            2817.285714285714,
            3959,
            2817.285714285714,
            2155.25,
            3414,
            2555.1666666666665
           ]
          }
         ],
         "domain": {
          "x": [
           0,
           1
          ],
          "y": [
           0,
           1
          ]
         },
         "line": {
          "color": [
           650.1244791945729,
           662.0136128276529,
           665.9640415783227,
           675.3502120510033,
           676.5065775293257,
           687.0875745178322,
           689.5558168113664,
           779.810842264425,
           788.8448175872469,
           903.9932576720645
          ],
          "coloraxis": "coloraxis"
         },
         "name": "",
         "type": "parcats"
        }
       ],
       "layout": {
        "autosize": true,
        "coloraxis": {
         "colorbar": {
          "title": {
           "text": "Sale_price_sqr_foot"
          }
         },
         "colorscale": [
          [
           0,
           "#000004"
          ],
          [
           0.1111111111111111,
           "#1b0c41"
          ],
          [
           0.2222222222222222,
           "#4a0c6b"
          ],
          [
           0.3333333333333333,
           "#781c6d"
          ],
          [
           0.4444444444444444,
           "#a52c60"
          ],
          [
           0.5555555555555556,
           "#cf4446"
          ],
          [
           0.6666666666666666,
           "#ed6925"
          ],
          [
           0.7777777777777778,
           "#fb9b06"
          ],
          [
           0.8888888888888888,
           "#f7d13d"
          ],
          [
           1,
           "#fcffa4"
          ]
         ]
        },
        "legend": {
         "tracegroupgap": 0
        },
        "margin": {
         "t": 60
        },
        "template": {
         "data": {
          "bar": [
           {
            "error_x": {
             "color": "#2a3f5f"
            },
            "error_y": {
             "color": "#2a3f5f"
            },
            "marker": {
             "line": {
              "color": "#E5ECF6",
              "width": 0.5
             },
             "pattern": {
              "fillmode": "overlay",
              "size": 10,
              "solidity": 0.2
             }
            },
            "type": "bar"
           }
          ],
          "barpolar": [
           {
            "marker": {
             "line": {
              "color": "#E5ECF6",
              "width": 0.5
             },
             "pattern": {
              "fillmode": "overlay",
              "size": 10,
              "solidity": 0.2
             }
            },
            "type": "barpolar"
           }
          ],
          "carpet": [
           {
            "aaxis": {
             "endlinecolor": "#2a3f5f",
             "gridcolor": "white",
             "linecolor": "white",
             "minorgridcolor": "white",
             "startlinecolor": "#2a3f5f"
            },
            "baxis": {
             "endlinecolor": "#2a3f5f",
             "gridcolor": "white",
             "linecolor": "white",
             "minorgridcolor": "white",
             "startlinecolor": "#2a3f5f"
            },
            "type": "carpet"
           }
          ],
          "choropleth": [
           {
            "colorbar": {
             "outlinewidth": 0,
             "ticks": ""
            },
            "type": "choropleth"
           }
          ],
          "contour": [
           {
            "colorbar": {
             "outlinewidth": 0,
             "ticks": ""
            },
            "colorscale": [
             [
              0,
              "#0d0887"
             ],
             [
              0.1111111111111111,
              "#46039f"
             ],
             [
              0.2222222222222222,
              "#7201a8"
             ],
             [
              0.3333333333333333,
              "#9c179e"
             ],
             [
              0.4444444444444444,
              "#bd3786"
             ],
             [
              0.5555555555555556,
              "#d8576b"
             ],
             [
              0.6666666666666666,
              "#ed7953"
             ],
             [
              0.7777777777777778,
              "#fb9f3a"
             ],
             [
              0.8888888888888888,
              "#fdca26"
             ],
             [
              1,
              "#f0f921"
             ]
            ],
            "type": "contour"
           }
          ],
          "contourcarpet": [
           {
            "colorbar": {
             "outlinewidth": 0,
             "ticks": ""
            },
            "type": "contourcarpet"
           }
          ],
          "heatmap": [
           {
            "colorbar": {
             "outlinewidth": 0,
             "ticks": ""
            },
            "colorscale": [
             [
              0,
              "#0d0887"
             ],
             [
              0.1111111111111111,
              "#46039f"
             ],
             [
              0.2222222222222222,
              "#7201a8"
             ],
             [
              0.3333333333333333,
              "#9c179e"
             ],
             [
              0.4444444444444444,
              "#bd3786"
             ],
             [
              0.5555555555555556,
              "#d8576b"
             ],
             [
              0.6666666666666666,
              "#ed7953"
             ],
             [
              0.7777777777777778,
              "#fb9f3a"
             ],
             [
              0.8888888888888888,
              "#fdca26"
             ],
             [
              1,
              "#f0f921"
             ]
            ],
            "type": "heatmap"
           }
          ],
          "heatmapgl": [
           {
            "colorbar": {
             "outlinewidth": 0,
             "ticks": ""
            },
            "colorscale": [
             [
              0,
              "#0d0887"
             ],
             [
              0.1111111111111111,
              "#46039f"
             ],
             [
              0.2222222222222222,
              "#7201a8"
             ],
             [
              0.3333333333333333,
              "#9c179e"
             ],
             [
              0.4444444444444444,
              "#bd3786"
             ],
             [
              0.5555555555555556,
              "#d8576b"
             ],
             [
              0.6666666666666666,
              "#ed7953"
             ],
             [
              0.7777777777777778,
              "#fb9f3a"
             ],
             [
              0.8888888888888888,
              "#fdca26"
             ],
             [
              1,
              "#f0f921"
             ]
            ],
            "type": "heatmapgl"
           }
          ],
          "histogram": [
           {
            "marker": {
             "pattern": {
              "fillmode": "overlay",
              "size": 10,
              "solidity": 0.2
             }
            },
            "type": "histogram"
           }
          ],
          "histogram2d": [
           {
            "colorbar": {
             "outlinewidth": 0,
             "ticks": ""
            },
            "colorscale": [
             [
              0,
              "#0d0887"
             ],
             [
              0.1111111111111111,
              "#46039f"
             ],
             [
              0.2222222222222222,
              "#7201a8"
             ],
             [
              0.3333333333333333,
              "#9c179e"
             ],
             [
              0.4444444444444444,
              "#bd3786"
             ],
             [
              0.5555555555555556,
              "#d8576b"
             ],
             [
              0.6666666666666666,
              "#ed7953"
             ],
             [
              0.7777777777777778,
              "#fb9f3a"
             ],
             [
              0.8888888888888888,
              "#fdca26"
             ],
             [
              1,
              "#f0f921"
             ]
            ],
            "type": "histogram2d"
           }
          ],
          "histogram2dcontour": [
           {
            "colorbar": {
             "outlinewidth": 0,
             "ticks": ""
            },
            "colorscale": [
             [
              0,
              "#0d0887"
             ],
             [
              0.1111111111111111,
              "#46039f"
             ],
             [
              0.2222222222222222,
              "#7201a8"
             ],
             [
              0.3333333333333333,
              "#9c179e"
             ],
             [
              0.4444444444444444,
              "#bd3786"
             ],
             [
              0.5555555555555556,
              "#d8576b"
             ],
             [
              0.6666666666666666,
              "#ed7953"
             ],
             [
              0.7777777777777778,
              "#fb9f3a"
             ],
             [
              0.8888888888888888,
              "#fdca26"
             ],
             [
              1,
              "#f0f921"
             ]
            ],
            "type": "histogram2dcontour"
           }
          ],
          "mesh3d": [
           {
            "colorbar": {
             "outlinewidth": 0,
             "ticks": ""
            },
            "type": "mesh3d"
           }
          ],
          "parcoords": [
           {
            "line": {
             "colorbar": {
              "outlinewidth": 0,
              "ticks": ""
             }
            },
            "type": "parcoords"
           }
          ],
          "pie": [
           {
            "automargin": true,
            "type": "pie"
           }
          ],
          "scatter": [
           {
            "marker": {
             "colorbar": {
              "outlinewidth": 0,
              "ticks": ""
             }
            },
            "type": "scatter"
           }
          ],
          "scatter3d": [
           {
            "line": {
             "colorbar": {
              "outlinewidth": 0,
              "ticks": ""
             }
            },
            "marker": {
             "colorbar": {
              "outlinewidth": 0,
              "ticks": ""
             }
            },
            "type": "scatter3d"
           }
          ],
          "scattercarpet": [
           {
            "marker": {
             "colorbar": {
              "outlinewidth": 0,
              "ticks": ""
             }
            },
            "type": "scattercarpet"
           }
          ],
          "scattergeo": [
           {
            "marker": {
             "colorbar": {
              "outlinewidth": 0,
              "ticks": ""
             }
            },
            "type": "scattergeo"
           }
          ],
          "scattergl": [
           {
            "marker": {
             "colorbar": {
              "outlinewidth": 0,
              "ticks": ""
             }
            },
            "type": "scattergl"
           }
          ],
          "scattermapbox": [
           {
            "marker": {
             "colorbar": {
              "outlinewidth": 0,
              "ticks": ""
             }
            },
            "type": "scattermapbox"
           }
          ],
          "scatterpolar": [
           {
            "marker": {
             "colorbar": {
              "outlinewidth": 0,
              "ticks": ""
             }
            },
            "type": "scatterpolar"
           }
          ],
          "scatterpolargl": [
           {
            "marker": {
             "colorbar": {
              "outlinewidth": 0,
              "ticks": ""
             }
            },
            "type": "scatterpolargl"
           }
          ],
          "scatterternary": [
           {
            "marker": {
             "colorbar": {
              "outlinewidth": 0,
              "ticks": ""
             }
            },
            "type": "scatterternary"
           }
          ],
          "surface": [
           {
            "colorbar": {
             "outlinewidth": 0,
             "ticks": ""
            },
            "colorscale": [
             [
              0,
              "#0d0887"
             ],
             [
              0.1111111111111111,
              "#46039f"
             ],
             [
              0.2222222222222222,
              "#7201a8"
             ],
             [
              0.3333333333333333,
              "#9c179e"
             ],
             [
              0.4444444444444444,
              "#bd3786"
             ],
             [
              0.5555555555555556,
              "#d8576b"
             ],
             [
              0.6666666666666666,
              "#ed7953"
             ],
             [
              0.7777777777777778,
              "#fb9f3a"
             ],
             [
              0.8888888888888888,
              "#fdca26"
             ],
             [
              1,
              "#f0f921"
             ]
            ],
            "type": "surface"
           }
          ],
          "table": [
           {
            "cells": {
             "fill": {
              "color": "#EBF0F8"
             },
             "line": {
              "color": "white"
             }
            },
            "header": {
             "fill": {
              "color": "#C8D4E3"
             },
             "line": {
              "color": "white"
             }
            },
            "type": "table"
           }
          ]
         },
         "layout": {
          "annotationdefaults": {
           "arrowcolor": "#2a3f5f",
           "arrowhead": 0,
           "arrowwidth": 1
          },
          "autotypenumbers": "strict",
          "coloraxis": {
           "colorbar": {
            "outlinewidth": 0,
            "ticks": ""
           }
          },
          "colorscale": {
           "diverging": [
            [
             0,
             "#8e0152"
            ],
            [
             0.1,
             "#c51b7d"
            ],
            [
             0.2,
             "#de77ae"
            ],
            [
             0.3,
             "#f1b6da"
            ],
            [
             0.4,
             "#fde0ef"
            ],
            [
             0.5,
             "#f7f7f7"
            ],
            [
             0.6,
             "#e6f5d0"
            ],
            [
             0.7,
             "#b8e186"
            ],
            [
             0.8,
             "#7fbc41"
            ],
            [
             0.9,
             "#4d9221"
            ],
            [
             1,
             "#276419"
            ]
           ],
           "sequential": [
            [
             0,
             "#0d0887"
            ],
            [
             0.1111111111111111,
             "#46039f"
            ],
            [
             0.2222222222222222,
             "#7201a8"
            ],
            [
             0.3333333333333333,
             "#9c179e"
            ],
            [
             0.4444444444444444,
             "#bd3786"
            ],
            [
             0.5555555555555556,
             "#d8576b"
            ],
            [
             0.6666666666666666,
             "#ed7953"
            ],
            [
             0.7777777777777778,
             "#fb9f3a"
            ],
            [
             0.8888888888888888,
             "#fdca26"
            ],
            [
             1,
             "#f0f921"
            ]
           ],
           "sequentialminus": [
            [
             0,
             "#0d0887"
            ],
            [
             0.1111111111111111,
             "#46039f"
            ],
            [
             0.2222222222222222,
             "#7201a8"
            ],
            [
             0.3333333333333333,
             "#9c179e"
            ],
            [
             0.4444444444444444,
             "#bd3786"
            ],
            [
             0.5555555555555556,
             "#d8576b"
            ],
            [
             0.6666666666666666,
             "#ed7953"
            ],
            [
             0.7777777777777778,
             "#fb9f3a"
            ],
            [
             0.8888888888888888,
             "#fdca26"
            ],
            [
             1,
             "#f0f921"
            ]
           ]
          },
          "colorway": [
           "#636efa",
           "#EF553B",
           "#00cc96",
           "#ab63fa",
           "#FFA15A",
           "#19d3f3",
           "#FF6692",
           "#B6E880",
           "#FF97FF",
           "#FECB52"
          ],
          "font": {
           "color": "#2a3f5f"
          },
          "geo": {
           "bgcolor": "white",
           "lakecolor": "white",
           "landcolor": "#E5ECF6",
           "showlakes": true,
           "showland": true,
           "subunitcolor": "white"
          },
          "hoverlabel": {
           "align": "left"
          },
          "hovermode": "closest",
          "mapbox": {
           "style": "light"
          },
          "paper_bgcolor": "white",
          "plot_bgcolor": "#E5ECF6",
          "polar": {
           "angularaxis": {
            "gridcolor": "white",
            "linecolor": "white",
            "ticks": ""
           },
           "bgcolor": "#E5ECF6",
           "radialaxis": {
            "gridcolor": "white",
            "linecolor": "white",
            "ticks": ""
           }
          },
          "scene": {
           "xaxis": {
            "backgroundcolor": "#E5ECF6",
            "gridcolor": "white",
            "gridwidth": 2,
            "linecolor": "white",
            "showbackground": true,
            "ticks": "",
            "zerolinecolor": "white"
           },
           "yaxis": {
            "backgroundcolor": "#E5ECF6",
            "gridcolor": "white",
            "gridwidth": 2,
            "linecolor": "white",
            "showbackground": true,
            "ticks": "",
            "zerolinecolor": "white"
           },
           "zaxis": {
            "backgroundcolor": "#E5ECF6",
            "gridcolor": "white",
            "gridwidth": 2,
            "linecolor": "white",
            "showbackground": true,
            "ticks": "",
            "zerolinecolor": "white"
           }
          },
          "shapedefaults": {
           "line": {
            "color": "#2a3f5f"
           }
          },
          "ternary": {
           "aaxis": {
            "gridcolor": "white",
            "linecolor": "white",
            "ticks": ""
           },
           "baxis": {
            "gridcolor": "white",
            "linecolor": "white",
            "ticks": ""
           },
           "bgcolor": "#E5ECF6",
           "caxis": {
            "gridcolor": "white",
            "linecolor": "white",
            "ticks": ""
           }
          },
          "title": {
           "x": 0.05
          },
          "xaxis": {
           "automargin": true,
           "gridcolor": "white",
           "linecolor": "white",
           "ticks": "",
           "title": {
            "standoff": 15
           },
           "zerolinecolor": "white",
           "zerolinewidth": 2
          },
          "yaxis": {
           "automargin": true,
           "gridcolor": "white",
           "linecolor": "white",
           "ticks": "",
           "title": {
            "standoff": 15
           },
           "zerolinecolor": "white",
           "zerolinewidth": 2
          }
         }
        }
       }
      },
      "image/png": "[encoded data removed]",
      "text/html": [
       "<div>                            <div id=\"181cd39e-8aa5-4a68-b81f-96e7e8d552bb\" class=\"plotly-graph-div\" style=\"height:525px; width:100%;\"></div>            <script type=\"text/javascript\">                require([\"plotly\"], function(Plotly) {                    window.PLOTLYENV=window.PLOTLYENV || {};                                    if (document.getElementById(\"181cd39e-8aa5-4a68-b81f-96e7e8d552bb\")) {                    Plotly.newPlot(                        \"181cd39e-8aa5-4a68-b81f-96e7e8d552bb\",                        [{\"dimensions\":[{\"label\":\"Sale_price_sqr_foot\",\"values\":[650.1244791945729,662.0136128276529,665.9640415783227,675.3502120510033,676.5065775293257,687.0875745178322,689.5558168113664,779.810842264425,788.8448175872469,903.9932576720645]},{\"label\":\"Housing_units\",\"values\":[375805.0,378401.0,378401.0,378401.0,378401.0,382295.0,378401.0,375967.25,380348.0,377427.5]},{\"label\":\"Gross_rent\",\"values\":[2099.0,2817.285714285714,2817.285714285714,2817.285714285714,2817.285714285714,3959.0,2817.285714285714,2155.25,3414.0,2555.1666666666665]}],\"domain\":{\"x\":[0.0,1.0],\"y\":[0.0,1.0]},\"line\":{\"color\":[650.1244791945729,662.0136128276529,665.9640415783227,675.3502120510033,676.5065775293257,687.0875745178322,689.5558168113664,779.810842264425,788.8448175872469,903.9932576720645],\"coloraxis\":\"coloraxis\"},\"name\":\"\",\"type\":\"parcats\"}],                        {\"template\":{\"data\":{\"bar\":[{\"error_x\":{\"color\":\"#2a3f5f\"},\"error_y\":{\"color\":\"#2a3f5f\"},\"marker\":{\"line\":{\"color\":\"#E5ECF6\",\"width\":0.5},\"pattern\":{\"fillmode\":\"overlay\",\"size\":10,\"solidity\":0.2}},\"type\":\"bar\"}],\"barpolar\":[{\"marker\":{\"line\":{\"color\":\"#E5ECF6\",\"width\":0.5},\"pattern\":{\"fillmode\":\"overlay\",\"size\":10,\"solidity\":0.2}},\"type\":\"barpolar\"}],\"carpet\":[{\"aaxis\":{\"endlinecolor\":\"#2a3f5f\",\"gridcolor\":\"white\",\"linecolor\":\"white\",\"minorgridcolor\":\"white\",\"startlinecolor\":\"#2a3f5f\"},\"baxis\":{\"endlinecolor\":\"#2a3f5f\",\"gridcolor\":\"white\",\"linecolor\":\"white\",\"minorgridcolor\":\"white\",\"startlinecolor\":\"#2a3f5f\"},\"type\":\"carpet\"}],\"choropleth\":[{\"colorbar\":{\"outlinewidth\":0,\"ticks\":\"\"},\"type\":\"choropleth\"}],\"contour\":[{\"colorbar\":{\"outlinewidth\":0,\"ticks\":\"\"},\"colorscale\":[[0.0,\"#0d0887\"],[0.1111111111111111,\"#46039f\"],[0.2222222222222222,\"#7201a8\"],[0.3333333333333333,\"#9c179e\"],[0.4444444444444444,\"#bd3786\"],[0.5555555555555556,\"#d8576b\"],[0.6666666666666666,\"#ed7953\"],[0.7777777777777778,\"#fb9f3a\"],[0.8888888888888888,\"#fdca26\"],[1.0,\"#f0f921\"]],\"type\":\"contour\"}],\"contourcarpet\":[{\"colorbar\":{\"outlinewidth\":0,\"ticks\":\"\"},\"type\":\"contourcarpet\"}],\"heatmap\":[{\"colorbar\":{\"outlinewidth\":0,\"ticks\":\"\"},\"colorscale\":[[0.0,\"#0d0887\"],[0.1111111111111111,\"#46039f\"],[0.2222222222222222,\"#7201a8\"],[0.3333333333333333,\"#9c179e\"],[0.4444444444444444,\"#bd3786\"],[0.5555555555555556,\"#d8576b\"],[0.6666666666666666,\"#ed7953\"],[0.7777777777777778,\"#fb9f3a\"],[0.8888888888888888,\"#fdca26\"],[1.0,\"#f0f921\"]],\"type\":\"heatmap\"}],\"heatmapgl\":[{\"colorbar\":{\"outlinewidth\":0,\"ticks\":\"\"},\"colorscale\":[[0.0,\"#0d0887\"],[0.1111111111111111,\"#46039f\"],[0.2222222222222222,\"#7201a8\"],[0.3333333333333333,\"#9c179e\"],[0.4444444444444444,\"#bd3786\"],[0.5555555555555556,\"#d8576b\"],[0.6666666666666666,\"#ed7953\"],[0.7777777777777778,\"#fb9f3a\"],[0.8888888888888888,\"#fdca26\"],[1.0,\"#f0f921\"]],\"type\":\"heatmapgl\"}],\"histogram\":[{\"marker\":{\"pattern\":{\"fillmode\":\"overlay\",\"size\":10,\"solidity\":0.2}},\"type\":\"histogram\"}],\"histogram2d\":[{\"colorbar\":{\"outlinewidth\":0,\"ticks\":\"\"},\"colorscale\":[[0.0,\"#0d0887\"],[0.1111111111111111,\"#46039f\"],[0.2222222222222222,\"#7201a8\"],[0.3333333333333333,\"#9c179e\"],[0.4444444444444444,\"#bd3786\"],[0.5555555555555556,\"#d8576b\"],[0.6666666666666666,\"#ed7953\"],[0.7777777777777778,\"#fb9f3a\"],[0.8888888888888888,\"#fdca26\"],[1.0,\"#f0f921\"]],\"type\":\"histogram2d\"}],\"histogram2dcontour\":[{\"colorbar\":{\"outlinewidth\":0,\"ticks\":\"\"},\"colorscale\":[[0.0,\"#0d0887\"],[0.1111111111111111,\"#46039f\"],[0.2222222222222222,\"#7201a8\"],[0.3333333333333333,\"#9c179e\"],[0.4444444444444444,\"#bd3786\"],[0.5555555555555556,\"#d8576b\"],[0.6666666666666666,\"#ed7953\"],[0.7777777777777778,\"#fb9f3a\"],[0.8888888888888888,\"#fdca26\"],[1.0,\"#f0f921\"]],\"type\":\"histogram2dcontour\"}],\"mesh3d\":[{\"colorbar\":{\"outlinewidth\":0,\"ticks\":\"\"},\"type\":\"mesh3d\"}],\"parcoords\":[{\"line\":{\"colorbar\":{\"outlinewidth\":0,\"ticks\":\"\"}},\"type\":\"parcoords\"}],\"pie\":[{\"automargin\":true,\"type\":\"pie\"}],\"scatter\":[{\"marker\":{\"colorbar\":{\"outlinewidth\":0,\"ticks\":\"\"}},\"type\":\"scatter\"}],\"scatter3d\":[{\"line\":{\"colorbar\":{\"outlinewidth\":0,\"ticks\":\"\"}},\"marker\":{\"colorbar\":{\"outlinewidth\":0,\"ticks\":\"\"}},\"type\":\"scatter3d\"}],\"scattercarpet\":[{\"marker\":{\"colorbar\":{\"outlinewidth\":0,\"ticks\":\"\"}},\"type\":\"scattercarpet\"}],\"scattergeo\":[{\"marker\":{\"colorbar\":{\"outlinewidth\":0,\"ticks\":\"\"}},\"type\":\"scattergeo\"}],\"scattergl\":[{\"marker\":{\"colorbar\":{\"outlinewidth\":0,\"ticks\":\"\"}},\"type\":\"scattergl\"}],\"scattermapbox\":[{\"marker\":{\"colorbar\":{\"outlinewidth\":0,\"ticks\":\"\"}},\"type\":\"scattermapbox\"}],\"scatterpolar\":[{\"marker\":{\"colorbar\":{\"outlinewidth\":0,\"ticks\":\"\"}},\"type\":\"scatterpolar\"}],\"scatterpolargl\":[{\"marker\":{\"colorbar\":{\"outlinewidth\":0,\"ticks\":\"\"}},\"type\":\"scatterpolargl\"}],\"scatterternary\":[{\"marker\":{\"colorbar\":{\"outlinewidth\":0,\"ticks\":\"\"}},\"type\":\"scatterternary\"}],\"surface\":[{\"colorbar\":{\"outlinewidth\":0,\"ticks\":\"\"},\"colorscale\":[[0.0,\"#0d0887\"],[0.1111111111111111,\"#46039f\"],[0.2222222222222222,\"#7201a8\"],[0.3333333333333333,\"#9c179e\"],[0.4444444444444444,\"#bd3786\"],[0.5555555555555556,\"#d8576b\"],[0.6666666666666666,\"#ed7953\"],[0.7777777777777778,\"#fb9f3a\"],[0.8888888888888888,\"#fdca26\"],[1.0,\"#f0f921\"]],\"type\":\"surface\"}],\"table\":[{\"cells\":{\"fill\":{\"color\":\"#EBF0F8\"},\"line\":{\"color\":\"white\"}},\"header\":{\"fill\":{\"color\":\"#C8D4E3\"},\"line\":{\"color\":\"white\"}},\"type\":\"table\"}]},\"layout\":{\"annotationdefaults\":{\"arrowcolor\":\"#2a3f5f\",\"arrowhead\":0,\"arrowwidth\":1},\"autotypenumbers\":\"strict\",\"coloraxis\":{\"colorbar\":{\"outlinewidth\":0,\"ticks\":\"\"}},\"colorscale\":{\"diverging\":[[0,\"#8e0152\"],[0.1,\"#c51b7d\"],[0.2,\"#de77ae\"],[0.3,\"#f1b6da\"],[0.4,\"#fde0ef\"],[0.5,\"#f7f7f7\"],[0.6,\"#e6f5d0\"],[0.7,\"#b8e186\"],[0.8,\"#7fbc41\"],[0.9,\"#4d9221\"],[1,\"#276419\"]],\"sequential\":[[0.0,\"#0d0887\"],[0.1111111111111111,\"#46039f\"],[0.2222222222222222,\"#7201a8\"],[0.3333333333333333,\"#9c179e\"],[0.4444444444444444,\"#bd3786\"],[0.5555555555555556,\"#d8576b\"],[0.6666666666666666,\"#ed7953\"],[0.7777777777777778,\"#fb9f3a\"],[0.8888888888888888,\"#fdca26\"],[1.0,\"#f0f921\"]],\"sequentialminus\":[[0.0,\"#0d0887\"],[0.1111111111111111,\"#46039f\"],[0.2222222222222222,\"#7201a8\"],[0.3333333333333333,\"#9c179e\"],[0.4444444444444444,\"#bd3786\"],[0.5555555555555556,\"#d8576b\"],[0.6666666666666666,\"#ed7953\"],[0.7777777777777778,\"#fb9f3a\"],[0.8888888888888888,\"#fdca26\"],[1.0,\"#f0f921\"]]},\"colorway\":[\"#636efa\",\"#EF553B\",\"#00cc96\",\"#ab63fa\",\"#FFA15A\",\"#19d3f3\",\"#FF6692\",\"#B6E880\",\"#FF97FF\",\"#FECB52\"],\"font\":{\"color\":\"#2a3f5f\"},\"geo\":{\"bgcolor\":\"white\",\"lakecolor\":\"white\",\"landcolor\":\"#E5ECF6\",\"showlakes\":true,\"showland\":true,\"subunitcolor\":\"white\"},\"hoverlabel\":{\"align\":\"left\"},\"hovermode\":\"closest\",\"mapbox\":{\"style\":\"light\"},\"paper_bgcolor\":\"white\",\"plot_bgcolor\":\"#E5ECF6\",\"polar\":{\"angularaxis\":{\"gridcolor\":\"white\",\"linecolor\":\"white\",\"ticks\":\"\"},\"bgcolor\":\"#E5ECF6\",\"radialaxis\":{\"gridcolor\":\"white\",\"linecolor\":\"white\",\"ticks\":\"\"}},\"scene\":{\"xaxis\":{\"backgroundcolor\":\"#E5ECF6\",\"gridcolor\":\"white\",\"gridwidth\":2,\"linecolor\":\"white\",\"showbackground\":true,\"ticks\":\"\",\"zerolinecolor\":\"white\"},\"yaxis\":{\"backgroundcolor\":\"#E5ECF6\",\"gridcolor\":\"white\",\"gridwidth\":2,\"linecolor\":\"white\",\"showbackground\":true,\"ticks\":\"\",\"zerolinecolor\":\"white\"},\"zaxis\":{\"backgroundcolor\":\"#E5ECF6\",\"gridcolor\":\"white\",\"gridwidth\":2,\"linecolor\":\"white\",\"showbackground\":true,\"ticks\":\"\",\"zerolinecolor\":\"white\"}},\"shapedefaults\":{\"line\":{\"color\":\"#2a3f5f\"}},\"ternary\":{\"aaxis\":{\"gridcolor\":\"white\",\"linecolor\":\"white\",\"ticks\":\"\"},\"baxis\":{\"gridcolor\":\"white\",\"linecolor\":\"white\",\"ticks\":\"\"},\"bgcolor\":\"#E5ECF6\",\"caxis\":{\"gridcolor\":\"white\",\"linecolor\":\"white\",\"ticks\":\"\"}},\"title\":{\"x\":0.05},\"xaxis\":{\"automargin\":true,\"gridcolor\":\"white\",\"linecolor\":\"white\",\"ticks\":\"\",\"title\":{\"standoff\":15},\"zerolinecolor\":\"white\",\"zerolinewidth\":2},\"yaxis\":{\"automargin\":true,\"gridcolor\":\"white\",\"linecolor\":\"white\",\"ticks\":\"\",\"title\":{\"standoff\":15},\"zerolinecolor\":\"white\",\"zerolinewidth\":2}}},\"coloraxis\":{\"colorbar\":{\"title\":{\"text\":\"Sale_price_sqr_foot\"}},\"colorscale\":[[0.0,\"#000004\"],[0.1111111111111111,\"#1b0c41\"],[0.2222222222222222,\"#4a0c6b\"],[0.3333333333333333,\"#781c6d\"],[0.4444444444444444,\"#a52c60\"],[0.5555555555555556,\"#cf4446\"],[0.6666666666666666,\"#ed6925\"],[0.7777777777777778,\"#fb9b06\"],[0.8888888888888888,\"#f7d13d\"],[1.0,\"#fcffa4\"]]},\"legend\":{\"tracegroupgap\":0},\"margin\":{\"t\":60}},                        {\"responsive\": true}                    ).then(function(){\n",
       "                            \n",
       "var gd = document.getElementById('181cd39e-8aa5-4a68-b81f-96e7e8d552bb');\n",
       "var x = new MutationObserver(function (mutations, observer) {{\n",
       "        var display = window.getComputedStyle(gd).display;\n",
       "        if (!display || display === 'none') {{\n",
       "            console.log([gd, 'removed!']);\n",
       "            Plotly.purge(gd);\n",
       "            observer.disconnect();\n",
       "        }}\n",
       "}});\n",
       "\n",
       "// Listen for the removal of the full notebook cells\n",
       "var notebookContainer = gd.closest('#notebook-container');\n",
       "if (notebookContainer) {{\n",
       "    x.observe(notebookContainer, {childList: true});\n",
       "}}\n",
       "\n",
       "// Listen for the clearing of the current output cell\n",
       "var outputEl = gd.closest('.output');\n",
       "if (outputEl) {{\n",
       "    x.observe(outputEl, {childList: true});\n",
       "}}\n",
       "\n",
       "                        })                };                });            </script>        </div>"
      ]
     },
     "metadata": {},
     "output_type": "display_data"
    }
   ],
   "source": [
    "px.parallel_categories(\n",
    "    sfo_data.tail(10),\n",
    "    dimensions=[\"sale_price_sqr_foot\", \"housing_units\", \"gross_rent\"],\n",
    "    color=\"sale_price_sqr_foot\",\n",
    "    color_continuous_scale=px.colors.sequential.Inferno,\n",
    "    labels={\n",
    "        \"sale_price_sqr_foot\": \"Sale_price_sqr_foot\",\n",
    "        \"housing_units\": \"Housing_units\",\n",
    "        \"gross_rent\": \"Gross_rent\",\n",
    "    },\n",
    ")\n"
   ]
  },
  {
   "cell_type": "code",
   "execution_count": 87,
   "id": "c4944d3e-735f-4bf3-a204-6f7be1b9f2b7",
   "metadata": {},
   "outputs": [
    {
     "data": {
      "application/vnd.plotly.v1+json": {
       "config": {
        "plotlyServerURL": "https://plot.ly"
       },
       "data": [
        {
         "dimensions": [
          {
           "label": "Sale_price_sqr_foot",
           "values": [
            650.1244791945729,
            662.0136128276529,
            665.9640415783227,
            675.3502120510033,
            676.5065775293257,
            687.0875745178322,
            689.5558168113664,
            779.810842264425,
            788.8448175872469,
            903.9932576720645
           ]
          },
          {
           "label": "Housing_units",
           "values": [
            375805,
            378401,
            378401,
            378401,
            378401,
            382295,
            378401,
            375967.25,
            380348,
            377427.5
           ]
          },
          {
           "label": "Gross_rent",
           "values": [
            2099,
            2817.285714285714,
            2817.285714285714,
            2817.285714285714,
            2817.285714285714,
            3959,
            2817.285714285714,
            2155.25,
            3414,
            2555.1666666666665
           ]
          }
         ],
         "domain": {
          "x": [
           0,
           1
          ],
          "y": [
           0,
           1
          ]
         },
         "line": {
          "color": [
           650.1244791945729,
           662.0136128276529,
           665.9640415783227,
           675.3502120510033,
           676.5065775293257,
           687.0875745178322,
           689.5558168113664,
           779.810842264425,
           788.8448175872469,
           903.9932576720645
          ],
          "coloraxis": "coloraxis"
         },
         "name": "",
         "type": "parcoords"
        }
       ],
       "layout": {
        "autosize": true,
        "coloraxis": {
         "colorbar": {
          "title": {
           "text": "Sale_price_sqr_foot"
          }
         },
         "colorscale": [
          [
           0,
           "#000004"
          ],
          [
           0.1111111111111111,
           "#1b0c41"
          ],
          [
           0.2222222222222222,
           "#4a0c6b"
          ],
          [
           0.3333333333333333,
           "#781c6d"
          ],
          [
           0.4444444444444444,
           "#a52c60"
          ],
          [
           0.5555555555555556,
           "#cf4446"
          ],
          [
           0.6666666666666666,
           "#ed6925"
          ],
          [
           0.7777777777777778,
           "#fb9b06"
          ],
          [
           0.8888888888888888,
           "#f7d13d"
          ],
          [
           1,
           "#fcffa4"
          ]
         ]
        },
        "legend": {
         "tracegroupgap": 0
        },
        "margin": {
         "t": 60
        },
        "template": {
         "data": {
          "bar": [
           {
            "error_x": {
             "color": "#2a3f5f"
            },
            "error_y": {
             "color": "#2a3f5f"
            },
            "marker": {
             "line": {
              "color": "#E5ECF6",
              "width": 0.5
             },
             "pattern": {
              "fillmode": "overlay",
              "size": 10,
              "solidity": 0.2
             }
            },
            "type": "bar"
           }
          ],
          "barpolar": [
           {
            "marker": {
             "line": {
              "color": "#E5ECF6",
              "width": 0.5
             },
             "pattern": {
              "fillmode": "overlay",
              "size": 10,
              "solidity": 0.2
             }
            },
            "type": "barpolar"
           }
          ],
          "carpet": [
           {
            "aaxis": {
             "endlinecolor": "#2a3f5f",
             "gridcolor": "white",
             "linecolor": "white",
             "minorgridcolor": "white",
             "startlinecolor": "#2a3f5f"
            },
            "baxis": {
             "endlinecolor": "#2a3f5f",
             "gridcolor": "white",
             "linecolor": "white",
             "minorgridcolor": "white",
             "startlinecolor": "#2a3f5f"
            },
            "type": "carpet"
           }
          ],
          "choropleth": [
           {
            "colorbar": {
             "outlinewidth": 0,
             "ticks": ""
            },
            "type": "choropleth"
           }
          ],
          "contour": [
           {
            "colorbar": {
             "outlinewidth": 0,
             "ticks": ""
            },
            "colorscale": [
             [
              0,
              "#0d0887"
             ],
             [
              0.1111111111111111,
              "#46039f"
             ],
             [
              0.2222222222222222,
              "#7201a8"
             ],
             [
              0.3333333333333333,
              "#9c179e"
             ],
             [
              0.4444444444444444,
              "#bd3786"
             ],
             [
              0.5555555555555556,
              "#d8576b"
             ],
             [
              0.6666666666666666,
              "#ed7953"
             ],
             [
              0.7777777777777778,
              "#fb9f3a"
             ],
             [
              0.8888888888888888,
              "#fdca26"
             ],
             [
              1,
              "#f0f921"
             ]
            ],
            "type": "contour"
           }
          ],
          "contourcarpet": [
           {
            "colorbar": {
             "outlinewidth": 0,
             "ticks": ""
            },
            "type": "contourcarpet"
           }
          ],
          "heatmap": [
           {
            "colorbar": {
             "outlinewidth": 0,
             "ticks": ""
            },
            "colorscale": [
             [
              0,
              "#0d0887"
             ],
             [
              0.1111111111111111,
              "#46039f"
             ],
             [
              0.2222222222222222,
              "#7201a8"
             ],
             [
              0.3333333333333333,
              "#9c179e"
             ],
             [
              0.4444444444444444,
              "#bd3786"
             ],
             [
              0.5555555555555556,
              "#d8576b"
             ],
             [
              0.6666666666666666,
              "#ed7953"
             ],
             [
              0.7777777777777778,
              "#fb9f3a"
             ],
             [
              0.8888888888888888,
              "#fdca26"
             ],
             [
              1,
              "#f0f921"
             ]
            ],
            "type": "heatmap"
           }
          ],
          "heatmapgl": [
           {
            "colorbar": {
             "outlinewidth": 0,
             "ticks": ""
            },
            "colorscale": [
             [
              0,
              "#0d0887"
             ],
             [
              0.1111111111111111,
              "#46039f"
             ],
             [
              0.2222222222222222,
              "#7201a8"
             ],
             [
              0.3333333333333333,
              "#9c179e"
             ],
             [
              0.4444444444444444,
              "#bd3786"
             ],
             [
              0.5555555555555556,
              "#d8576b"
             ],
             [
              0.6666666666666666,
              "#ed7953"
             ],
             [
              0.7777777777777778,
              "#fb9f3a"
             ],
             [
              0.8888888888888888,
              "#fdca26"
             ],
             [
              1,
              "#f0f921"
             ]
            ],
            "type": "heatmapgl"
           }
          ],
          "histogram": [
           {
            "marker": {
             "pattern": {
              "fillmode": "overlay",
              "size": 10,
              "solidity": 0.2
             }
            },
            "type": "histogram"
           }
          ],
          "histogram2d": [
           {
            "colorbar": {
             "outlinewidth": 0,
             "ticks": ""
            },
            "colorscale": [
             [
              0,
              "#0d0887"
             ],
             [
              0.1111111111111111,
              "#46039f"
             ],
             [
              0.2222222222222222,
              "#7201a8"
             ],
             [
              0.3333333333333333,
              "#9c179e"
             ],
             [
              0.4444444444444444,
              "#bd3786"
             ],
             [
              0.5555555555555556,
              "#d8576b"
             ],
             [
              0.6666666666666666,
              "#ed7953"
             ],
             [
              0.7777777777777778,
              "#fb9f3a"
             ],
             [
              0.8888888888888888,
              "#fdca26"
             ],
             [
              1,
              "#f0f921"
             ]
            ],
            "type": "histogram2d"
           }
          ],
          "histogram2dcontour": [
           {
            "colorbar": {
             "outlinewidth": 0,
             "ticks": ""
            },
            "colorscale": [
             [
              0,
              "#0d0887"
             ],
             [
              0.1111111111111111,
              "#46039f"
             ],
             [
              0.2222222222222222,
              "#7201a8"
             ],
             [
              0.3333333333333333,
              "#9c179e"
             ],
             [
              0.4444444444444444,
              "#bd3786"
             ],
             [
              0.5555555555555556,
              "#d8576b"
             ],
             [
              0.6666666666666666,
              "#ed7953"
             ],
             [
              0.7777777777777778,
              "#fb9f3a"
             ],
             [
              0.8888888888888888,
              "#fdca26"
             ],
             [
              1,
              "#f0f921"
             ]
            ],
            "type": "histogram2dcontour"
           }
          ],
          "mesh3d": [
           {
            "colorbar": {
             "outlinewidth": 0,
             "ticks": ""
            },
            "type": "mesh3d"
           }
          ],
          "parcoords": [
           {
            "line": {
             "colorbar": {
              "outlinewidth": 0,
              "ticks": ""
             }
            },
            "type": "parcoords"
           }
          ],
          "pie": [
           {
            "automargin": true,
            "type": "pie"
           }
          ],
          "scatter": [
           {
            "marker": {
             "colorbar": {
              "outlinewidth": 0,
              "ticks": ""
             }
            },
            "type": "scatter"
           }
          ],
          "scatter3d": [
           {
            "line": {
             "colorbar": {
              "outlinewidth": 0,
              "ticks": ""
             }
            },
            "marker": {
             "colorbar": {
              "outlinewidth": 0,
              "ticks": ""
             }
            },
            "type": "scatter3d"
           }
          ],
          "scattercarpet": [
           {
            "marker": {
             "colorbar": {
              "outlinewidth": 0,
              "ticks": ""
             }
            },
            "type": "scattercarpet"
           }
          ],
          "scattergeo": [
           {
            "marker": {
             "colorbar": {
              "outlinewidth": 0,
              "ticks": ""
             }
            },
            "type": "scattergeo"
           }
          ],
          "scattergl": [
           {
            "marker": {
             "colorbar": {
              "outlinewidth": 0,
              "ticks": ""
             }
            },
            "type": "scattergl"
           }
          ],
          "scattermapbox": [
           {
            "marker": {
             "colorbar": {
              "outlinewidth": 0,
              "ticks": ""
             }
            },
            "type": "scattermapbox"
           }
          ],
          "scatterpolar": [
           {
            "marker": {
             "colorbar": {
              "outlinewidth": 0,
              "ticks": ""
             }
            },
            "type": "scatterpolar"
           }
          ],
          "scatterpolargl": [
           {
            "marker": {
             "colorbar": {
              "outlinewidth": 0,
              "ticks": ""
             }
            },
            "type": "scatterpolargl"
           }
          ],
          "scatterternary": [
           {
            "marker": {
             "colorbar": {
              "outlinewidth": 0,
              "ticks": ""
             }
            },
            "type": "scatterternary"
           }
          ],
          "surface": [
           {
            "colorbar": {
             "outlinewidth": 0,
             "ticks": ""
            },
            "colorscale": [
             [
              0,
              "#0d0887"
             ],
             [
              0.1111111111111111,
              "#46039f"
             ],
             [
              0.2222222222222222,
              "#7201a8"
             ],
             [
              0.3333333333333333,
              "#9c179e"
             ],
             [
              0.4444444444444444,
              "#bd3786"
             ],
             [
              0.5555555555555556,
              "#d8576b"
             ],
             [
              0.6666666666666666,
              "#ed7953"
             ],
             [
              0.7777777777777778,
              "#fb9f3a"
             ],
             [
              0.8888888888888888,
              "#fdca26"
             ],
             [
              1,
              "#f0f921"
             ]
            ],
            "type": "surface"
           }
          ],
          "table": [
           {
            "cells": {
             "fill": {
              "color": "#EBF0F8"
             },
             "line": {
              "color": "white"
             }
            },
            "header": {
             "fill": {
              "color": "#C8D4E3"
             },
             "line": {
              "color": "white"
             }
            },
            "type": "table"
           }
          ]
         },
         "layout": {
          "annotationdefaults": {
           "arrowcolor": "#2a3f5f",
           "arrowhead": 0,
           "arrowwidth": 1
          },
          "autotypenumbers": "strict",
          "coloraxis": {
           "colorbar": {
            "outlinewidth": 0,
            "ticks": ""
           }
          },
          "colorscale": {
           "diverging": [
            [
             0,
             "#8e0152"
            ],
            [
             0.1,
             "#c51b7d"
            ],
            [
             0.2,
             "#de77ae"
            ],
            [
             0.3,
             "#f1b6da"
            ],
            [
             0.4,
             "#fde0ef"
            ],
            [
             0.5,
             "#f7f7f7"
            ],
            [
             0.6,
             "#e6f5d0"
            ],
            [
             0.7,
             "#b8e186"
            ],
            [
             0.8,
             "#7fbc41"
            ],
            [
             0.9,
             "#4d9221"
            ],
            [
             1,
             "#276419"
            ]
           ],
           "sequential": [
            [
             0,
             "#0d0887"
            ],
            [
             0.1111111111111111,
             "#46039f"
            ],
            [
             0.2222222222222222,
             "#7201a8"
            ],
            [
             0.3333333333333333,
             "#9c179e"
            ],
            [
             0.4444444444444444,
             "#bd3786"
            ],
            [
             0.5555555555555556,
             "#d8576b"
            ],
            [
             0.6666666666666666,
             "#ed7953"
            ],
            [
             0.7777777777777778,
             "#fb9f3a"
            ],
            [
             0.8888888888888888,
             "#fdca26"
            ],
            [
             1,
             "#f0f921"
            ]
           ],
           "sequentialminus": [
            [
             0,
             "#0d0887"
            ],
            [
             0.1111111111111111,
             "#46039f"
            ],
            [
             0.2222222222222222,
             "#7201a8"
            ],
            [
             0.3333333333333333,
             "#9c179e"
            ],
            [
             0.4444444444444444,
             "#bd3786"
            ],
            [
             0.5555555555555556,
             "#d8576b"
            ],
            [
             0.6666666666666666,
             "#ed7953"
            ],
            [
             0.7777777777777778,
             "#fb9f3a"
            ],
            [
             0.8888888888888888,
             "#fdca26"
            ],
            [
             1,
             "#f0f921"
            ]
           ]
          },
          "colorway": [
           "#636efa",
           "#EF553B",
           "#00cc96",
           "#ab63fa",
           "#FFA15A",
           "#19d3f3",
           "#FF6692",
           "#B6E880",
           "#FF97FF",
           "#FECB52"
          ],
          "font": {
           "color": "#2a3f5f"
          },
          "geo": {
           "bgcolor": "white",
           "lakecolor": "white",
           "landcolor": "#E5ECF6",
           "showlakes": true,
           "showland": true,
           "subunitcolor": "white"
          },
          "hoverlabel": {
           "align": "left"
          },
          "hovermode": "closest",
          "mapbox": {
           "style": "light"
          },
          "paper_bgcolor": "white",
          "plot_bgcolor": "#E5ECF6",
          "polar": {
           "angularaxis": {
            "gridcolor": "white",
            "linecolor": "white",
            "ticks": ""
           },
           "bgcolor": "#E5ECF6",
           "radialaxis": {
            "gridcolor": "white",
            "linecolor": "white",
            "ticks": ""
           }
          },
          "scene": {
           "xaxis": {
            "backgroundcolor": "#E5ECF6",
            "gridcolor": "white",
            "gridwidth": 2,
            "linecolor": "white",
            "showbackground": true,
            "ticks": "",
            "zerolinecolor": "white"
           },
           "yaxis": {
            "backgroundcolor": "#E5ECF6",
            "gridcolor": "white",
            "gridwidth": 2,
            "linecolor": "white",
            "showbackground": true,
            "ticks": "",
            "zerolinecolor": "white"
           },
           "zaxis": {
            "backgroundcolor": "#E5ECF6",
            "gridcolor": "white",
            "gridwidth": 2,
            "linecolor": "white",
            "showbackground": true,
            "ticks": "",
            "zerolinecolor": "white"
           }
          },
          "shapedefaults": {
           "line": {
            "color": "#2a3f5f"
           }
          },
          "ternary": {
           "aaxis": {
            "gridcolor": "white",
            "linecolor": "white",
            "ticks": ""
           },
           "baxis": {
            "gridcolor": "white",
            "linecolor": "white",
            "ticks": ""
           },
           "bgcolor": "#E5ECF6",
           "caxis": {
            "gridcolor": "white",
            "linecolor": "white",
            "ticks": ""
           }
          },
          "title": {
           "x": 0.05
          },
          "xaxis": {
           "automargin": true,
           "gridcolor": "white",
           "linecolor": "white",
           "ticks": "",
           "title": {
            "standoff": 15
           },
           "zerolinecolor": "white",
           "zerolinewidth": 2
          },
          "yaxis": {
           "automargin": true,
           "gridcolor": "white",
           "linecolor": "white",
           "ticks": "",
           "title": {
            "standoff": 15
           },
           "zerolinecolor": "white",
           "zerolinewidth": 2
          }
         }
        }
       }
      },
      "image/png": "[encoded data removed]",
      "text/html": [
       "<div>                            <div id=\"d886b119-7b57-4453-a27d-f61b6d91c9f0\" class=\"plotly-graph-div\" style=\"height:525px; width:100%;\"></div>            <script type=\"text/javascript\">                require([\"plotly\"], function(Plotly) {                    window.PLOTLYENV=window.PLOTLYENV || {};                                    if (document.getElementById(\"d886b119-7b57-4453-a27d-f61b6d91c9f0\")) {                    Plotly.newPlot(                        \"d886b119-7b57-4453-a27d-f61b6d91c9f0\",                        [{\"dimensions\":[{\"label\":\"Sale_price_sqr_foot\",\"values\":[650.1244791945729,662.0136128276529,665.9640415783227,675.3502120510033,676.5065775293257,687.0875745178322,689.5558168113664,779.810842264425,788.8448175872469,903.9932576720645]},{\"label\":\"Housing_units\",\"values\":[375805.0,378401.0,378401.0,378401.0,378401.0,382295.0,378401.0,375967.25,380348.0,377427.5]},{\"label\":\"Gross_rent\",\"values\":[2099.0,2817.285714285714,2817.285714285714,2817.285714285714,2817.285714285714,3959.0,2817.285714285714,2155.25,3414.0,2555.1666666666665]}],\"domain\":{\"x\":[0.0,1.0],\"y\":[0.0,1.0]},\"line\":{\"color\":[650.1244791945729,662.0136128276529,665.9640415783227,675.3502120510033,676.5065775293257,687.0875745178322,689.5558168113664,779.810842264425,788.8448175872469,903.9932576720645],\"coloraxis\":\"coloraxis\"},\"name\":\"\",\"type\":\"parcoords\"}],                        {\"template\":{\"data\":{\"bar\":[{\"error_x\":{\"color\":\"#2a3f5f\"},\"error_y\":{\"color\":\"#2a3f5f\"},\"marker\":{\"line\":{\"color\":\"#E5ECF6\",\"width\":0.5},\"pattern\":{\"fillmode\":\"overlay\",\"size\":10,\"solidity\":0.2}},\"type\":\"bar\"}],\"barpolar\":[{\"marker\":{\"line\":{\"color\":\"#E5ECF6\",\"width\":0.5},\"pattern\":{\"fillmode\":\"overlay\",\"size\":10,\"solidity\":0.2}},\"type\":\"barpolar\"}],\"carpet\":[{\"aaxis\":{\"endlinecolor\":\"#2a3f5f\",\"gridcolor\":\"white\",\"linecolor\":\"white\",\"minorgridcolor\":\"white\",\"startlinecolor\":\"#2a3f5f\"},\"baxis\":{\"endlinecolor\":\"#2a3f5f\",\"gridcolor\":\"white\",\"linecolor\":\"white\",\"minorgridcolor\":\"white\",\"startlinecolor\":\"#2a3f5f\"},\"type\":\"carpet\"}],\"choropleth\":[{\"colorbar\":{\"outlinewidth\":0,\"ticks\":\"\"},\"type\":\"choropleth\"}],\"contour\":[{\"colorbar\":{\"outlinewidth\":0,\"ticks\":\"\"},\"colorscale\":[[0.0,\"#0d0887\"],[0.1111111111111111,\"#46039f\"],[0.2222222222222222,\"#7201a8\"],[0.3333333333333333,\"#9c179e\"],[0.4444444444444444,\"#bd3786\"],[0.5555555555555556,\"#d8576b\"],[0.6666666666666666,\"#ed7953\"],[0.7777777777777778,\"#fb9f3a\"],[0.8888888888888888,\"#fdca26\"],[1.0,\"#f0f921\"]],\"type\":\"contour\"}],\"contourcarpet\":[{\"colorbar\":{\"outlinewidth\":0,\"ticks\":\"\"},\"type\":\"contourcarpet\"}],\"heatmap\":[{\"colorbar\":{\"outlinewidth\":0,\"ticks\":\"\"},\"colorscale\":[[0.0,\"#0d0887\"],[0.1111111111111111,\"#46039f\"],[0.2222222222222222,\"#7201a8\"],[0.3333333333333333,\"#9c179e\"],[0.4444444444444444,\"#bd3786\"],[0.5555555555555556,\"#d8576b\"],[0.6666666666666666,\"#ed7953\"],[0.7777777777777778,\"#fb9f3a\"],[0.8888888888888888,\"#fdca26\"],[1.0,\"#f0f921\"]],\"type\":\"heatmap\"}],\"heatmapgl\":[{\"colorbar\":{\"outlinewidth\":0,\"ticks\":\"\"},\"colorscale\":[[0.0,\"#0d0887\"],[0.1111111111111111,\"#46039f\"],[0.2222222222222222,\"#7201a8\"],[0.3333333333333333,\"#9c179e\"],[0.4444444444444444,\"#bd3786\"],[0.5555555555555556,\"#d8576b\"],[0.6666666666666666,\"#ed7953\"],[0.7777777777777778,\"#fb9f3a\"],[0.8888888888888888,\"#fdca26\"],[1.0,\"#f0f921\"]],\"type\":\"heatmapgl\"}],\"histogram\":[{\"marker\":{\"pattern\":{\"fillmode\":\"overlay\",\"size\":10,\"solidity\":0.2}},\"type\":\"histogram\"}],\"histogram2d\":[{\"colorbar\":{\"outlinewidth\":0,\"ticks\":\"\"},\"colorscale\":[[0.0,\"#0d0887\"],[0.1111111111111111,\"#46039f\"],[0.2222222222222222,\"#7201a8\"],[0.3333333333333333,\"#9c179e\"],[0.4444444444444444,\"#bd3786\"],[0.5555555555555556,\"#d8576b\"],[0.6666666666666666,\"#ed7953\"],[0.7777777777777778,\"#fb9f3a\"],[0.8888888888888888,\"#fdca26\"],[1.0,\"#f0f921\"]],\"type\":\"histogram2d\"}],\"histogram2dcontour\":[{\"colorbar\":{\"outlinewidth\":0,\"ticks\":\"\"},\"colorscale\":[[0.0,\"#0d0887\"],[0.1111111111111111,\"#46039f\"],[0.2222222222222222,\"#7201a8\"],[0.3333333333333333,\"#9c179e\"],[0.4444444444444444,\"#bd3786\"],[0.5555555555555556,\"#d8576b\"],[0.6666666666666666,\"#ed7953\"],[0.7777777777777778,\"#fb9f3a\"],[0.8888888888888888,\"#fdca26\"],[1.0,\"#f0f921\"]],\"type\":\"histogram2dcontour\"}],\"mesh3d\":[{\"colorbar\":{\"outlinewidth\":0,\"ticks\":\"\"},\"type\":\"mesh3d\"}],\"parcoords\":[{\"line\":{\"colorbar\":{\"outlinewidth\":0,\"ticks\":\"\"}},\"type\":\"parcoords\"}],\"pie\":[{\"automargin\":true,\"type\":\"pie\"}],\"scatter\":[{\"marker\":{\"colorbar\":{\"outlinewidth\":0,\"ticks\":\"\"}},\"type\":\"scatter\"}],\"scatter3d\":[{\"line\":{\"colorbar\":{\"outlinewidth\":0,\"ticks\":\"\"}},\"marker\":{\"colorbar\":{\"outlinewidth\":0,\"ticks\":\"\"}},\"type\":\"scatter3d\"}],\"scattercarpet\":[{\"marker\":{\"colorbar\":{\"outlinewidth\":0,\"ticks\":\"\"}},\"type\":\"scattercarpet\"}],\"scattergeo\":[{\"marker\":{\"colorbar\":{\"outlinewidth\":0,\"ticks\":\"\"}},\"type\":\"scattergeo\"}],\"scattergl\":[{\"marker\":{\"colorbar\":{\"outlinewidth\":0,\"ticks\":\"\"}},\"type\":\"scattergl\"}],\"scattermapbox\":[{\"marker\":{\"colorbar\":{\"outlinewidth\":0,\"ticks\":\"\"}},\"type\":\"scattermapbox\"}],\"scatterpolar\":[{\"marker\":{\"colorbar\":{\"outlinewidth\":0,\"ticks\":\"\"}},\"type\":\"scatterpolar\"}],\"scatterpolargl\":[{\"marker\":{\"colorbar\":{\"outlinewidth\":0,\"ticks\":\"\"}},\"type\":\"scatterpolargl\"}],\"scatterternary\":[{\"marker\":{\"colorbar\":{\"outlinewidth\":0,\"ticks\":\"\"}},\"type\":\"scatterternary\"}],\"surface\":[{\"colorbar\":{\"outlinewidth\":0,\"ticks\":\"\"},\"colorscale\":[[0.0,\"#0d0887\"],[0.1111111111111111,\"#46039f\"],[0.2222222222222222,\"#7201a8\"],[0.3333333333333333,\"#9c179e\"],[0.4444444444444444,\"#bd3786\"],[0.5555555555555556,\"#d8576b\"],[0.6666666666666666,\"#ed7953\"],[0.7777777777777778,\"#fb9f3a\"],[0.8888888888888888,\"#fdca26\"],[1.0,\"#f0f921\"]],\"type\":\"surface\"}],\"table\":[{\"cells\":{\"fill\":{\"color\":\"#EBF0F8\"},\"line\":{\"color\":\"white\"}},\"header\":{\"fill\":{\"color\":\"#C8D4E3\"},\"line\":{\"color\":\"white\"}},\"type\":\"table\"}]},\"layout\":{\"annotationdefaults\":{\"arrowcolor\":\"#2a3f5f\",\"arrowhead\":0,\"arrowwidth\":1},\"autotypenumbers\":\"strict\",\"coloraxis\":{\"colorbar\":{\"outlinewidth\":0,\"ticks\":\"\"}},\"colorscale\":{\"diverging\":[[0,\"#8e0152\"],[0.1,\"#c51b7d\"],[0.2,\"#de77ae\"],[0.3,\"#f1b6da\"],[0.4,\"#fde0ef\"],[0.5,\"#f7f7f7\"],[0.6,\"#e6f5d0\"],[0.7,\"#b8e186\"],[0.8,\"#7fbc41\"],[0.9,\"#4d9221\"],[1,\"#276419\"]],\"sequential\":[[0.0,\"#0d0887\"],[0.1111111111111111,\"#46039f\"],[0.2222222222222222,\"#7201a8\"],[0.3333333333333333,\"#9c179e\"],[0.4444444444444444,\"#bd3786\"],[0.5555555555555556,\"#d8576b\"],[0.6666666666666666,\"#ed7953\"],[0.7777777777777778,\"#fb9f3a\"],[0.8888888888888888,\"#fdca26\"],[1.0,\"#f0f921\"]],\"sequentialminus\":[[0.0,\"#0d0887\"],[0.1111111111111111,\"#46039f\"],[0.2222222222222222,\"#7201a8\"],[0.3333333333333333,\"#9c179e\"],[0.4444444444444444,\"#bd3786\"],[0.5555555555555556,\"#d8576b\"],[0.6666666666666666,\"#ed7953\"],[0.7777777777777778,\"#fb9f3a\"],[0.8888888888888888,\"#fdca26\"],[1.0,\"#f0f921\"]]},\"colorway\":[\"#636efa\",\"#EF553B\",\"#00cc96\",\"#ab63fa\",\"#FFA15A\",\"#19d3f3\",\"#FF6692\",\"#B6E880\",\"#FF97FF\",\"#FECB52\"],\"font\":{\"color\":\"#2a3f5f\"},\"geo\":{\"bgcolor\":\"white\",\"lakecolor\":\"white\",\"landcolor\":\"#E5ECF6\",\"showlakes\":true,\"showland\":true,\"subunitcolor\":\"white\"},\"hoverlabel\":{\"align\":\"left\"},\"hovermode\":\"closest\",\"mapbox\":{\"style\":\"light\"},\"paper_bgcolor\":\"white\",\"plot_bgcolor\":\"#E5ECF6\",\"polar\":{\"angularaxis\":{\"gridcolor\":\"white\",\"linecolor\":\"white\",\"ticks\":\"\"},\"bgcolor\":\"#E5ECF6\",\"radialaxis\":{\"gridcolor\":\"white\",\"linecolor\":\"white\",\"ticks\":\"\"}},\"scene\":{\"xaxis\":{\"backgroundcolor\":\"#E5ECF6\",\"gridcolor\":\"white\",\"gridwidth\":2,\"linecolor\":\"white\",\"showbackground\":true,\"ticks\":\"\",\"zerolinecolor\":\"white\"},\"yaxis\":{\"backgroundcolor\":\"#E5ECF6\",\"gridcolor\":\"white\",\"gridwidth\":2,\"linecolor\":\"white\",\"showbackground\":true,\"ticks\":\"\",\"zerolinecolor\":\"white\"},\"zaxis\":{\"backgroundcolor\":\"#E5ECF6\",\"gridcolor\":\"white\",\"gridwidth\":2,\"linecolor\":\"white\",\"showbackground\":true,\"ticks\":\"\",\"zerolinecolor\":\"white\"}},\"shapedefaults\":{\"line\":{\"color\":\"#2a3f5f\"}},\"ternary\":{\"aaxis\":{\"gridcolor\":\"white\",\"linecolor\":\"white\",\"ticks\":\"\"},\"baxis\":{\"gridcolor\":\"white\",\"linecolor\":\"white\",\"ticks\":\"\"},\"bgcolor\":\"#E5ECF6\",\"caxis\":{\"gridcolor\":\"white\",\"linecolor\":\"white\",\"ticks\":\"\"}},\"title\":{\"x\":0.05},\"xaxis\":{\"automargin\":true,\"gridcolor\":\"white\",\"linecolor\":\"white\",\"ticks\":\"\",\"title\":{\"standoff\":15},\"zerolinecolor\":\"white\",\"zerolinewidth\":2},\"yaxis\":{\"automargin\":true,\"gridcolor\":\"white\",\"linecolor\":\"white\",\"ticks\":\"\",\"title\":{\"standoff\":15},\"zerolinecolor\":\"white\",\"zerolinewidth\":2}}},\"coloraxis\":{\"colorbar\":{\"title\":{\"text\":\"Sale_price_sqr_foot\"}},\"colorscale\":[[0.0,\"#000004\"],[0.1111111111111111,\"#1b0c41\"],[0.2222222222222222,\"#4a0c6b\"],[0.3333333333333333,\"#781c6d\"],[0.4444444444444444,\"#a52c60\"],[0.5555555555555556,\"#cf4446\"],[0.6666666666666666,\"#ed6925\"],[0.7777777777777778,\"#fb9b06\"],[0.8888888888888888,\"#f7d13d\"],[1.0,\"#fcffa4\"]]},\"legend\":{\"tracegroupgap\":0},\"margin\":{\"t\":60}},                        {\"responsive\": true}                    ).then(function(){\n",
       "                            \n",
       "var gd = document.getElementById('d886b119-7b57-4453-a27d-f61b6d91c9f0');\n",
       "var x = new MutationObserver(function (mutations, observer) {{\n",
       "        var display = window.getComputedStyle(gd).display;\n",
       "        if (!display || display === 'none') {{\n",
       "            console.log([gd, 'removed!']);\n",
       "            Plotly.purge(gd);\n",
       "            observer.disconnect();\n",
       "        }}\n",
       "}});\n",
       "\n",
       "// Listen for the removal of the full notebook cells\n",
       "var notebookContainer = gd.closest('#notebook-container');\n",
       "if (notebookContainer) {{\n",
       "    x.observe(notebookContainer, {childList: true});\n",
       "}}\n",
       "\n",
       "// Listen for the clearing of the current output cell\n",
       "var outputEl = gd.closest('.output');\n",
       "if (outputEl) {{\n",
       "    x.observe(outputEl, {childList: true});\n",
       "}}\n",
       "\n",
       "                        })                };                });            </script>        </div>"
      ]
     },
     "metadata": {},
     "output_type": "display_data"
    }
   ],
   "source": [
    "# Parallel Coordinates Plot\n",
    "px.parallel_coordinates(\n",
    "    sfo_data.tail(10),\n",
    "    dimensions=[\"sale_price_sqr_foot\", \"housing_units\", \"gross_rent\"],\n",
    "    color=\"sale_price_sqr_foot\",\n",
    "    color_continuous_scale=px.colors.sequential.Inferno,\n",
    "    labels={\n",
    "        \"sale_price_sqr_foot\": \"Sale_price_sqr_foot\",\n",
    "        \"housing_units\": \"Housing_units\",\n",
    "        \"gross_rent\": \"Gross_rent\",\n",
    "    },\n",
    ")"
   ]
  },
  {
   "cell_type": "code",
   "execution_count": null,
   "id": "922a75b2-c970-45d8-ade7-f01ef1d56535",
   "metadata": {},
   "outputs": [],
   "source": []
  }
 ],
 "metadata": {
  "kernelspec": {
   "display_name": "Python [conda env:pyvizenv] *",
   "language": "python",
   "name": "conda-env-pyvizenv-py"
  },
  "language_info": {
   "codemirror_mode": {
    "name": "ipython",
    "version": 3
   },
   "file_extension": ".py",
   "mimetype": "text/x-python",
   "name": "python",
   "nbconvert_exporter": "python",
   "pygments_lexer": "ipython3",
   "version": "3.7.11"
  }
 },
 "nbformat": 4,
 "nbformat_minor": 5
}
